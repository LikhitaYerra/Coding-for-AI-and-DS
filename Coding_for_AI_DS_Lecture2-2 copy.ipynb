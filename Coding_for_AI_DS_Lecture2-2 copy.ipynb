{
  "cells": [
    {
      "cell_type": "markdown",
      "metadata": {
        "id": "CPRtORPkyh0n"
      },
      "source": [
        "# AIVANCITY : Coding for AI and Data Science\n",
        "Marie Couvé - confidential"
      ]
    },
    {
      "cell_type": "markdown",
      "metadata": {
        "id": "nCWOJ2exS5ud"
      },
      "source": [
        "Your name :Likhita Yerra\n"
      ]
    },
    {
      "cell_type": "markdown",
      "metadata": {
        "id": "dFc-bC-ryrbu"
      },
      "source": [
        "## Lecture 2 : Data preprocessing with pandas\n",
        "\n",
        "During this lecture you will explore the Pandas library.\n",
        "You can refer to its documentation at any time : https://pandas.pydata.org/docs/index.html\n",
        "\n",
        "**Don't forget to comment everything you code and analyze your results**"
      ]
    },
    {
      "cell_type": "markdown",
      "metadata": {
        "id": "TtrPrupCZv1K"
      },
      "source": [
        "### Start by importing Pandas\n",
        "\n",
        "Pandas is usually imported under the <kbd>pd</kbd> alias\n",
        "You can refer to the Pandas package as pd"
      ]
    },
    {
      "cell_type": "code",
      "execution_count": 1,
      "metadata": {
        "id": "2foGdwIUZmkY"
      },
      "outputs": [],
      "source": [
        "import pandas as pd"
      ]
    },
    {
      "cell_type": "markdown",
      "metadata": {
        "id": "YKxBzyHxhdrR"
      },
      "source": [
        "### Pandas Data Structures"
      ]
    },
    {
      "cell_type": "markdown",
      "metadata": {
        "id": "nOSPWqL1hiHp"
      },
      "source": [
        "#### Pandas Series\n",
        "\n"
      ]
    },
    {
      "cell_type": "code",
      "execution_count": 2,
      "metadata": {
        "colab": {
          "base_uri": "https://localhost:8080/"
        },
        "id": "s3bc9WugaQNz",
        "outputId": "9765e9a6-7b8d-41bc-939f-27477c47c7fe"
      },
      "outputs": [
        {
          "output_type": "stream",
          "name": "stdout",
          "text": [
            "0    50\n",
            "1    64\n",
            "2    79\n",
            "3    88\n",
            "4    96\n",
            "dtype: int64\n"
          ]
        }
      ],
      "source": [
        "# Create your first Series from a list and print it\n",
        "\n",
        "my_list = [50,64,79,88,96]#stating a list\n",
        "first_series = pd.Series(my_list)#creating series from the list\n",
        "print(first_series)\n",
        "\n"
      ]
    },
    {
      "cell_type": "markdown",
      "metadata": {
        "id": "Jrtr3olVbbX2"
      },
      "source": [
        "here,index column is automatically generated.dtype represents the data type of the elements in the series."
      ]
    },
    {
      "cell_type": "code",
      "execution_count": 3,
      "metadata": {
        "colab": {
          "base_uri": "https://localhost:8080/"
        },
        "id": "OKtfKy6WaQBN",
        "outputId": "251199cc-1443-47f7-9db1-4b067b2de5d0"
      },
      "outputs": [
        {
          "output_type": "stream",
          "name": "stdout",
          "text": [
            "a    50\n",
            "b    64\n",
            "c    79\n",
            "d    88\n",
            "e    96\n",
            "dtype: int64\n"
          ]
        }
      ],
      "source": [
        "#  Add an index with letters (example : a, b, c) and print the Series\n",
        "\n",
        "index_labels = ['a','b','c','d','e']#customizing the index labels with letters\n",
        "series_A = pd.Series(my_list,index=index_labels)#creating series with letters as index\n",
        "print(series_A)#printing the series"
      ]
    },
    {
      "cell_type": "code",
      "execution_count": 4,
      "metadata": {
        "colab": {
          "base_uri": "https://localhost:8080/"
        },
        "id": "tWsbydV1iVPW",
        "outputId": "6ef9caf3-aa8a-4b0e-fb8e-cac37ac17eae"
      },
      "outputs": [
        {
          "output_type": "stream",
          "name": "stdout",
          "text": [
            "64\n"
          ]
        }
      ],
      "source": [
        "# Access the secong value of each of the previous series using the Index\n",
        "\n",
        "second_value_list = series_A['b']#accessing the second value using index labels\n",
        "print(second_value_list)#printing the second value\n"
      ]
    },
    {
      "cell_type": "code",
      "execution_count": 5,
      "metadata": {
        "colab": {
          "base_uri": "https://localhost:8080/"
        },
        "id": "_e8nuESAijqO",
        "outputId": "3e682c3e-982b-4226-f576-589977461851"
      },
      "outputs": [
        {
          "output_type": "stream",
          "name": "stdout",
          "text": [
            "a    50\n",
            "b    64\n",
            "c    79\n",
            "d    88\n",
            "e    96\n",
            "dtype: int64\n"
          ]
        }
      ],
      "source": [
        "# Try recreating the same Series from a dictionary\n",
        "\n",
        "dict_A = {'a':50,'b':64,'c':79,'d':88,'e':96}#stating the dictionary\n",
        "series_from_dict = pd.Series(dict_A)#creating series from dictionary\n",
        "print(series_from_dict)#printing the series\n"
      ]
    },
    {
      "cell_type": "markdown",
      "metadata": {
        "id": "5He7CSRRi9HR"
      },
      "source": [
        "#### Pandas DataFrames\n",
        "\n",
        "1. Create your first DataFrame from a dictionary and print it\n",
        "2. Try mixing data types in your DataFrame\n",
        "3. Locate a row using <kbd>loc</kbd>\n",
        "2. Add index and print the DataFrame\n",
        "3. Locate a row using <kbd>loc</kbd>"
      ]
    },
    {
      "cell_type": "code",
      "execution_count": 6,
      "metadata": {
        "colab": {
          "base_uri": "https://localhost:8080/"
        },
        "id": "WFumhF6vjzcO",
        "outputId": "0d9381fb-0ce1-4a3f-9baf-6934b53b5793"
      },
      "outputs": [
        {
          "output_type": "stream",
          "name": "stdout",
          "text": [
            "     Name Age     Hobby\n",
            "0    Mary  18   skating\n",
            "1     Amy  19  painting\n",
            "2  Shreya  20   cooking\n",
            "3    Wasu  21   reading\n",
            "4    Gabe  22    hiking\n"
          ]
        }
      ],
      "source": [
        "# Create your first DataFrame from a dictionary and print it\n",
        "\n",
        "dict_B = {\n",
        "    'Name':['Mary','Amy','Shreya','Wasu','Gabe'],\n",
        "    'Age':['18','19','20','21','22'],\n",
        "    'Hobby':['skating','painting','cooking','reading','hiking']\n",
        "}#stating the dictionary\n",
        "\n",
        "dataframe_A = pd.DataFrame(dict_B)#creating dataframe from the dictionary\n",
        "print(dataframe_A)#printing the dataframe\n",
        "\n"
      ]
    },
    {
      "cell_type": "code",
      "execution_count": 7,
      "metadata": {
        "colab": {
          "base_uri": "https://localhost:8080/"
        },
        "id": "iTeYOvnbd5Nw",
        "outputId": "a8007f94-1a31-462b-a4cf-c3464c6a75b6"
      },
      "outputs": [
        {
          "output_type": "stream",
          "name": "stdout",
          "text": [
            "     Name  Age     Hobby  IsStudent  Grade\n",
            "0    Mary   18   skating       True  88.80\n",
            "1     Amy   19  painting      False  77.70\n",
            "2  Shreya   20   cooking       True  66.60\n",
            "3    Wasu   21   reading      False  56.78\n",
            "4    Gabe   22    hiking       True  98.99\n"
          ]
        }
      ],
      "source": [
        "# Try mixing data types in your DataFrame\n",
        "\n",
        "dict_C = {\n",
        "    'Name':['Mary','Amy','Shreya','Wasu','Gabe'],\n",
        "    'Age':[18,19,20,21,22],\n",
        "    'Hobby':['skating','painting','cooking','reading','hiking'],\n",
        "    'IsStudent':[True,False,True,False,True],\n",
        "    'Grade':[88.8,77.7,66.6,56.78,98.99]\n",
        "}#stating the dictionary with mixed data types\n",
        "\n",
        "dataframe_B = pd.DataFrame(dict_C)#creating a dataframe from the dictionary\n",
        "\n",
        "print(dataframe_B)#printing the dataframe\n"
      ]
    },
    {
      "cell_type": "code",
      "execution_count": 8,
      "metadata": {
        "colab": {
          "base_uri": "https://localhost:8080/",
          "height": 80
        },
        "id": "d13Rs2WxkKXi",
        "outputId": "f1a39126-0577-4e31-e7db-aa08c5571dd9"
      },
      "outputs": [
        {
          "output_type": "execute_result",
          "data": {
            "text/plain": [
              "   Name  Age   Hobby  IsStudent  Grade\n",
              "4  Gabe   22  hiking       True  98.99"
            ],
            "text/html": [
              "\n",
              "  <div id=\"df-b6579790-f142-4d51-a205-439d76a7be77\" class=\"colab-df-container\">\n",
              "    <div>\n",
              "<style scoped>\n",
              "    .dataframe tbody tr th:only-of-type {\n",
              "        vertical-align: middle;\n",
              "    }\n",
              "\n",
              "    .dataframe tbody tr th {\n",
              "        vertical-align: top;\n",
              "    }\n",
              "\n",
              "    .dataframe thead th {\n",
              "        text-align: right;\n",
              "    }\n",
              "</style>\n",
              "<table border=\"1\" class=\"dataframe\">\n",
              "  <thead>\n",
              "    <tr style=\"text-align: right;\">\n",
              "      <th></th>\n",
              "      <th>Name</th>\n",
              "      <th>Age</th>\n",
              "      <th>Hobby</th>\n",
              "      <th>IsStudent</th>\n",
              "      <th>Grade</th>\n",
              "    </tr>\n",
              "  </thead>\n",
              "  <tbody>\n",
              "    <tr>\n",
              "      <th>4</th>\n",
              "      <td>Gabe</td>\n",
              "      <td>22</td>\n",
              "      <td>hiking</td>\n",
              "      <td>True</td>\n",
              "      <td>98.99</td>\n",
              "    </tr>\n",
              "  </tbody>\n",
              "</table>\n",
              "</div>\n",
              "    <div class=\"colab-df-buttons\">\n",
              "\n",
              "  <div class=\"colab-df-container\">\n",
              "    <button class=\"colab-df-convert\" onclick=\"convertToInteractive('df-b6579790-f142-4d51-a205-439d76a7be77')\"\n",
              "            title=\"Convert this dataframe to an interactive table.\"\n",
              "            style=\"display:none;\">\n",
              "\n",
              "  <svg xmlns=\"http://www.w3.org/2000/svg\" height=\"24px\" viewBox=\"0 -960 960 960\">\n",
              "    <path d=\"M120-120v-720h720v720H120Zm60-500h600v-160H180v160Zm220 220h160v-160H400v160Zm0 220h160v-160H400v160ZM180-400h160v-160H180v160Zm440 0h160v-160H620v160ZM180-180h160v-160H180v160Zm440 0h160v-160H620v160Z\"/>\n",
              "  </svg>\n",
              "    </button>\n",
              "\n",
              "  <style>\n",
              "    .colab-df-container {\n",
              "      display:flex;\n",
              "      gap: 12px;\n",
              "    }\n",
              "\n",
              "    .colab-df-convert {\n",
              "      background-color: #E8F0FE;\n",
              "      border: none;\n",
              "      border-radius: 50%;\n",
              "      cursor: pointer;\n",
              "      display: none;\n",
              "      fill: #1967D2;\n",
              "      height: 32px;\n",
              "      padding: 0 0 0 0;\n",
              "      width: 32px;\n",
              "    }\n",
              "\n",
              "    .colab-df-convert:hover {\n",
              "      background-color: #E2EBFA;\n",
              "      box-shadow: 0px 1px 2px rgba(60, 64, 67, 0.3), 0px 1px 3px 1px rgba(60, 64, 67, 0.15);\n",
              "      fill: #174EA6;\n",
              "    }\n",
              "\n",
              "    .colab-df-buttons div {\n",
              "      margin-bottom: 4px;\n",
              "    }\n",
              "\n",
              "    [theme=dark] .colab-df-convert {\n",
              "      background-color: #3B4455;\n",
              "      fill: #D2E3FC;\n",
              "    }\n",
              "\n",
              "    [theme=dark] .colab-df-convert:hover {\n",
              "      background-color: #434B5C;\n",
              "      box-shadow: 0px 1px 3px 1px rgba(0, 0, 0, 0.15);\n",
              "      filter: drop-shadow(0px 1px 2px rgba(0, 0, 0, 0.3));\n",
              "      fill: #FFFFFF;\n",
              "    }\n",
              "  </style>\n",
              "\n",
              "    <script>\n",
              "      const buttonEl =\n",
              "        document.querySelector('#df-b6579790-f142-4d51-a205-439d76a7be77 button.colab-df-convert');\n",
              "      buttonEl.style.display =\n",
              "        google.colab.kernel.accessAllowed ? 'block' : 'none';\n",
              "\n",
              "      async function convertToInteractive(key) {\n",
              "        const element = document.querySelector('#df-b6579790-f142-4d51-a205-439d76a7be77');\n",
              "        const dataTable =\n",
              "          await google.colab.kernel.invokeFunction('convertToInteractive',\n",
              "                                                    [key], {});\n",
              "        if (!dataTable) return;\n",
              "\n",
              "        const docLinkHtml = 'Like what you see? Visit the ' +\n",
              "          '<a target=\"_blank\" href=https://colab.research.google.com/notebooks/data_table.ipynb>data table notebook</a>'\n",
              "          + ' to learn more about interactive tables.';\n",
              "        element.innerHTML = '';\n",
              "        dataTable['output_type'] = 'display_data';\n",
              "        await google.colab.output.renderOutput(dataTable, element);\n",
              "        const docLink = document.createElement('div');\n",
              "        docLink.innerHTML = docLinkHtml;\n",
              "        element.appendChild(docLink);\n",
              "      }\n",
              "    </script>\n",
              "  </div>\n",
              "\n",
              "    </div>\n",
              "  </div>\n"
            ]
          },
          "metadata": {},
          "execution_count": 8
        }
      ],
      "source": [
        "# Locate a row\n",
        "dataframe_B.loc[dataframe_B['Hobby']=='hiking']#by label\n"
      ]
    },
    {
      "cell_type": "code",
      "execution_count": 9,
      "metadata": {
        "colab": {
          "base_uri": "https://localhost:8080/",
          "height": 235
        },
        "id": "maGvq_0td5Qs",
        "outputId": "c38623eb-1394-498d-d004-f0b1363d19de"
      },
      "outputs": [
        {
          "output_type": "execute_result",
          "data": {
            "text/plain": [
              "        Age     Hobby  IsStudent  Grade\n",
              "Name                                   \n",
              "Mary     18   skating       True  88.80\n",
              "Amy      19  painting      False  77.70\n",
              "Shreya   20   cooking       True  66.60\n",
              "Wasu     21   reading      False  56.78\n",
              "Gabe     22    hiking       True  98.99"
            ],
            "text/html": [
              "\n",
              "  <div id=\"df-6c78debb-2184-406f-9198-898d00452481\" class=\"colab-df-container\">\n",
              "    <div>\n",
              "<style scoped>\n",
              "    .dataframe tbody tr th:only-of-type {\n",
              "        vertical-align: middle;\n",
              "    }\n",
              "\n",
              "    .dataframe tbody tr th {\n",
              "        vertical-align: top;\n",
              "    }\n",
              "\n",
              "    .dataframe thead th {\n",
              "        text-align: right;\n",
              "    }\n",
              "</style>\n",
              "<table border=\"1\" class=\"dataframe\">\n",
              "  <thead>\n",
              "    <tr style=\"text-align: right;\">\n",
              "      <th></th>\n",
              "      <th>Age</th>\n",
              "      <th>Hobby</th>\n",
              "      <th>IsStudent</th>\n",
              "      <th>Grade</th>\n",
              "    </tr>\n",
              "    <tr>\n",
              "      <th>Name</th>\n",
              "      <th></th>\n",
              "      <th></th>\n",
              "      <th></th>\n",
              "      <th></th>\n",
              "    </tr>\n",
              "  </thead>\n",
              "  <tbody>\n",
              "    <tr>\n",
              "      <th>Mary</th>\n",
              "      <td>18</td>\n",
              "      <td>skating</td>\n",
              "      <td>True</td>\n",
              "      <td>88.80</td>\n",
              "    </tr>\n",
              "    <tr>\n",
              "      <th>Amy</th>\n",
              "      <td>19</td>\n",
              "      <td>painting</td>\n",
              "      <td>False</td>\n",
              "      <td>77.70</td>\n",
              "    </tr>\n",
              "    <tr>\n",
              "      <th>Shreya</th>\n",
              "      <td>20</td>\n",
              "      <td>cooking</td>\n",
              "      <td>True</td>\n",
              "      <td>66.60</td>\n",
              "    </tr>\n",
              "    <tr>\n",
              "      <th>Wasu</th>\n",
              "      <td>21</td>\n",
              "      <td>reading</td>\n",
              "      <td>False</td>\n",
              "      <td>56.78</td>\n",
              "    </tr>\n",
              "    <tr>\n",
              "      <th>Gabe</th>\n",
              "      <td>22</td>\n",
              "      <td>hiking</td>\n",
              "      <td>True</td>\n",
              "      <td>98.99</td>\n",
              "    </tr>\n",
              "  </tbody>\n",
              "</table>\n",
              "</div>\n",
              "    <div class=\"colab-df-buttons\">\n",
              "\n",
              "  <div class=\"colab-df-container\">\n",
              "    <button class=\"colab-df-convert\" onclick=\"convertToInteractive('df-6c78debb-2184-406f-9198-898d00452481')\"\n",
              "            title=\"Convert this dataframe to an interactive table.\"\n",
              "            style=\"display:none;\">\n",
              "\n",
              "  <svg xmlns=\"http://www.w3.org/2000/svg\" height=\"24px\" viewBox=\"0 -960 960 960\">\n",
              "    <path d=\"M120-120v-720h720v720H120Zm60-500h600v-160H180v160Zm220 220h160v-160H400v160Zm0 220h160v-160H400v160ZM180-400h160v-160H180v160Zm440 0h160v-160H620v160ZM180-180h160v-160H180v160Zm440 0h160v-160H620v160Z\"/>\n",
              "  </svg>\n",
              "    </button>\n",
              "\n",
              "  <style>\n",
              "    .colab-df-container {\n",
              "      display:flex;\n",
              "      gap: 12px;\n",
              "    }\n",
              "\n",
              "    .colab-df-convert {\n",
              "      background-color: #E8F0FE;\n",
              "      border: none;\n",
              "      border-radius: 50%;\n",
              "      cursor: pointer;\n",
              "      display: none;\n",
              "      fill: #1967D2;\n",
              "      height: 32px;\n",
              "      padding: 0 0 0 0;\n",
              "      width: 32px;\n",
              "    }\n",
              "\n",
              "    .colab-df-convert:hover {\n",
              "      background-color: #E2EBFA;\n",
              "      box-shadow: 0px 1px 2px rgba(60, 64, 67, 0.3), 0px 1px 3px 1px rgba(60, 64, 67, 0.15);\n",
              "      fill: #174EA6;\n",
              "    }\n",
              "\n",
              "    .colab-df-buttons div {\n",
              "      margin-bottom: 4px;\n",
              "    }\n",
              "\n",
              "    [theme=dark] .colab-df-convert {\n",
              "      background-color: #3B4455;\n",
              "      fill: #D2E3FC;\n",
              "    }\n",
              "\n",
              "    [theme=dark] .colab-df-convert:hover {\n",
              "      background-color: #434B5C;\n",
              "      box-shadow: 0px 1px 3px 1px rgba(0, 0, 0, 0.15);\n",
              "      filter: drop-shadow(0px 1px 2px rgba(0, 0, 0, 0.3));\n",
              "      fill: #FFFFFF;\n",
              "    }\n",
              "  </style>\n",
              "\n",
              "    <script>\n",
              "      const buttonEl =\n",
              "        document.querySelector('#df-6c78debb-2184-406f-9198-898d00452481 button.colab-df-convert');\n",
              "      buttonEl.style.display =\n",
              "        google.colab.kernel.accessAllowed ? 'block' : 'none';\n",
              "\n",
              "      async function convertToInteractive(key) {\n",
              "        const element = document.querySelector('#df-6c78debb-2184-406f-9198-898d00452481');\n",
              "        const dataTable =\n",
              "          await google.colab.kernel.invokeFunction('convertToInteractive',\n",
              "                                                    [key], {});\n",
              "        if (!dataTable) return;\n",
              "\n",
              "        const docLinkHtml = 'Like what you see? Visit the ' +\n",
              "          '<a target=\"_blank\" href=https://colab.research.google.com/notebooks/data_table.ipynb>data table notebook</a>'\n",
              "          + ' to learn more about interactive tables.';\n",
              "        element.innerHTML = '';\n",
              "        dataTable['output_type'] = 'display_data';\n",
              "        await google.colab.output.renderOutput(dataTable, element);\n",
              "        const docLink = document.createElement('div');\n",
              "        docLink.innerHTML = docLinkHtml;\n",
              "        element.appendChild(docLink);\n",
              "      }\n",
              "    </script>\n",
              "  </div>\n",
              "\n",
              "\n",
              "<div id=\"df-99b6fa00-dcb9-43b0-9d8d-15c75914d321\">\n",
              "  <button class=\"colab-df-quickchart\" onclick=\"quickchart('df-99b6fa00-dcb9-43b0-9d8d-15c75914d321')\"\n",
              "            title=\"Suggest charts\"\n",
              "            style=\"display:none;\">\n",
              "\n",
              "<svg xmlns=\"http://www.w3.org/2000/svg\" height=\"24px\"viewBox=\"0 0 24 24\"\n",
              "     width=\"24px\">\n",
              "    <g>\n",
              "        <path d=\"M19 3H5c-1.1 0-2 .9-2 2v14c0 1.1.9 2 2 2h14c1.1 0 2-.9 2-2V5c0-1.1-.9-2-2-2zM9 17H7v-7h2v7zm4 0h-2V7h2v10zm4 0h-2v-4h2v4z\"/>\n",
              "    </g>\n",
              "</svg>\n",
              "  </button>\n",
              "\n",
              "<style>\n",
              "  .colab-df-quickchart {\n",
              "      --bg-color: #E8F0FE;\n",
              "      --fill-color: #1967D2;\n",
              "      --hover-bg-color: #E2EBFA;\n",
              "      --hover-fill-color: #174EA6;\n",
              "      --disabled-fill-color: #AAA;\n",
              "      --disabled-bg-color: #DDD;\n",
              "  }\n",
              "\n",
              "  [theme=dark] .colab-df-quickchart {\n",
              "      --bg-color: #3B4455;\n",
              "      --fill-color: #D2E3FC;\n",
              "      --hover-bg-color: #434B5C;\n",
              "      --hover-fill-color: #FFFFFF;\n",
              "      --disabled-bg-color: #3B4455;\n",
              "      --disabled-fill-color: #666;\n",
              "  }\n",
              "\n",
              "  .colab-df-quickchart {\n",
              "    background-color: var(--bg-color);\n",
              "    border: none;\n",
              "    border-radius: 50%;\n",
              "    cursor: pointer;\n",
              "    display: none;\n",
              "    fill: var(--fill-color);\n",
              "    height: 32px;\n",
              "    padding: 0;\n",
              "    width: 32px;\n",
              "  }\n",
              "\n",
              "  .colab-df-quickchart:hover {\n",
              "    background-color: var(--hover-bg-color);\n",
              "    box-shadow: 0 1px 2px rgba(60, 64, 67, 0.3), 0 1px 3px 1px rgba(60, 64, 67, 0.15);\n",
              "    fill: var(--button-hover-fill-color);\n",
              "  }\n",
              "\n",
              "  .colab-df-quickchart-complete:disabled,\n",
              "  .colab-df-quickchart-complete:disabled:hover {\n",
              "    background-color: var(--disabled-bg-color);\n",
              "    fill: var(--disabled-fill-color);\n",
              "    box-shadow: none;\n",
              "  }\n",
              "\n",
              "  .colab-df-spinner {\n",
              "    border: 2px solid var(--fill-color);\n",
              "    border-color: transparent;\n",
              "    border-bottom-color: var(--fill-color);\n",
              "    animation:\n",
              "      spin 1s steps(1) infinite;\n",
              "  }\n",
              "\n",
              "  @keyframes spin {\n",
              "    0% {\n",
              "      border-color: transparent;\n",
              "      border-bottom-color: var(--fill-color);\n",
              "      border-left-color: var(--fill-color);\n",
              "    }\n",
              "    20% {\n",
              "      border-color: transparent;\n",
              "      border-left-color: var(--fill-color);\n",
              "      border-top-color: var(--fill-color);\n",
              "    }\n",
              "    30% {\n",
              "      border-color: transparent;\n",
              "      border-left-color: var(--fill-color);\n",
              "      border-top-color: var(--fill-color);\n",
              "      border-right-color: var(--fill-color);\n",
              "    }\n",
              "    40% {\n",
              "      border-color: transparent;\n",
              "      border-right-color: var(--fill-color);\n",
              "      border-top-color: var(--fill-color);\n",
              "    }\n",
              "    60% {\n",
              "      border-color: transparent;\n",
              "      border-right-color: var(--fill-color);\n",
              "    }\n",
              "    80% {\n",
              "      border-color: transparent;\n",
              "      border-right-color: var(--fill-color);\n",
              "      border-bottom-color: var(--fill-color);\n",
              "    }\n",
              "    90% {\n",
              "      border-color: transparent;\n",
              "      border-bottom-color: var(--fill-color);\n",
              "    }\n",
              "  }\n",
              "</style>\n",
              "\n",
              "  <script>\n",
              "    async function quickchart(key) {\n",
              "      const quickchartButtonEl =\n",
              "        document.querySelector('#' + key + ' button');\n",
              "      quickchartButtonEl.disabled = true;  // To prevent multiple clicks.\n",
              "      quickchartButtonEl.classList.add('colab-df-spinner');\n",
              "      try {\n",
              "        const charts = await google.colab.kernel.invokeFunction(\n",
              "            'suggestCharts', [key], {});\n",
              "      } catch (error) {\n",
              "        console.error('Error during call to suggestCharts:', error);\n",
              "      }\n",
              "      quickchartButtonEl.classList.remove('colab-df-spinner');\n",
              "      quickchartButtonEl.classList.add('colab-df-quickchart-complete');\n",
              "    }\n",
              "    (() => {\n",
              "      let quickchartButtonEl =\n",
              "        document.querySelector('#df-99b6fa00-dcb9-43b0-9d8d-15c75914d321 button');\n",
              "      quickchartButtonEl.style.display =\n",
              "        google.colab.kernel.accessAllowed ? 'block' : 'none';\n",
              "    })();\n",
              "  </script>\n",
              "</div>\n",
              "    </div>\n",
              "  </div>\n"
            ]
          },
          "metadata": {},
          "execution_count": 9
        }
      ],
      "source": [
        "# Add index and print the DataFrame\n",
        "\n",
        "dataframe_B.set_index('Name')#setting Name column as index\n"
      ]
    },
    {
      "cell_type": "markdown",
      "metadata": {
        "id": "y2HrC_Epk0TY"
      },
      "source": [
        "### Import, read and access data"
      ]
    },
    {
      "cell_type": "markdown",
      "metadata": {
        "id": "8DUEZIiAz01r"
      },
      "source": [
        "#### About the dataset\n",
        "\n",
        "The dataset used for this part is the California Housing Dataset.\n",
        "\n",
        "Download it from blackboard and add it to your colab environment.\n",
        "\n",
        "Read here for more information : https://developers.google.com/machine-learning/crash-course/california-housing-data-description?hl=en"
      ]
    },
    {
      "cell_type": "code",
      "execution_count": 10,
      "metadata": {
        "colab": {
          "base_uri": "https://localhost:8080/"
        },
        "id": "CBFImdL4zVoB",
        "outputId": "08b13252-ce8f-4ce0-9928-d8bcc84d853b"
      },
      "outputs": [
        {
          "output_type": "stream",
          "name": "stdout",
          "text": [
            "       longitude  latitude  housing_median_age  total_rooms  total_bedrooms  \\\n",
            "0        -114.31     34.19                15.0       5612.0          1283.0   \n",
            "1        -114.47     34.40                19.0       7650.0          1901.0   \n",
            "2        -114.56     33.69                17.0        720.0           174.0   \n",
            "3        -114.57     33.64                14.0       1501.0           337.0   \n",
            "4        -114.57     33.57                20.0       1454.0           326.0   \n",
            "...          ...       ...                 ...          ...             ...   \n",
            "16995    -124.26     40.58                52.0       2217.0           394.0   \n",
            "16996    -124.27     40.69                36.0       2349.0           528.0   \n",
            "16997    -124.30     41.84                17.0       2677.0           531.0   \n",
            "16998    -124.30     41.80                19.0       2672.0           552.0   \n",
            "16999    -124.35     40.54                52.0       1820.0           300.0   \n",
            "\n",
            "       population  households  median_income  median_house_value  \n",
            "0          1015.0       472.0         1.4936             66900.0  \n",
            "1          1129.0       463.0         1.8200             80100.0  \n",
            "2           333.0       117.0         1.6509             85700.0  \n",
            "3           515.0       226.0         3.1917             73400.0  \n",
            "4           624.0       262.0         1.9250             65500.0  \n",
            "...           ...         ...            ...                 ...  \n",
            "16995       907.0       369.0         2.3571            111400.0  \n",
            "16996      1194.0       465.0         2.5179             79000.0  \n",
            "16997      1244.0       456.0         3.0313            103600.0  \n",
            "16998      1298.0       478.0         1.9797             85800.0  \n",
            "16999       806.0       270.0         3.0147             94600.0  \n",
            "\n",
            "[17000 rows x 9 columns]\n"
          ]
        }
      ],
      "source": [
        "# Import the dataset using read_csv()\n",
        "\n",
        "df =pd.read_csv(\"california_housing.csv\")#reading csv into dataframe\n",
        "print(df)#printing dataframe\n"
      ]
    },
    {
      "cell_type": "code",
      "execution_count": 11,
      "metadata": {
        "colab": {
          "base_uri": "https://localhost:8080/",
          "height": 224
        },
        "id": "s9lUHLfs0s7o",
        "outputId": "e750967a-73b7-4557-ee72-133a91d72e7b"
      },
      "outputs": [
        {
          "output_type": "execute_result",
          "data": {
            "text/plain": [
              "   longitude  latitude  housing_median_age  total_rooms  total_bedrooms  \\\n",
              "0    -114.31     34.19                15.0       5612.0          1283.0   \n",
              "1    -114.47     34.40                19.0       7650.0          1901.0   \n",
              "2    -114.56     33.69                17.0        720.0           174.0   \n",
              "3    -114.57     33.64                14.0       1501.0           337.0   \n",
              "4    -114.57     33.57                20.0       1454.0           326.0   \n",
              "\n",
              "   population  households  median_income  median_house_value  \n",
              "0      1015.0       472.0         1.4936             66900.0  \n",
              "1      1129.0       463.0         1.8200             80100.0  \n",
              "2       333.0       117.0         1.6509             85700.0  \n",
              "3       515.0       226.0         3.1917             73400.0  \n",
              "4       624.0       262.0         1.9250             65500.0  "
            ],
            "text/html": [
              "\n",
              "  <div id=\"df-5b2c4b99-d9e6-42bb-b578-c89db7762597\" class=\"colab-df-container\">\n",
              "    <div>\n",
              "<style scoped>\n",
              "    .dataframe tbody tr th:only-of-type {\n",
              "        vertical-align: middle;\n",
              "    }\n",
              "\n",
              "    .dataframe tbody tr th {\n",
              "        vertical-align: top;\n",
              "    }\n",
              "\n",
              "    .dataframe thead th {\n",
              "        text-align: right;\n",
              "    }\n",
              "</style>\n",
              "<table border=\"1\" class=\"dataframe\">\n",
              "  <thead>\n",
              "    <tr style=\"text-align: right;\">\n",
              "      <th></th>\n",
              "      <th>longitude</th>\n",
              "      <th>latitude</th>\n",
              "      <th>housing_median_age</th>\n",
              "      <th>total_rooms</th>\n",
              "      <th>total_bedrooms</th>\n",
              "      <th>population</th>\n",
              "      <th>households</th>\n",
              "      <th>median_income</th>\n",
              "      <th>median_house_value</th>\n",
              "    </tr>\n",
              "  </thead>\n",
              "  <tbody>\n",
              "    <tr>\n",
              "      <th>0</th>\n",
              "      <td>-114.31</td>\n",
              "      <td>34.19</td>\n",
              "      <td>15.0</td>\n",
              "      <td>5612.0</td>\n",
              "      <td>1283.0</td>\n",
              "      <td>1015.0</td>\n",
              "      <td>472.0</td>\n",
              "      <td>1.4936</td>\n",
              "      <td>66900.0</td>\n",
              "    </tr>\n",
              "    <tr>\n",
              "      <th>1</th>\n",
              "      <td>-114.47</td>\n",
              "      <td>34.40</td>\n",
              "      <td>19.0</td>\n",
              "      <td>7650.0</td>\n",
              "      <td>1901.0</td>\n",
              "      <td>1129.0</td>\n",
              "      <td>463.0</td>\n",
              "      <td>1.8200</td>\n",
              "      <td>80100.0</td>\n",
              "    </tr>\n",
              "    <tr>\n",
              "      <th>2</th>\n",
              "      <td>-114.56</td>\n",
              "      <td>33.69</td>\n",
              "      <td>17.0</td>\n",
              "      <td>720.0</td>\n",
              "      <td>174.0</td>\n",
              "      <td>333.0</td>\n",
              "      <td>117.0</td>\n",
              "      <td>1.6509</td>\n",
              "      <td>85700.0</td>\n",
              "    </tr>\n",
              "    <tr>\n",
              "      <th>3</th>\n",
              "      <td>-114.57</td>\n",
              "      <td>33.64</td>\n",
              "      <td>14.0</td>\n",
              "      <td>1501.0</td>\n",
              "      <td>337.0</td>\n",
              "      <td>515.0</td>\n",
              "      <td>226.0</td>\n",
              "      <td>3.1917</td>\n",
              "      <td>73400.0</td>\n",
              "    </tr>\n",
              "    <tr>\n",
              "      <th>4</th>\n",
              "      <td>-114.57</td>\n",
              "      <td>33.57</td>\n",
              "      <td>20.0</td>\n",
              "      <td>1454.0</td>\n",
              "      <td>326.0</td>\n",
              "      <td>624.0</td>\n",
              "      <td>262.0</td>\n",
              "      <td>1.9250</td>\n",
              "      <td>65500.0</td>\n",
              "    </tr>\n",
              "  </tbody>\n",
              "</table>\n",
              "</div>\n",
              "    <div class=\"colab-df-buttons\">\n",
              "\n",
              "  <div class=\"colab-df-container\">\n",
              "    <button class=\"colab-df-convert\" onclick=\"convertToInteractive('df-5b2c4b99-d9e6-42bb-b578-c89db7762597')\"\n",
              "            title=\"Convert this dataframe to an interactive table.\"\n",
              "            style=\"display:none;\">\n",
              "\n",
              "  <svg xmlns=\"http://www.w3.org/2000/svg\" height=\"24px\" viewBox=\"0 -960 960 960\">\n",
              "    <path d=\"M120-120v-720h720v720H120Zm60-500h600v-160H180v160Zm220 220h160v-160H400v160Zm0 220h160v-160H400v160ZM180-400h160v-160H180v160Zm440 0h160v-160H620v160ZM180-180h160v-160H180v160Zm440 0h160v-160H620v160Z\"/>\n",
              "  </svg>\n",
              "    </button>\n",
              "\n",
              "  <style>\n",
              "    .colab-df-container {\n",
              "      display:flex;\n",
              "      gap: 12px;\n",
              "    }\n",
              "\n",
              "    .colab-df-convert {\n",
              "      background-color: #E8F0FE;\n",
              "      border: none;\n",
              "      border-radius: 50%;\n",
              "      cursor: pointer;\n",
              "      display: none;\n",
              "      fill: #1967D2;\n",
              "      height: 32px;\n",
              "      padding: 0 0 0 0;\n",
              "      width: 32px;\n",
              "    }\n",
              "\n",
              "    .colab-df-convert:hover {\n",
              "      background-color: #E2EBFA;\n",
              "      box-shadow: 0px 1px 2px rgba(60, 64, 67, 0.3), 0px 1px 3px 1px rgba(60, 64, 67, 0.15);\n",
              "      fill: #174EA6;\n",
              "    }\n",
              "\n",
              "    .colab-df-buttons div {\n",
              "      margin-bottom: 4px;\n",
              "    }\n",
              "\n",
              "    [theme=dark] .colab-df-convert {\n",
              "      background-color: #3B4455;\n",
              "      fill: #D2E3FC;\n",
              "    }\n",
              "\n",
              "    [theme=dark] .colab-df-convert:hover {\n",
              "      background-color: #434B5C;\n",
              "      box-shadow: 0px 1px 3px 1px rgba(0, 0, 0, 0.15);\n",
              "      filter: drop-shadow(0px 1px 2px rgba(0, 0, 0, 0.3));\n",
              "      fill: #FFFFFF;\n",
              "    }\n",
              "  </style>\n",
              "\n",
              "    <script>\n",
              "      const buttonEl =\n",
              "        document.querySelector('#df-5b2c4b99-d9e6-42bb-b578-c89db7762597 button.colab-df-convert');\n",
              "      buttonEl.style.display =\n",
              "        google.colab.kernel.accessAllowed ? 'block' : 'none';\n",
              "\n",
              "      async function convertToInteractive(key) {\n",
              "        const element = document.querySelector('#df-5b2c4b99-d9e6-42bb-b578-c89db7762597');\n",
              "        const dataTable =\n",
              "          await google.colab.kernel.invokeFunction('convertToInteractive',\n",
              "                                                    [key], {});\n",
              "        if (!dataTable) return;\n",
              "\n",
              "        const docLinkHtml = 'Like what you see? Visit the ' +\n",
              "          '<a target=\"_blank\" href=https://colab.research.google.com/notebooks/data_table.ipynb>data table notebook</a>'\n",
              "          + ' to learn more about interactive tables.';\n",
              "        element.innerHTML = '';\n",
              "        dataTable['output_type'] = 'display_data';\n",
              "        await google.colab.output.renderOutput(dataTable, element);\n",
              "        const docLink = document.createElement('div');\n",
              "        docLink.innerHTML = docLinkHtml;\n",
              "        element.appendChild(docLink);\n",
              "      }\n",
              "    </script>\n",
              "  </div>\n",
              "\n",
              "\n",
              "<div id=\"df-5655a6ce-b68e-46d7-ba61-b5aa6eaa7037\">\n",
              "  <button class=\"colab-df-quickchart\" onclick=\"quickchart('df-5655a6ce-b68e-46d7-ba61-b5aa6eaa7037')\"\n",
              "            title=\"Suggest charts\"\n",
              "            style=\"display:none;\">\n",
              "\n",
              "<svg xmlns=\"http://www.w3.org/2000/svg\" height=\"24px\"viewBox=\"0 0 24 24\"\n",
              "     width=\"24px\">\n",
              "    <g>\n",
              "        <path d=\"M19 3H5c-1.1 0-2 .9-2 2v14c0 1.1.9 2 2 2h14c1.1 0 2-.9 2-2V5c0-1.1-.9-2-2-2zM9 17H7v-7h2v7zm4 0h-2V7h2v10zm4 0h-2v-4h2v4z\"/>\n",
              "    </g>\n",
              "</svg>\n",
              "  </button>\n",
              "\n",
              "<style>\n",
              "  .colab-df-quickchart {\n",
              "      --bg-color: #E8F0FE;\n",
              "      --fill-color: #1967D2;\n",
              "      --hover-bg-color: #E2EBFA;\n",
              "      --hover-fill-color: #174EA6;\n",
              "      --disabled-fill-color: #AAA;\n",
              "      --disabled-bg-color: #DDD;\n",
              "  }\n",
              "\n",
              "  [theme=dark] .colab-df-quickchart {\n",
              "      --bg-color: #3B4455;\n",
              "      --fill-color: #D2E3FC;\n",
              "      --hover-bg-color: #434B5C;\n",
              "      --hover-fill-color: #FFFFFF;\n",
              "      --disabled-bg-color: #3B4455;\n",
              "      --disabled-fill-color: #666;\n",
              "  }\n",
              "\n",
              "  .colab-df-quickchart {\n",
              "    background-color: var(--bg-color);\n",
              "    border: none;\n",
              "    border-radius: 50%;\n",
              "    cursor: pointer;\n",
              "    display: none;\n",
              "    fill: var(--fill-color);\n",
              "    height: 32px;\n",
              "    padding: 0;\n",
              "    width: 32px;\n",
              "  }\n",
              "\n",
              "  .colab-df-quickchart:hover {\n",
              "    background-color: var(--hover-bg-color);\n",
              "    box-shadow: 0 1px 2px rgba(60, 64, 67, 0.3), 0 1px 3px 1px rgba(60, 64, 67, 0.15);\n",
              "    fill: var(--button-hover-fill-color);\n",
              "  }\n",
              "\n",
              "  .colab-df-quickchart-complete:disabled,\n",
              "  .colab-df-quickchart-complete:disabled:hover {\n",
              "    background-color: var(--disabled-bg-color);\n",
              "    fill: var(--disabled-fill-color);\n",
              "    box-shadow: none;\n",
              "  }\n",
              "\n",
              "  .colab-df-spinner {\n",
              "    border: 2px solid var(--fill-color);\n",
              "    border-color: transparent;\n",
              "    border-bottom-color: var(--fill-color);\n",
              "    animation:\n",
              "      spin 1s steps(1) infinite;\n",
              "  }\n",
              "\n",
              "  @keyframes spin {\n",
              "    0% {\n",
              "      border-color: transparent;\n",
              "      border-bottom-color: var(--fill-color);\n",
              "      border-left-color: var(--fill-color);\n",
              "    }\n",
              "    20% {\n",
              "      border-color: transparent;\n",
              "      border-left-color: var(--fill-color);\n",
              "      border-top-color: var(--fill-color);\n",
              "    }\n",
              "    30% {\n",
              "      border-color: transparent;\n",
              "      border-left-color: var(--fill-color);\n",
              "      border-top-color: var(--fill-color);\n",
              "      border-right-color: var(--fill-color);\n",
              "    }\n",
              "    40% {\n",
              "      border-color: transparent;\n",
              "      border-right-color: var(--fill-color);\n",
              "      border-top-color: var(--fill-color);\n",
              "    }\n",
              "    60% {\n",
              "      border-color: transparent;\n",
              "      border-right-color: var(--fill-color);\n",
              "    }\n",
              "    80% {\n",
              "      border-color: transparent;\n",
              "      border-right-color: var(--fill-color);\n",
              "      border-bottom-color: var(--fill-color);\n",
              "    }\n",
              "    90% {\n",
              "      border-color: transparent;\n",
              "      border-bottom-color: var(--fill-color);\n",
              "    }\n",
              "  }\n",
              "</style>\n",
              "\n",
              "  <script>\n",
              "    async function quickchart(key) {\n",
              "      const quickchartButtonEl =\n",
              "        document.querySelector('#' + key + ' button');\n",
              "      quickchartButtonEl.disabled = true;  // To prevent multiple clicks.\n",
              "      quickchartButtonEl.classList.add('colab-df-spinner');\n",
              "      try {\n",
              "        const charts = await google.colab.kernel.invokeFunction(\n",
              "            'suggestCharts', [key], {});\n",
              "      } catch (error) {\n",
              "        console.error('Error during call to suggestCharts:', error);\n",
              "      }\n",
              "      quickchartButtonEl.classList.remove('colab-df-spinner');\n",
              "      quickchartButtonEl.classList.add('colab-df-quickchart-complete');\n",
              "    }\n",
              "    (() => {\n",
              "      let quickchartButtonEl =\n",
              "        document.querySelector('#df-5655a6ce-b68e-46d7-ba61-b5aa6eaa7037 button');\n",
              "      quickchartButtonEl.style.display =\n",
              "        google.colab.kernel.accessAllowed ? 'block' : 'none';\n",
              "    })();\n",
              "  </script>\n",
              "</div>\n",
              "    </div>\n",
              "  </div>\n"
            ]
          },
          "metadata": {},
          "execution_count": 11
        }
      ],
      "source": [
        "# View a sample using head()\n",
        "df.head()#first 5 rows"
      ]
    },
    {
      "cell_type": "markdown",
      "metadata": {
        "id": "_Zg83Qx23R0l"
      },
      "source": [
        "#### Access data"
      ]
    },
    {
      "cell_type": "code",
      "execution_count": 12,
      "metadata": {
        "colab": {
          "base_uri": "https://localhost:8080/"
        },
        "id": "pw4vmwBp06kt",
        "outputId": "f6c0a6d8-6f1a-4fad-df10-db938dc33504"
      },
      "outputs": [
        {
          "output_type": "stream",
          "name": "stdout",
          "text": [
            "0        5612.0\n",
            "1        7650.0\n",
            "2         720.0\n",
            "3        1501.0\n",
            "4        1454.0\n",
            "          ...  \n",
            "16995    2217.0\n",
            "16996    2349.0\n",
            "16997    2677.0\n",
            "16998    2672.0\n",
            "16999    1820.0\n",
            "Name: total_rooms, Length: 17000, dtype: float64\n"
          ]
        }
      ],
      "source": [
        "# Get the total_rooms column as a Series\n",
        "\n",
        "total_rooms_series = df['total_rooms']\n",
        "print(total_rooms_series)\n"
      ]
    },
    {
      "cell_type": "code",
      "execution_count": 13,
      "metadata": {
        "colab": {
          "base_uri": "https://localhost:8080/"
        },
        "id": "aGKWc_oi1Jmn",
        "outputId": "7c9eb2d6-e1bd-49c8-ee88-28e0b725225b"
      },
      "outputs": [
        {
          "output_type": "stream",
          "name": "stdout",
          "text": [
            "       total_rooms\n",
            "0           5612.0\n",
            "1           7650.0\n",
            "2            720.0\n",
            "3           1501.0\n",
            "4           1454.0\n",
            "...            ...\n",
            "16995       2217.0\n",
            "16996       2349.0\n",
            "16997       2677.0\n",
            "16998       2672.0\n",
            "16999       1820.0\n",
            "\n",
            "[17000 rows x 1 columns]\n"
          ]
        }
      ],
      "source": [
        "# Get the total_rooms column as a DataFrame\n",
        "\n",
        "total_rooms_df = df[['total_rooms']]\n",
        "print(total_rooms_df)\n"
      ]
    },
    {
      "cell_type": "code",
      "execution_count": 14,
      "metadata": {
        "colab": {
          "base_uri": "https://localhost:8080/"
        },
        "id": "q10VlyWM1UF6",
        "outputId": "2725b5bb-2dac-4ce3-f355-fb1543ab2c78"
      },
      "outputs": [
        {
          "output_type": "stream",
          "name": "stdout",
          "text": [
            "       longitude  latitude\n",
            "0        -114.31     34.19\n",
            "1        -114.47     34.40\n",
            "2        -114.56     33.69\n",
            "3        -114.57     33.64\n",
            "4        -114.57     33.57\n",
            "...          ...       ...\n",
            "16995    -124.26     40.58\n",
            "16996    -124.27     40.69\n",
            "16997    -124.30     41.84\n",
            "16998    -124.30     41.80\n",
            "16999    -124.35     40.54\n",
            "\n",
            "[17000 rows x 2 columns]\n"
          ]
        }
      ],
      "source": [
        "# Create a new dataframe with the two columns longitude and latitude\n",
        "new_df = df[['longitude','latitude']]\n",
        "print(new_df)"
      ]
    },
    {
      "cell_type": "code",
      "execution_count": 15,
      "metadata": {
        "colab": {
          "base_uri": "https://localhost:8080/"
        },
        "id": "p8O5a-q42IMM",
        "outputId": "96d406e0-023f-4939-d2be-19b74978edf2"
      },
      "outputs": [
        {
          "output_type": "stream",
          "name": "stdout",
          "text": [
            "-114.31\n"
          ]
        }
      ],
      "source": [
        "# Access the value on the first row and first colum by position\n",
        "value_first_row_first_column = df.iloc[0,0]\n",
        "print(value_first_row_first_column)"
      ]
    },
    {
      "cell_type": "code",
      "execution_count": 16,
      "metadata": {
        "colab": {
          "base_uri": "https://localhost:8080/"
        },
        "id": "wpIiFGW02Rvh",
        "outputId": "15ac44bb-aa26-4edc-f812-6413562134af"
      },
      "outputs": [
        {
          "output_type": "stream",
          "name": "stdout",
          "text": [
            "5612.0\n"
          ]
        }
      ],
      "source": [
        "# Access the value on the first row and fourth colum by position\n",
        "value_first_row_fourth_column = df.iloc[0,3]\n",
        "print(value_first_row_fourth_column)"
      ]
    },
    {
      "cell_type": "code",
      "execution_count": 17,
      "metadata": {
        "colab": {
          "base_uri": "https://localhost:8080/"
        },
        "id": "3xQLgzwl2a2i",
        "outputId": "50499cdb-dbdf-4ea1-fe93-7855da1d2068"
      },
      "outputs": [
        {
          "output_type": "stream",
          "name": "stdout",
          "text": [
            "-114.57\n"
          ]
        }
      ],
      "source": [
        "# Access the value on the fourth row and first colum by position\n",
        "value_fourth_row_first_column = df.iloc[3,0]\n",
        "print(value_fourth_row_first_column)"
      ]
    },
    {
      "cell_type": "code",
      "execution_count": 18,
      "metadata": {
        "colab": {
          "base_uri": "https://localhost:8080/"
        },
        "id": "c6_p377F2rBN",
        "outputId": "8b7f4469-95e6-4e6c-c80c-93a985070472"
      },
      "outputs": [
        {
          "output_type": "stream",
          "name": "stdout",
          "text": [
            "-114.31\n",
            "1283.0\n",
            "-114.57\n"
          ]
        }
      ],
      "source": [
        "# Access the same values using the column names\n",
        "value_first_row_first_column_name= df.at[0,'longitude']\n",
        "value_first_row_fourth_column_name= df.at[0,'total_bedrooms']\n",
        "value_fourth_row_first_column_name= df.at[3,'longitude']\n",
        "\n",
        "print(value_first_row_first_column_name)\n",
        "print(value_first_row_fourth_column_name)\n",
        "print(value_fourth_row_first_column_name)"
      ]
    },
    {
      "cell_type": "markdown",
      "metadata": {
        "id": "ORFzpLpH3V_p"
      },
      "source": [
        "#### Slice dataframe"
      ]
    },
    {
      "cell_type": "code",
      "execution_count": 19,
      "metadata": {
        "colab": {
          "base_uri": "https://localhost:8080/"
        },
        "id": "4HUSXm5Y3Z5q",
        "outputId": "36fe7a47-6778-4c2c-cc4e-16445fd43a1d"
      },
      "outputs": [
        {
          "output_type": "stream",
          "name": "stdout",
          "text": [
            "   longitude  latitude  housing_median_age\n",
            "0    -114.31     34.19                15.0\n",
            "1    -114.47     34.40                19.0\n"
          ]
        }
      ],
      "source": [
        "# Get the first two rows and three colums by position\n",
        "first_two_rows_three_columns_position = df.iloc[:2,:3]\n",
        "print(first_two_rows_three_columns_position)"
      ]
    },
    {
      "cell_type": "code",
      "execution_count": 20,
      "metadata": {
        "colab": {
          "base_uri": "https://localhost:8080/"
        },
        "id": "sP-Ke_S53p0b",
        "outputId": "64e7843d-1b3a-4c0f-bb16-1798ce384d5e"
      },
      "outputs": [
        {
          "output_type": "stream",
          "name": "stdout",
          "text": [
            "   longitude  latitude  total_rooms\n",
            "0    -114.31     34.19       5612.0\n",
            "1    -114.47     34.40       7650.0\n"
          ]
        }
      ],
      "source": [
        "# Get the first two rows and three colums using names\n",
        "first_two_rows_three_columns_names = df.loc[:,['longitude','latitude','total_rooms']].head(2)\n",
        "print(first_two_rows_three_columns_names)"
      ]
    },
    {
      "cell_type": "markdown",
      "metadata": {
        "id": "OQm0It5qWqJR"
      },
      "source": [
        "head(2) will display only first 2 rows,\n",
        "iloc is for integer positions,\n",
        "loc is for column names"
      ]
    },
    {
      "cell_type": "markdown",
      "metadata": {
        "id": "S7aP_Nv_k41t"
      },
      "source": [
        "### Retrieving Series and DataFrame Information\n",
        "\n",
        "Pandas contains a lot of functions and methods to get basic information about a dataframe or a serie.\n",
        "\n",
        "Discover by executing them and comment what each of them does."
      ]
    },
    {
      "cell_type": "markdown",
      "metadata": {
        "id": "BZc0zu805Clr"
      },
      "source": [
        "#### Basic information"
      ]
    },
    {
      "cell_type": "code",
      "execution_count": 21,
      "metadata": {
        "colab": {
          "base_uri": "https://localhost:8080/"
        },
        "id": "Xgh2KGKU4nG-",
        "outputId": "7ec6460a-6068-4558-f15a-06b728cf2d13"
      },
      "outputs": [
        {
          "output_type": "execute_result",
          "data": {
            "text/plain": [
              "(17000, 9)"
            ]
          },
          "metadata": {},
          "execution_count": 21
        }
      ],
      "source": [
        "df.shape#dimensions:rows and columns"
      ]
    },
    {
      "cell_type": "code",
      "execution_count": 22,
      "metadata": {
        "colab": {
          "base_uri": "https://localhost:8080/"
        },
        "id": "I-nxwh6x46Dd",
        "outputId": "4d091f62-7911-4ea7-fd11-affb7733f7f5"
      },
      "outputs": [
        {
          "output_type": "execute_result",
          "data": {
            "text/plain": [
              "RangeIndex(start=0, stop=17000, step=1)"
            ]
          },
          "metadata": {},
          "execution_count": 22
        }
      ],
      "source": [
        "df.index#index or row labels"
      ]
    },
    {
      "cell_type": "code",
      "execution_count": 23,
      "metadata": {
        "colab": {
          "base_uri": "https://localhost:8080/"
        },
        "id": "udGGQe7M47WL",
        "outputId": "9ba10f7b-cfa3-4ea3-beb9-f1244f2714b0"
      },
      "outputs": [
        {
          "output_type": "execute_result",
          "data": {
            "text/plain": [
              "Index(['longitude', 'latitude', 'housing_median_age', 'total_rooms',\n",
              "       'total_bedrooms', 'population', 'households', 'median_income',\n",
              "       'median_house_value'],\n",
              "      dtype='object')"
            ]
          },
          "metadata": {},
          "execution_count": 23
        }
      ],
      "source": [
        "df.columns#column labels as index objects"
      ]
    },
    {
      "cell_type": "code",
      "execution_count": 24,
      "metadata": {
        "colab": {
          "base_uri": "https://localhost:8080/"
        },
        "id": "0UhwE5BA485T",
        "outputId": "898755aa-6e62-4326-c93b-f49ea1a822a2"
      },
      "outputs": [
        {
          "output_type": "stream",
          "name": "stdout",
          "text": [
            "<class 'pandas.core.frame.DataFrame'>\n",
            "RangeIndex: 17000 entries, 0 to 16999\n",
            "Data columns (total 9 columns):\n",
            " #   Column              Non-Null Count  Dtype  \n",
            "---  ------              --------------  -----  \n",
            " 0   longitude           17000 non-null  float64\n",
            " 1   latitude            17000 non-null  float64\n",
            " 2   housing_median_age  17000 non-null  float64\n",
            " 3   total_rooms         17000 non-null  float64\n",
            " 4   total_bedrooms      17000 non-null  float64\n",
            " 5   population          17000 non-null  float64\n",
            " 6   households          17000 non-null  float64\n",
            " 7   median_income       17000 non-null  float64\n",
            " 8   median_house_value  17000 non-null  float64\n",
            "dtypes: float64(9)\n",
            "memory usage: 1.2 MB\n"
          ]
        }
      ],
      "source": [
        "df.info()#understanding the structure;index info,data columns,memory usage,data types"
      ]
    },
    {
      "cell_type": "code",
      "execution_count": 25,
      "metadata": {
        "colab": {
          "base_uri": "https://localhost:8080/"
        },
        "id": "Fsr-wQPr4-2T",
        "outputId": "f0ba7415-3886-42e2-9e37-9277cfd1ed08"
      },
      "outputs": [
        {
          "output_type": "execute_result",
          "data": {
            "text/plain": [
              "longitude             17000\n",
              "latitude              17000\n",
              "housing_median_age    17000\n",
              "total_rooms           17000\n",
              "total_bedrooms        17000\n",
              "population            17000\n",
              "households            17000\n",
              "median_income         17000\n",
              "median_house_value    17000\n",
              "dtype: int64"
            ]
          },
          "metadata": {},
          "execution_count": 25
        }
      ],
      "source": [
        "df.count()#non missing values in each column"
      ]
    },
    {
      "cell_type": "markdown",
      "metadata": {
        "id": "-koiPpeG5FLc"
      },
      "source": [
        "#### Summary"
      ]
    },
    {
      "cell_type": "code",
      "execution_count": 26,
      "metadata": {
        "colab": {
          "base_uri": "https://localhost:8080/"
        },
        "id": "C9zk0-E75A8p",
        "outputId": "88b39958-789d-47a9-c15f-928802262b7a"
      },
      "outputs": [
        {
          "output_type": "execute_result",
          "data": {
            "text/plain": [
              "longitude            -2.032556e+06\n",
              "latitude              6.056288e+05\n",
              "housing_median_age    4.860190e+05\n",
              "total_rooms           4.494230e+07\n",
              "total_bedrooms        9.169984e+06\n",
              "population            2.430276e+07\n",
              "households            8.520773e+06\n",
              "median_income         6.602083e+04\n",
              "median_house_value    3.524116e+09\n",
              "dtype: float64"
            ]
          },
          "metadata": {},
          "execution_count": 26
        }
      ],
      "source": [
        "df.sum()#sum of values of each column"
      ]
    },
    {
      "cell_type": "code",
      "execution_count": 27,
      "metadata": {
        "colab": {
          "base_uri": "https://localhost:8080/",
          "height": 439
        },
        "id": "piEG6lhh5IeX",
        "outputId": "9c058515-5e46-4960-d02f-5431ffc98de9"
      },
      "outputs": [
        {
          "output_type": "execute_result",
          "data": {
            "text/plain": [
              "        longitude   latitude  housing_median_age  total_rooms  total_bedrooms  \\\n",
              "0         -114.31      34.19                15.0       5612.0          1283.0   \n",
              "1         -228.78      68.59                34.0      13262.0          3184.0   \n",
              "2         -343.34     102.28                51.0      13982.0          3358.0   \n",
              "3         -457.91     135.92                65.0      15483.0          3695.0   \n",
              "4         -572.48     169.49                85.0      16937.0          4021.0   \n",
              "...           ...        ...                 ...          ...             ...   \n",
              "16995 -2032058.62  605463.95            485895.0   44932777.0       9168073.0   \n",
              "16996 -2032182.89  605504.64            485931.0   44935126.0       9168601.0   \n",
              "16997 -2032307.19  605546.48            485948.0   44937803.0       9169132.0   \n",
              "16998 -2032431.49  605588.28            485967.0   44940475.0       9169684.0   \n",
              "16999 -2032555.84  605628.82            486019.0   44942295.0       9169984.0   \n",
              "\n",
              "       population  households  median_income  median_house_value  \n",
              "0          1015.0       472.0         1.4936        6.690000e+04  \n",
              "1          2144.0       935.0         3.3136        1.470000e+05  \n",
              "2          2477.0      1052.0         4.9645        2.327000e+05  \n",
              "3          2992.0      1278.0         8.1562        3.061000e+05  \n",
              "4          3616.0      1540.0        10.0812        3.716000e+05  \n",
              "...           ...         ...            ...                 ...  \n",
              "16995  24298215.0   8519104.0     66010.2841        3.523753e+09  \n",
              "16996  24299409.0   8519569.0     66012.8020        3.523832e+09  \n",
              "16997  24300653.0   8520025.0     66015.8333        3.523935e+09  \n",
              "16998  24301951.0   8520503.0     66017.8130        3.524021e+09  \n",
              "16999  24302757.0   8520773.0     66020.8277        3.524116e+09  \n",
              "\n",
              "[17000 rows x 9 columns]"
            ],
            "text/html": [
              "\n",
              "  <div id=\"df-cfc3f473-a73d-48b0-a81c-38fe43b79131\" class=\"colab-df-container\">\n",
              "    <div>\n",
              "<style scoped>\n",
              "    .dataframe tbody tr th:only-of-type {\n",
              "        vertical-align: middle;\n",
              "    }\n",
              "\n",
              "    .dataframe tbody tr th {\n",
              "        vertical-align: top;\n",
              "    }\n",
              "\n",
              "    .dataframe thead th {\n",
              "        text-align: right;\n",
              "    }\n",
              "</style>\n",
              "<table border=\"1\" class=\"dataframe\">\n",
              "  <thead>\n",
              "    <tr style=\"text-align: right;\">\n",
              "      <th></th>\n",
              "      <th>longitude</th>\n",
              "      <th>latitude</th>\n",
              "      <th>housing_median_age</th>\n",
              "      <th>total_rooms</th>\n",
              "      <th>total_bedrooms</th>\n",
              "      <th>population</th>\n",
              "      <th>households</th>\n",
              "      <th>median_income</th>\n",
              "      <th>median_house_value</th>\n",
              "    </tr>\n",
              "  </thead>\n",
              "  <tbody>\n",
              "    <tr>\n",
              "      <th>0</th>\n",
              "      <td>-114.31</td>\n",
              "      <td>34.19</td>\n",
              "      <td>15.0</td>\n",
              "      <td>5612.0</td>\n",
              "      <td>1283.0</td>\n",
              "      <td>1015.0</td>\n",
              "      <td>472.0</td>\n",
              "      <td>1.4936</td>\n",
              "      <td>6.690000e+04</td>\n",
              "    </tr>\n",
              "    <tr>\n",
              "      <th>1</th>\n",
              "      <td>-228.78</td>\n",
              "      <td>68.59</td>\n",
              "      <td>34.0</td>\n",
              "      <td>13262.0</td>\n",
              "      <td>3184.0</td>\n",
              "      <td>2144.0</td>\n",
              "      <td>935.0</td>\n",
              "      <td>3.3136</td>\n",
              "      <td>1.470000e+05</td>\n",
              "    </tr>\n",
              "    <tr>\n",
              "      <th>2</th>\n",
              "      <td>-343.34</td>\n",
              "      <td>102.28</td>\n",
              "      <td>51.0</td>\n",
              "      <td>13982.0</td>\n",
              "      <td>3358.0</td>\n",
              "      <td>2477.0</td>\n",
              "      <td>1052.0</td>\n",
              "      <td>4.9645</td>\n",
              "      <td>2.327000e+05</td>\n",
              "    </tr>\n",
              "    <tr>\n",
              "      <th>3</th>\n",
              "      <td>-457.91</td>\n",
              "      <td>135.92</td>\n",
              "      <td>65.0</td>\n",
              "      <td>15483.0</td>\n",
              "      <td>3695.0</td>\n",
              "      <td>2992.0</td>\n",
              "      <td>1278.0</td>\n",
              "      <td>8.1562</td>\n",
              "      <td>3.061000e+05</td>\n",
              "    </tr>\n",
              "    <tr>\n",
              "      <th>4</th>\n",
              "      <td>-572.48</td>\n",
              "      <td>169.49</td>\n",
              "      <td>85.0</td>\n",
              "      <td>16937.0</td>\n",
              "      <td>4021.0</td>\n",
              "      <td>3616.0</td>\n",
              "      <td>1540.0</td>\n",
              "      <td>10.0812</td>\n",
              "      <td>3.716000e+05</td>\n",
              "    </tr>\n",
              "    <tr>\n",
              "      <th>...</th>\n",
              "      <td>...</td>\n",
              "      <td>...</td>\n",
              "      <td>...</td>\n",
              "      <td>...</td>\n",
              "      <td>...</td>\n",
              "      <td>...</td>\n",
              "      <td>...</td>\n",
              "      <td>...</td>\n",
              "      <td>...</td>\n",
              "    </tr>\n",
              "    <tr>\n",
              "      <th>16995</th>\n",
              "      <td>-2032058.62</td>\n",
              "      <td>605463.95</td>\n",
              "      <td>485895.0</td>\n",
              "      <td>44932777.0</td>\n",
              "      <td>9168073.0</td>\n",
              "      <td>24298215.0</td>\n",
              "      <td>8519104.0</td>\n",
              "      <td>66010.2841</td>\n",
              "      <td>3.523753e+09</td>\n",
              "    </tr>\n",
              "    <tr>\n",
              "      <th>16996</th>\n",
              "      <td>-2032182.89</td>\n",
              "      <td>605504.64</td>\n",
              "      <td>485931.0</td>\n",
              "      <td>44935126.0</td>\n",
              "      <td>9168601.0</td>\n",
              "      <td>24299409.0</td>\n",
              "      <td>8519569.0</td>\n",
              "      <td>66012.8020</td>\n",
              "      <td>3.523832e+09</td>\n",
              "    </tr>\n",
              "    <tr>\n",
              "      <th>16997</th>\n",
              "      <td>-2032307.19</td>\n",
              "      <td>605546.48</td>\n",
              "      <td>485948.0</td>\n",
              "      <td>44937803.0</td>\n",
              "      <td>9169132.0</td>\n",
              "      <td>24300653.0</td>\n",
              "      <td>8520025.0</td>\n",
              "      <td>66015.8333</td>\n",
              "      <td>3.523935e+09</td>\n",
              "    </tr>\n",
              "    <tr>\n",
              "      <th>16998</th>\n",
              "      <td>-2032431.49</td>\n",
              "      <td>605588.28</td>\n",
              "      <td>485967.0</td>\n",
              "      <td>44940475.0</td>\n",
              "      <td>9169684.0</td>\n",
              "      <td>24301951.0</td>\n",
              "      <td>8520503.0</td>\n",
              "      <td>66017.8130</td>\n",
              "      <td>3.524021e+09</td>\n",
              "    </tr>\n",
              "    <tr>\n",
              "      <th>16999</th>\n",
              "      <td>-2032555.84</td>\n",
              "      <td>605628.82</td>\n",
              "      <td>486019.0</td>\n",
              "      <td>44942295.0</td>\n",
              "      <td>9169984.0</td>\n",
              "      <td>24302757.0</td>\n",
              "      <td>8520773.0</td>\n",
              "      <td>66020.8277</td>\n",
              "      <td>3.524116e+09</td>\n",
              "    </tr>\n",
              "  </tbody>\n",
              "</table>\n",
              "<p>17000 rows × 9 columns</p>\n",
              "</div>\n",
              "    <div class=\"colab-df-buttons\">\n",
              "\n",
              "  <div class=\"colab-df-container\">\n",
              "    <button class=\"colab-df-convert\" onclick=\"convertToInteractive('df-cfc3f473-a73d-48b0-a81c-38fe43b79131')\"\n",
              "            title=\"Convert this dataframe to an interactive table.\"\n",
              "            style=\"display:none;\">\n",
              "\n",
              "  <svg xmlns=\"http://www.w3.org/2000/svg\" height=\"24px\" viewBox=\"0 -960 960 960\">\n",
              "    <path d=\"M120-120v-720h720v720H120Zm60-500h600v-160H180v160Zm220 220h160v-160H400v160Zm0 220h160v-160H400v160ZM180-400h160v-160H180v160Zm440 0h160v-160H620v160ZM180-180h160v-160H180v160Zm440 0h160v-160H620v160Z\"/>\n",
              "  </svg>\n",
              "    </button>\n",
              "\n",
              "  <style>\n",
              "    .colab-df-container {\n",
              "      display:flex;\n",
              "      gap: 12px;\n",
              "    }\n",
              "\n",
              "    .colab-df-convert {\n",
              "      background-color: #E8F0FE;\n",
              "      border: none;\n",
              "      border-radius: 50%;\n",
              "      cursor: pointer;\n",
              "      display: none;\n",
              "      fill: #1967D2;\n",
              "      height: 32px;\n",
              "      padding: 0 0 0 0;\n",
              "      width: 32px;\n",
              "    }\n",
              "\n",
              "    .colab-df-convert:hover {\n",
              "      background-color: #E2EBFA;\n",
              "      box-shadow: 0px 1px 2px rgba(60, 64, 67, 0.3), 0px 1px 3px 1px rgba(60, 64, 67, 0.15);\n",
              "      fill: #174EA6;\n",
              "    }\n",
              "\n",
              "    .colab-df-buttons div {\n",
              "      margin-bottom: 4px;\n",
              "    }\n",
              "\n",
              "    [theme=dark] .colab-df-convert {\n",
              "      background-color: #3B4455;\n",
              "      fill: #D2E3FC;\n",
              "    }\n",
              "\n",
              "    [theme=dark] .colab-df-convert:hover {\n",
              "      background-color: #434B5C;\n",
              "      box-shadow: 0px 1px 3px 1px rgba(0, 0, 0, 0.15);\n",
              "      filter: drop-shadow(0px 1px 2px rgba(0, 0, 0, 0.3));\n",
              "      fill: #FFFFFF;\n",
              "    }\n",
              "  </style>\n",
              "\n",
              "    <script>\n",
              "      const buttonEl =\n",
              "        document.querySelector('#df-cfc3f473-a73d-48b0-a81c-38fe43b79131 button.colab-df-convert');\n",
              "      buttonEl.style.display =\n",
              "        google.colab.kernel.accessAllowed ? 'block' : 'none';\n",
              "\n",
              "      async function convertToInteractive(key) {\n",
              "        const element = document.querySelector('#df-cfc3f473-a73d-48b0-a81c-38fe43b79131');\n",
              "        const dataTable =\n",
              "          await google.colab.kernel.invokeFunction('convertToInteractive',\n",
              "                                                    [key], {});\n",
              "        if (!dataTable) return;\n",
              "\n",
              "        const docLinkHtml = 'Like what you see? Visit the ' +\n",
              "          '<a target=\"_blank\" href=https://colab.research.google.com/notebooks/data_table.ipynb>data table notebook</a>'\n",
              "          + ' to learn more about interactive tables.';\n",
              "        element.innerHTML = '';\n",
              "        dataTable['output_type'] = 'display_data';\n",
              "        await google.colab.output.renderOutput(dataTable, element);\n",
              "        const docLink = document.createElement('div');\n",
              "        docLink.innerHTML = docLinkHtml;\n",
              "        element.appendChild(docLink);\n",
              "      }\n",
              "    </script>\n",
              "  </div>\n",
              "\n",
              "\n",
              "<div id=\"df-4ffd6339-0e2f-4012-acc1-82f1f203b7a1\">\n",
              "  <button class=\"colab-df-quickchart\" onclick=\"quickchart('df-4ffd6339-0e2f-4012-acc1-82f1f203b7a1')\"\n",
              "            title=\"Suggest charts\"\n",
              "            style=\"display:none;\">\n",
              "\n",
              "<svg xmlns=\"http://www.w3.org/2000/svg\" height=\"24px\"viewBox=\"0 0 24 24\"\n",
              "     width=\"24px\">\n",
              "    <g>\n",
              "        <path d=\"M19 3H5c-1.1 0-2 .9-2 2v14c0 1.1.9 2 2 2h14c1.1 0 2-.9 2-2V5c0-1.1-.9-2-2-2zM9 17H7v-7h2v7zm4 0h-2V7h2v10zm4 0h-2v-4h2v4z\"/>\n",
              "    </g>\n",
              "</svg>\n",
              "  </button>\n",
              "\n",
              "<style>\n",
              "  .colab-df-quickchart {\n",
              "      --bg-color: #E8F0FE;\n",
              "      --fill-color: #1967D2;\n",
              "      --hover-bg-color: #E2EBFA;\n",
              "      --hover-fill-color: #174EA6;\n",
              "      --disabled-fill-color: #AAA;\n",
              "      --disabled-bg-color: #DDD;\n",
              "  }\n",
              "\n",
              "  [theme=dark] .colab-df-quickchart {\n",
              "      --bg-color: #3B4455;\n",
              "      --fill-color: #D2E3FC;\n",
              "      --hover-bg-color: #434B5C;\n",
              "      --hover-fill-color: #FFFFFF;\n",
              "      --disabled-bg-color: #3B4455;\n",
              "      --disabled-fill-color: #666;\n",
              "  }\n",
              "\n",
              "  .colab-df-quickchart {\n",
              "    background-color: var(--bg-color);\n",
              "    border: none;\n",
              "    border-radius: 50%;\n",
              "    cursor: pointer;\n",
              "    display: none;\n",
              "    fill: var(--fill-color);\n",
              "    height: 32px;\n",
              "    padding: 0;\n",
              "    width: 32px;\n",
              "  }\n",
              "\n",
              "  .colab-df-quickchart:hover {\n",
              "    background-color: var(--hover-bg-color);\n",
              "    box-shadow: 0 1px 2px rgba(60, 64, 67, 0.3), 0 1px 3px 1px rgba(60, 64, 67, 0.15);\n",
              "    fill: var(--button-hover-fill-color);\n",
              "  }\n",
              "\n",
              "  .colab-df-quickchart-complete:disabled,\n",
              "  .colab-df-quickchart-complete:disabled:hover {\n",
              "    background-color: var(--disabled-bg-color);\n",
              "    fill: var(--disabled-fill-color);\n",
              "    box-shadow: none;\n",
              "  }\n",
              "\n",
              "  .colab-df-spinner {\n",
              "    border: 2px solid var(--fill-color);\n",
              "    border-color: transparent;\n",
              "    border-bottom-color: var(--fill-color);\n",
              "    animation:\n",
              "      spin 1s steps(1) infinite;\n",
              "  }\n",
              "\n",
              "  @keyframes spin {\n",
              "    0% {\n",
              "      border-color: transparent;\n",
              "      border-bottom-color: var(--fill-color);\n",
              "      border-left-color: var(--fill-color);\n",
              "    }\n",
              "    20% {\n",
              "      border-color: transparent;\n",
              "      border-left-color: var(--fill-color);\n",
              "      border-top-color: var(--fill-color);\n",
              "    }\n",
              "    30% {\n",
              "      border-color: transparent;\n",
              "      border-left-color: var(--fill-color);\n",
              "      border-top-color: var(--fill-color);\n",
              "      border-right-color: var(--fill-color);\n",
              "    }\n",
              "    40% {\n",
              "      border-color: transparent;\n",
              "      border-right-color: var(--fill-color);\n",
              "      border-top-color: var(--fill-color);\n",
              "    }\n",
              "    60% {\n",
              "      border-color: transparent;\n",
              "      border-right-color: var(--fill-color);\n",
              "    }\n",
              "    80% {\n",
              "      border-color: transparent;\n",
              "      border-right-color: var(--fill-color);\n",
              "      border-bottom-color: var(--fill-color);\n",
              "    }\n",
              "    90% {\n",
              "      border-color: transparent;\n",
              "      border-bottom-color: var(--fill-color);\n",
              "    }\n",
              "  }\n",
              "</style>\n",
              "\n",
              "  <script>\n",
              "    async function quickchart(key) {\n",
              "      const quickchartButtonEl =\n",
              "        document.querySelector('#' + key + ' button');\n",
              "      quickchartButtonEl.disabled = true;  // To prevent multiple clicks.\n",
              "      quickchartButtonEl.classList.add('colab-df-spinner');\n",
              "      try {\n",
              "        const charts = await google.colab.kernel.invokeFunction(\n",
              "            'suggestCharts', [key], {});\n",
              "      } catch (error) {\n",
              "        console.error('Error during call to suggestCharts:', error);\n",
              "      }\n",
              "      quickchartButtonEl.classList.remove('colab-df-spinner');\n",
              "      quickchartButtonEl.classList.add('colab-df-quickchart-complete');\n",
              "    }\n",
              "    (() => {\n",
              "      let quickchartButtonEl =\n",
              "        document.querySelector('#df-4ffd6339-0e2f-4012-acc1-82f1f203b7a1 button');\n",
              "      quickchartButtonEl.style.display =\n",
              "        google.colab.kernel.accessAllowed ? 'block' : 'none';\n",
              "    })();\n",
              "  </script>\n",
              "</div>\n",
              "    </div>\n",
              "  </div>\n"
            ]
          },
          "metadata": {},
          "execution_count": 27
        }
      ],
      "source": [
        "df.cumsum()#cumulative sum of values along a given axis (default is columns)"
      ]
    },
    {
      "cell_type": "code",
      "execution_count": 28,
      "metadata": {
        "colab": {
          "base_uri": "https://localhost:8080/"
        },
        "id": "Ei9fomgh5IYu",
        "outputId": "032c8ee6-6a89-403a-eb72-2d4662f60aad"
      },
      "outputs": [
        {
          "output_type": "execute_result",
          "data": {
            "text/plain": [
              "longitude              -124.3500\n",
              "latitude                 32.5400\n",
              "housing_median_age        1.0000\n",
              "total_rooms               2.0000\n",
              "total_bedrooms            1.0000\n",
              "population                3.0000\n",
              "households                1.0000\n",
              "median_income             0.4999\n",
              "median_house_value    14999.0000\n",
              "dtype: float64"
            ]
          },
          "metadata": {},
          "execution_count": 28
        }
      ],
      "source": [
        "df.min()# the minimum value for each column"
      ]
    },
    {
      "cell_type": "code",
      "execution_count": 29,
      "metadata": {
        "colab": {
          "base_uri": "https://localhost:8080/"
        },
        "id": "gj855hRv5IRJ",
        "outputId": "8dec5b9d-c6c2-4867-c60d-b5c8d017898f"
      },
      "outputs": [
        {
          "output_type": "execute_result",
          "data": {
            "text/plain": [
              "longitude               -114.3100\n",
              "latitude                  41.9500\n",
              "housing_median_age        52.0000\n",
              "total_rooms            37937.0000\n",
              "total_bedrooms          6445.0000\n",
              "population             35682.0000\n",
              "households              6082.0000\n",
              "median_income             15.0001\n",
              "median_house_value    500001.0000\n",
              "dtype: float64"
            ]
          },
          "metadata": {},
          "execution_count": 29
        }
      ],
      "source": [
        "df.max()#the maximum value for each column."
      ]
    },
    {
      "cell_type": "code",
      "execution_count": 30,
      "metadata": {
        "colab": {
          "base_uri": "https://localhost:8080/"
        },
        "id": "3-sN-Wvx5IMu",
        "outputId": "e67d09c8-63d5-4eea-ca7a-4a7078ae26a6"
      },
      "outputs": [
        {
          "output_type": "execute_result",
          "data": {
            "text/plain": [
              "longitude             16999\n",
              "latitude                680\n",
              "housing_median_age    10993\n",
              "total_rooms            2990\n",
              "total_bedrooms        16309\n",
              "population             8232\n",
              "households            16309\n",
              "median_income           340\n",
              "median_house_value      568\n",
              "dtype: int64"
            ]
          },
          "metadata": {},
          "execution_count": 30
        }
      ],
      "source": [
        "df.idxmin()# index (row label) of the first occurrence of the minimum value in each column."
      ]
    },
    {
      "cell_type": "code",
      "execution_count": 31,
      "metadata": {
        "colab": {
          "base_uri": "https://localhost:8080/"
        },
        "id": "MPwbX6VU5P8x",
        "outputId": "a4c4eba2-3d89-4a4d-c4c3-4aa2579a6320"
      },
      "outputs": [
        {
          "output_type": "execute_result",
          "data": {
            "text/plain": [
              "longitude                 0\n",
              "latitude              16497\n",
              "housing_median_age      325\n",
              "total_rooms            2871\n",
              "total_bedrooms        12772\n",
              "population             2274\n",
              "households            12772\n",
              "median_income          1625\n",
              "median_house_value      215\n",
              "dtype: int64"
            ]
          },
          "metadata": {},
          "execution_count": 31
        }
      ],
      "source": [
        "df.idxmax()# index (row label) of the first occurrence of the maximum value in each column."
      ]
    },
    {
      "cell_type": "code",
      "execution_count": 32,
      "metadata": {
        "colab": {
          "base_uri": "https://localhost:8080/",
          "height": 317
        },
        "id": "1YIetr1R5P2d",
        "outputId": "ddf5e5f4-7cff-4e9b-a9aa-8a3162419afe"
      },
      "outputs": [
        {
          "output_type": "execute_result",
          "data": {
            "text/plain": [
              "          longitude      latitude  housing_median_age   total_rooms  \\\n",
              "count  17000.000000  17000.000000        17000.000000  17000.000000   \n",
              "mean    -119.562108     35.625225           28.589353   2643.664412   \n",
              "std        2.005166      2.137340           12.586937   2179.947071   \n",
              "min     -124.350000     32.540000            1.000000      2.000000   \n",
              "25%     -121.790000     33.930000           18.000000   1462.000000   \n",
              "50%     -118.490000     34.250000           29.000000   2127.000000   \n",
              "75%     -118.000000     37.720000           37.000000   3151.250000   \n",
              "max     -114.310000     41.950000           52.000000  37937.000000   \n",
              "\n",
              "       total_bedrooms    population    households  median_income  \\\n",
              "count    17000.000000  17000.000000  17000.000000   17000.000000   \n",
              "mean       539.410824   1429.573941    501.221941       3.883578   \n",
              "std        421.499452   1147.852959    384.520841       1.908157   \n",
              "min          1.000000      3.000000      1.000000       0.499900   \n",
              "25%        297.000000    790.000000    282.000000       2.566375   \n",
              "50%        434.000000   1167.000000    409.000000       3.544600   \n",
              "75%        648.250000   1721.000000    605.250000       4.767000   \n",
              "max       6445.000000  35682.000000   6082.000000      15.000100   \n",
              "\n",
              "       median_house_value  \n",
              "count        17000.000000  \n",
              "mean        207300.912353  \n",
              "std         115983.764387  \n",
              "min          14999.000000  \n",
              "25%         119400.000000  \n",
              "50%         180400.000000  \n",
              "75%         265000.000000  \n",
              "max         500001.000000  "
            ],
            "text/html": [
              "\n",
              "  <div id=\"df-f11cdfd1-cbd6-487d-aac5-f965714ad97f\" class=\"colab-df-container\">\n",
              "    <div>\n",
              "<style scoped>\n",
              "    .dataframe tbody tr th:only-of-type {\n",
              "        vertical-align: middle;\n",
              "    }\n",
              "\n",
              "    .dataframe tbody tr th {\n",
              "        vertical-align: top;\n",
              "    }\n",
              "\n",
              "    .dataframe thead th {\n",
              "        text-align: right;\n",
              "    }\n",
              "</style>\n",
              "<table border=\"1\" class=\"dataframe\">\n",
              "  <thead>\n",
              "    <tr style=\"text-align: right;\">\n",
              "      <th></th>\n",
              "      <th>longitude</th>\n",
              "      <th>latitude</th>\n",
              "      <th>housing_median_age</th>\n",
              "      <th>total_rooms</th>\n",
              "      <th>total_bedrooms</th>\n",
              "      <th>population</th>\n",
              "      <th>households</th>\n",
              "      <th>median_income</th>\n",
              "      <th>median_house_value</th>\n",
              "    </tr>\n",
              "  </thead>\n",
              "  <tbody>\n",
              "    <tr>\n",
              "      <th>count</th>\n",
              "      <td>17000.000000</td>\n",
              "      <td>17000.000000</td>\n",
              "      <td>17000.000000</td>\n",
              "      <td>17000.000000</td>\n",
              "      <td>17000.000000</td>\n",
              "      <td>17000.000000</td>\n",
              "      <td>17000.000000</td>\n",
              "      <td>17000.000000</td>\n",
              "      <td>17000.000000</td>\n",
              "    </tr>\n",
              "    <tr>\n",
              "      <th>mean</th>\n",
              "      <td>-119.562108</td>\n",
              "      <td>35.625225</td>\n",
              "      <td>28.589353</td>\n",
              "      <td>2643.664412</td>\n",
              "      <td>539.410824</td>\n",
              "      <td>1429.573941</td>\n",
              "      <td>501.221941</td>\n",
              "      <td>3.883578</td>\n",
              "      <td>207300.912353</td>\n",
              "    </tr>\n",
              "    <tr>\n",
              "      <th>std</th>\n",
              "      <td>2.005166</td>\n",
              "      <td>2.137340</td>\n",
              "      <td>12.586937</td>\n",
              "      <td>2179.947071</td>\n",
              "      <td>421.499452</td>\n",
              "      <td>1147.852959</td>\n",
              "      <td>384.520841</td>\n",
              "      <td>1.908157</td>\n",
              "      <td>115983.764387</td>\n",
              "    </tr>\n",
              "    <tr>\n",
              "      <th>min</th>\n",
              "      <td>-124.350000</td>\n",
              "      <td>32.540000</td>\n",
              "      <td>1.000000</td>\n",
              "      <td>2.000000</td>\n",
              "      <td>1.000000</td>\n",
              "      <td>3.000000</td>\n",
              "      <td>1.000000</td>\n",
              "      <td>0.499900</td>\n",
              "      <td>14999.000000</td>\n",
              "    </tr>\n",
              "    <tr>\n",
              "      <th>25%</th>\n",
              "      <td>-121.790000</td>\n",
              "      <td>33.930000</td>\n",
              "      <td>18.000000</td>\n",
              "      <td>1462.000000</td>\n",
              "      <td>297.000000</td>\n",
              "      <td>790.000000</td>\n",
              "      <td>282.000000</td>\n",
              "      <td>2.566375</td>\n",
              "      <td>119400.000000</td>\n",
              "    </tr>\n",
              "    <tr>\n",
              "      <th>50%</th>\n",
              "      <td>-118.490000</td>\n",
              "      <td>34.250000</td>\n",
              "      <td>29.000000</td>\n",
              "      <td>2127.000000</td>\n",
              "      <td>434.000000</td>\n",
              "      <td>1167.000000</td>\n",
              "      <td>409.000000</td>\n",
              "      <td>3.544600</td>\n",
              "      <td>180400.000000</td>\n",
              "    </tr>\n",
              "    <tr>\n",
              "      <th>75%</th>\n",
              "      <td>-118.000000</td>\n",
              "      <td>37.720000</td>\n",
              "      <td>37.000000</td>\n",
              "      <td>3151.250000</td>\n",
              "      <td>648.250000</td>\n",
              "      <td>1721.000000</td>\n",
              "      <td>605.250000</td>\n",
              "      <td>4.767000</td>\n",
              "      <td>265000.000000</td>\n",
              "    </tr>\n",
              "    <tr>\n",
              "      <th>max</th>\n",
              "      <td>-114.310000</td>\n",
              "      <td>41.950000</td>\n",
              "      <td>52.000000</td>\n",
              "      <td>37937.000000</td>\n",
              "      <td>6445.000000</td>\n",
              "      <td>35682.000000</td>\n",
              "      <td>6082.000000</td>\n",
              "      <td>15.000100</td>\n",
              "      <td>500001.000000</td>\n",
              "    </tr>\n",
              "  </tbody>\n",
              "</table>\n",
              "</div>\n",
              "    <div class=\"colab-df-buttons\">\n",
              "\n",
              "  <div class=\"colab-df-container\">\n",
              "    <button class=\"colab-df-convert\" onclick=\"convertToInteractive('df-f11cdfd1-cbd6-487d-aac5-f965714ad97f')\"\n",
              "            title=\"Convert this dataframe to an interactive table.\"\n",
              "            style=\"display:none;\">\n",
              "\n",
              "  <svg xmlns=\"http://www.w3.org/2000/svg\" height=\"24px\" viewBox=\"0 -960 960 960\">\n",
              "    <path d=\"M120-120v-720h720v720H120Zm60-500h600v-160H180v160Zm220 220h160v-160H400v160Zm0 220h160v-160H400v160ZM180-400h160v-160H180v160Zm440 0h160v-160H620v160ZM180-180h160v-160H180v160Zm440 0h160v-160H620v160Z\"/>\n",
              "  </svg>\n",
              "    </button>\n",
              "\n",
              "  <style>\n",
              "    .colab-df-container {\n",
              "      display:flex;\n",
              "      gap: 12px;\n",
              "    }\n",
              "\n",
              "    .colab-df-convert {\n",
              "      background-color: #E8F0FE;\n",
              "      border: none;\n",
              "      border-radius: 50%;\n",
              "      cursor: pointer;\n",
              "      display: none;\n",
              "      fill: #1967D2;\n",
              "      height: 32px;\n",
              "      padding: 0 0 0 0;\n",
              "      width: 32px;\n",
              "    }\n",
              "\n",
              "    .colab-df-convert:hover {\n",
              "      background-color: #E2EBFA;\n",
              "      box-shadow: 0px 1px 2px rgba(60, 64, 67, 0.3), 0px 1px 3px 1px rgba(60, 64, 67, 0.15);\n",
              "      fill: #174EA6;\n",
              "    }\n",
              "\n",
              "    .colab-df-buttons div {\n",
              "      margin-bottom: 4px;\n",
              "    }\n",
              "\n",
              "    [theme=dark] .colab-df-convert {\n",
              "      background-color: #3B4455;\n",
              "      fill: #D2E3FC;\n",
              "    }\n",
              "\n",
              "    [theme=dark] .colab-df-convert:hover {\n",
              "      background-color: #434B5C;\n",
              "      box-shadow: 0px 1px 3px 1px rgba(0, 0, 0, 0.15);\n",
              "      filter: drop-shadow(0px 1px 2px rgba(0, 0, 0, 0.3));\n",
              "      fill: #FFFFFF;\n",
              "    }\n",
              "  </style>\n",
              "\n",
              "    <script>\n",
              "      const buttonEl =\n",
              "        document.querySelector('#df-f11cdfd1-cbd6-487d-aac5-f965714ad97f button.colab-df-convert');\n",
              "      buttonEl.style.display =\n",
              "        google.colab.kernel.accessAllowed ? 'block' : 'none';\n",
              "\n",
              "      async function convertToInteractive(key) {\n",
              "        const element = document.querySelector('#df-f11cdfd1-cbd6-487d-aac5-f965714ad97f');\n",
              "        const dataTable =\n",
              "          await google.colab.kernel.invokeFunction('convertToInteractive',\n",
              "                                                    [key], {});\n",
              "        if (!dataTable) return;\n",
              "\n",
              "        const docLinkHtml = 'Like what you see? Visit the ' +\n",
              "          '<a target=\"_blank\" href=https://colab.research.google.com/notebooks/data_table.ipynb>data table notebook</a>'\n",
              "          + ' to learn more about interactive tables.';\n",
              "        element.innerHTML = '';\n",
              "        dataTable['output_type'] = 'display_data';\n",
              "        await google.colab.output.renderOutput(dataTable, element);\n",
              "        const docLink = document.createElement('div');\n",
              "        docLink.innerHTML = docLinkHtml;\n",
              "        element.appendChild(docLink);\n",
              "      }\n",
              "    </script>\n",
              "  </div>\n",
              "\n",
              "\n",
              "<div id=\"df-bd4062be-e9f2-4a70-976b-d73a86fb9aa9\">\n",
              "  <button class=\"colab-df-quickchart\" onclick=\"quickchart('df-bd4062be-e9f2-4a70-976b-d73a86fb9aa9')\"\n",
              "            title=\"Suggest charts\"\n",
              "            style=\"display:none;\">\n",
              "\n",
              "<svg xmlns=\"http://www.w3.org/2000/svg\" height=\"24px\"viewBox=\"0 0 24 24\"\n",
              "     width=\"24px\">\n",
              "    <g>\n",
              "        <path d=\"M19 3H5c-1.1 0-2 .9-2 2v14c0 1.1.9 2 2 2h14c1.1 0 2-.9 2-2V5c0-1.1-.9-2-2-2zM9 17H7v-7h2v7zm4 0h-2V7h2v10zm4 0h-2v-4h2v4z\"/>\n",
              "    </g>\n",
              "</svg>\n",
              "  </button>\n",
              "\n",
              "<style>\n",
              "  .colab-df-quickchart {\n",
              "      --bg-color: #E8F0FE;\n",
              "      --fill-color: #1967D2;\n",
              "      --hover-bg-color: #E2EBFA;\n",
              "      --hover-fill-color: #174EA6;\n",
              "      --disabled-fill-color: #AAA;\n",
              "      --disabled-bg-color: #DDD;\n",
              "  }\n",
              "\n",
              "  [theme=dark] .colab-df-quickchart {\n",
              "      --bg-color: #3B4455;\n",
              "      --fill-color: #D2E3FC;\n",
              "      --hover-bg-color: #434B5C;\n",
              "      --hover-fill-color: #FFFFFF;\n",
              "      --disabled-bg-color: #3B4455;\n",
              "      --disabled-fill-color: #666;\n",
              "  }\n",
              "\n",
              "  .colab-df-quickchart {\n",
              "    background-color: var(--bg-color);\n",
              "    border: none;\n",
              "    border-radius: 50%;\n",
              "    cursor: pointer;\n",
              "    display: none;\n",
              "    fill: var(--fill-color);\n",
              "    height: 32px;\n",
              "    padding: 0;\n",
              "    width: 32px;\n",
              "  }\n",
              "\n",
              "  .colab-df-quickchart:hover {\n",
              "    background-color: var(--hover-bg-color);\n",
              "    box-shadow: 0 1px 2px rgba(60, 64, 67, 0.3), 0 1px 3px 1px rgba(60, 64, 67, 0.15);\n",
              "    fill: var(--button-hover-fill-color);\n",
              "  }\n",
              "\n",
              "  .colab-df-quickchart-complete:disabled,\n",
              "  .colab-df-quickchart-complete:disabled:hover {\n",
              "    background-color: var(--disabled-bg-color);\n",
              "    fill: var(--disabled-fill-color);\n",
              "    box-shadow: none;\n",
              "  }\n",
              "\n",
              "  .colab-df-spinner {\n",
              "    border: 2px solid var(--fill-color);\n",
              "    border-color: transparent;\n",
              "    border-bottom-color: var(--fill-color);\n",
              "    animation:\n",
              "      spin 1s steps(1) infinite;\n",
              "  }\n",
              "\n",
              "  @keyframes spin {\n",
              "    0% {\n",
              "      border-color: transparent;\n",
              "      border-bottom-color: var(--fill-color);\n",
              "      border-left-color: var(--fill-color);\n",
              "    }\n",
              "    20% {\n",
              "      border-color: transparent;\n",
              "      border-left-color: var(--fill-color);\n",
              "      border-top-color: var(--fill-color);\n",
              "    }\n",
              "    30% {\n",
              "      border-color: transparent;\n",
              "      border-left-color: var(--fill-color);\n",
              "      border-top-color: var(--fill-color);\n",
              "      border-right-color: var(--fill-color);\n",
              "    }\n",
              "    40% {\n",
              "      border-color: transparent;\n",
              "      border-right-color: var(--fill-color);\n",
              "      border-top-color: var(--fill-color);\n",
              "    }\n",
              "    60% {\n",
              "      border-color: transparent;\n",
              "      border-right-color: var(--fill-color);\n",
              "    }\n",
              "    80% {\n",
              "      border-color: transparent;\n",
              "      border-right-color: var(--fill-color);\n",
              "      border-bottom-color: var(--fill-color);\n",
              "    }\n",
              "    90% {\n",
              "      border-color: transparent;\n",
              "      border-bottom-color: var(--fill-color);\n",
              "    }\n",
              "  }\n",
              "</style>\n",
              "\n",
              "  <script>\n",
              "    async function quickchart(key) {\n",
              "      const quickchartButtonEl =\n",
              "        document.querySelector('#' + key + ' button');\n",
              "      quickchartButtonEl.disabled = true;  // To prevent multiple clicks.\n",
              "      quickchartButtonEl.classList.add('colab-df-spinner');\n",
              "      try {\n",
              "        const charts = await google.colab.kernel.invokeFunction(\n",
              "            'suggestCharts', [key], {});\n",
              "      } catch (error) {\n",
              "        console.error('Error during call to suggestCharts:', error);\n",
              "      }\n",
              "      quickchartButtonEl.classList.remove('colab-df-spinner');\n",
              "      quickchartButtonEl.classList.add('colab-df-quickchart-complete');\n",
              "    }\n",
              "    (() => {\n",
              "      let quickchartButtonEl =\n",
              "        document.querySelector('#df-bd4062be-e9f2-4a70-976b-d73a86fb9aa9 button');\n",
              "      quickchartButtonEl.style.display =\n",
              "        google.colab.kernel.accessAllowed ? 'block' : 'none';\n",
              "    })();\n",
              "  </script>\n",
              "</div>\n",
              "    </div>\n",
              "  </div>\n"
            ]
          },
          "metadata": {},
          "execution_count": 32
        }
      ],
      "source": [
        "df.describe()#Generates descriptive statistics for each column, including count, mean, std (standard deviation), min, 25%, 50%, 75%, and max."
      ]
    },
    {
      "cell_type": "code",
      "execution_count": 33,
      "metadata": {
        "colab": {
          "base_uri": "https://localhost:8080/"
        },
        "id": "A9UpondE5Pzt",
        "outputId": "889fc317-00f1-4319-e033-b33f919c2e7c"
      },
      "outputs": [
        {
          "output_type": "execute_result",
          "data": {
            "text/plain": [
              "longitude               -119.562108\n",
              "latitude                  35.625225\n",
              "housing_median_age        28.589353\n",
              "total_rooms             2643.664412\n",
              "total_bedrooms           539.410824\n",
              "population              1429.573941\n",
              "households               501.221941\n",
              "median_income              3.883578\n",
              "median_house_value    207300.912353\n",
              "dtype: float64"
            ]
          },
          "metadata": {},
          "execution_count": 33
        }
      ],
      "source": [
        "df.mean()#the mean of values for each column."
      ]
    },
    {
      "cell_type": "code",
      "execution_count": 34,
      "metadata": {
        "colab": {
          "base_uri": "https://localhost:8080/"
        },
        "id": "0xR6-haR5PvO",
        "outputId": "9cd49a40-3b54-450b-8ac6-dea4e26fd715"
      },
      "outputs": [
        {
          "output_type": "execute_result",
          "data": {
            "text/plain": [
              "longitude               -118.4900\n",
              "latitude                  34.2500\n",
              "housing_median_age        29.0000\n",
              "total_rooms             2127.0000\n",
              "total_bedrooms           434.0000\n",
              "population              1167.0000\n",
              "households               409.0000\n",
              "median_income              3.5446\n",
              "median_house_value    180400.0000\n",
              "dtype: float64"
            ]
          },
          "metadata": {},
          "execution_count": 34
        }
      ],
      "source": [
        "df.median()# median of values for each column."
      ]
    },
    {
      "cell_type": "markdown",
      "metadata": {
        "id": "IUu2iLhK5ZiO"
      },
      "source": [
        "#### Apply what your learned\n",
        "\n",
        "Answer the following questions :\n",
        "- What’s the global median and mean of housing age ?\n",
        "- What’s the minimum and maximum number of bedrooms ?\n",
        "- What’s the index of the most expensive house ?\n",
        "\n"
      ]
    },
    {
      "cell_type": "code",
      "execution_count": 35,
      "metadata": {
        "colab": {
          "base_uri": "https://localhost:8080/"
        },
        "id": "gCYAv6b75Yb6",
        "outputId": "5e43dcb9-f122-4691-f23a-a286d9a22c68"
      },
      "outputs": [
        {
          "output_type": "stream",
          "name": "stdout",
          "text": [
            "Global Median of Housing Age: 29.0\n",
            "Global Mean of Housing Age: 28.58935294117647\n",
            "Minimum Number of Bedrooms: 1.0\n",
            "Maximum Number of Bedrooms: 6445.0\n",
            "Index of the Most Expensive House: 215\n"
          ]
        }
      ],
      "source": [
        "# What's the global median and mean of housing age?\n",
        "median_housing_age = df['housing_median_age'].median()\n",
        "mean_housing_age = df['housing_median_age'].mean()\n",
        "print(f\"Global Median of Housing Age: {median_housing_age}\")\n",
        "print(f\"Global Mean of Housing Age: {mean_housing_age}\")\n",
        "\n",
        "# What's the minimum and maximum number of bedrooms?\n",
        "min_bedrooms = df['total_bedrooms'].min()\n",
        "max_bedrooms = df['total_bedrooms'].max()\n",
        "print(f\"Minimum Number of Bedrooms: {min_bedrooms}\")\n",
        "print(f\"Maximum Number of Bedrooms: {max_bedrooms}\")\n",
        "\n",
        "# What's the index of the most expensive house?\n",
        "index_most_expensive_house = df['median_house_value'].idxmax()\n",
        "print(f\"Index of the Most Expensive House: {index_most_expensive_house}\")\n"
      ]
    },
    {
      "cell_type": "markdown",
      "metadata": {
        "id": "z832ykPz7Pud"
      },
      "source": [
        "### Preprocessing data"
      ]
    },
    {
      "cell_type": "markdown",
      "metadata": {
        "id": "SUtTh7ZkPxcX"
      },
      "source": [
        "#### Changing data types\n",
        "\n",
        "Based on what your analysis of the data, determine which columns don't have the right data types and transform them\n",
        "\n",
        "Look at the pandas documentation : https://pandas.pydata.org/docs/reference/api/pandas.DataFrame.dtypes.html\n"
      ]
    },
    {
      "cell_type": "code",
      "execution_count": 36,
      "metadata": {
        "colab": {
          "base_uri": "https://localhost:8080/"
        },
        "id": "9xU1V9aUP0ay",
        "outputId": "a4180e3a-3f22-44e3-afc0-993e9ea68abc"
      },
      "outputs": [
        {
          "output_type": "execute_result",
          "data": {
            "text/plain": [
              "longitude             float64\n",
              "latitude              float64\n",
              "housing_median_age    float64\n",
              "total_rooms           float64\n",
              "total_bedrooms        float64\n",
              "population            float64\n",
              "households            float64\n",
              "median_income         float64\n",
              "median_house_value    float64\n",
              "dtype: object"
            ]
          },
          "metadata": {},
          "execution_count": 36
        }
      ],
      "source": [
        "df.dtypes"
      ]
    },
    {
      "cell_type": "code",
      "execution_count": 37,
      "metadata": {
        "id": "YP6-EEbzQc1v"
      },
      "outputs": [],
      "source": [
        "df['housing_median_age']=df['housing_median_age'].astype(int)"
      ]
    },
    {
      "cell_type": "code",
      "execution_count": 38,
      "metadata": {
        "id": "BQOL8YzxTpgh"
      },
      "outputs": [],
      "source": [
        "df['households']=df['households'].astype(int)"
      ]
    },
    {
      "cell_type": "code",
      "execution_count": 39,
      "metadata": {
        "id": "JNkBxJibTzmV"
      },
      "outputs": [],
      "source": [
        "df['total_bedrooms']=df['total_bedrooms'].astype(int)"
      ]
    },
    {
      "cell_type": "code",
      "execution_count": 40,
      "metadata": {
        "id": "bL29m7TDUHaD"
      },
      "outputs": [],
      "source": [
        "df['total_rooms']=df['total_rooms'].astype(int)"
      ]
    },
    {
      "cell_type": "code",
      "execution_count": 41,
      "metadata": {
        "id": "WWYmvSgKSfaD"
      },
      "outputs": [],
      "source": [
        "df['median_house_value']=df['median_house_value'].astype(int)"
      ]
    },
    {
      "cell_type": "code",
      "execution_count": 42,
      "metadata": {
        "id": "MxLGGv2kYI1x"
      },
      "outputs": [],
      "source": [
        "df['population']=df['population'].astype(int)"
      ]
    },
    {
      "cell_type": "code",
      "execution_count": 43,
      "metadata": {
        "colab": {
          "base_uri": "https://localhost:8080/"
        },
        "id": "q_1IatsYS8ly",
        "outputId": "89a7a51a-dfb1-4f27-bb1e-ae6dbe7418f7"
      },
      "outputs": [
        {
          "output_type": "execute_result",
          "data": {
            "text/plain": [
              "longitude             float64\n",
              "latitude              float64\n",
              "housing_median_age      int64\n",
              "total_rooms             int64\n",
              "total_bedrooms          int64\n",
              "population              int64\n",
              "households              int64\n",
              "median_income         float64\n",
              "median_house_value      int64\n",
              "dtype: object"
            ]
          },
          "metadata": {},
          "execution_count": 43
        }
      ],
      "source": [
        "df.dtypes"
      ]
    },
    {
      "cell_type": "markdown",
      "metadata": {
        "id": "1GbcuI9K7Yqi"
      },
      "source": [
        "#### Dropping values"
      ]
    },
    {
      "cell_type": "code",
      "execution_count": 44,
      "metadata": {
        "id": "l356BzKu5PtB"
      },
      "outputs": [],
      "source": [
        "# Drop the the first row\n",
        "df = df.drop(df.index[0])"
      ]
    },
    {
      "cell_type": "code",
      "execution_count": 45,
      "metadata": {
        "id": "C9WqbuDG7ol1"
      },
      "outputs": [],
      "source": [
        "# Drop the the median_house_value column\n",
        "df = df.drop(columns=['median_house_value'])"
      ]
    },
    {
      "cell_type": "markdown",
      "metadata": {
        "id": "HqfudKYCdYUu"
      },
      "source": [
        "here the row and columns are dropped and it will return a new dataframe where they are removed.we have to use Inplace = True if we want to modify that in the existing dataframe"
      ]
    },
    {
      "cell_type": "markdown",
      "metadata": {
        "id": "YpSevKXT759w"
      },
      "source": [
        "#### Sorting values"
      ]
    },
    {
      "cell_type": "code",
      "execution_count": 46,
      "metadata": {
        "colab": {
          "base_uri": "https://localhost:8080/"
        },
        "id": "VRykvF0v7_VL",
        "outputId": "28556921-8cf8-49fe-baae-a9ec3cea2473"
      },
      "outputs": [
        {
          "output_type": "stream",
          "name": "stdout",
          "text": [
            "       longitude  latitude  housing_median_age  total_rooms  total_bedrooms  \\\n",
            "8232     -118.44     34.04                  16           18               6   \n",
            "2990     -117.79     35.21                   4            2               2   \n",
            "14105    -122.06     37.39                  26           18               4   \n",
            "2907     -117.76     35.22                   4           18               3   \n",
            "10911    -120.85     37.75                  26           28               4   \n",
            "...          ...       ...                 ...          ...             ...   \n",
            "3296     -117.87     34.04                   7        27700            4179   \n",
            "2969     -117.78     34.03                   8        32054            5290   \n",
            "2871     -117.74     33.89                   4        37937            5471   \n",
            "12772    -121.79     36.64                  11        32627            6445   \n",
            "2274     -117.42     33.35                  14        25135            4819   \n",
            "\n",
            "       population  households  median_income  \n",
            "8232            3           4         0.5360  \n",
            "2990            6           2         2.3750  \n",
            "14105           8           4         3.7500  \n",
            "2907            8           6         1.6250  \n",
            "10911           9           5         1.6250  \n",
            "...           ...         ...            ...  \n",
            "3296        15037        4072         6.6288  \n",
            "2969        15507        5050         6.0191  \n",
            "2871        16122        5189         7.4947  \n",
            "12772       28566        6082         2.3087  \n",
            "2274        35682        4769         2.5729  \n",
            "\n",
            "[16999 rows x 8 columns]\n"
          ]
        }
      ],
      "source": [
        "# Sort by ascending population\n",
        "\n",
        "df_sorted_population = df.sort_values(by='population', ascending=True)\n",
        "print(df_sorted_population)\n",
        "\n"
      ]
    },
    {
      "cell_type": "code",
      "execution_count": 47,
      "metadata": {
        "colab": {
          "base_uri": "https://localhost:8080/"
        },
        "id": "60kzlMmd75Si",
        "outputId": "bc3992f1-76ee-47bf-c746-ac6996c009f7"
      },
      "outputs": [
        {
          "output_type": "stream",
          "name": "stdout",
          "text": [
            "       longitude  latitude  housing_median_age  total_rooms  total_bedrooms  \\\n",
            "12772    -121.79     36.64                  11        32627            6445   \n",
            "2871     -117.74     33.89                   4        37937            5471   \n",
            "2969     -117.78     34.03                   8        32054            5290   \n",
            "1116     -117.12     33.52                   4        30401            4957   \n",
            "2086     -117.34     33.98                  10        17286            4952   \n",
            "...          ...       ...                 ...          ...             ...   \n",
            "15656    -122.37     37.60                  26           15               3   \n",
            "1820     -117.27     34.17                  16           30               3   \n",
            "9425     -119.23     34.25                  28           26               3   \n",
            "2990     -117.79     35.21                   4            2               2   \n",
            "16309    -122.50     37.79                  52            8               1   \n",
            "\n",
            "       population  households  median_income  \n",
            "12772       28566        6082         2.3087  \n",
            "2871        16122        5189         7.4947  \n",
            "2969        15507        5050         6.0191  \n",
            "1116        13251        4339         4.5841  \n",
            "2086         9851        4616         1.7579  \n",
            "...           ...         ...            ...  \n",
            "15656          11           3         5.0480  \n",
            "1820           49           8         4.6250  \n",
            "9425           29           9         8.0000  \n",
            "2990            6           2         2.3750  \n",
            "16309          13           1        15.0001  \n",
            "\n",
            "[16999 rows x 8 columns]\n"
          ]
        }
      ],
      "source": [
        "# Sort by descending bedrooms\n",
        "\n",
        "df_sorted_bedrooms = df.sort_values(by='total_bedrooms', ascending=False)\n",
        "print(df_sorted_bedrooms)\n"
      ]
    },
    {
      "cell_type": "markdown",
      "metadata": {
        "id": "xWnqYFMbd4kG"
      },
      "source": [
        "#### Apply functions"
      ]
    },
    {
      "cell_type": "markdown",
      "metadata": {
        "id": "AHazC742fToR"
      },
      "source": [
        "##### Example\n",
        "What does this function do on the dataframe ? To which values ?"
      ]
    },
    {
      "cell_type": "code",
      "execution_count": 48,
      "metadata": {
        "colab": {
          "base_uri": "https://localhost:8080/",
          "height": 439
        },
        "id": "R64oJm-R9pkM",
        "outputId": "01379aff-bb11-45f4-b081-1209607fb1c0"
      },
      "outputs": [
        {
          "output_type": "execute_result",
          "data": {
            "text/plain": [
              "       longitude  latitude  housing_median_age  total_rooms  total_bedrooms  \\\n",
              "1        -228.94     68.80                  38        15300            3802   \n",
              "2        -229.12     67.38                  34         1440             348   \n",
              "3        -229.14     67.28                  28         3002             674   \n",
              "4        -229.14     67.14                  40         2908             652   \n",
              "5        -229.16     67.26                  58         2774             472   \n",
              "...          ...       ...                 ...          ...             ...   \n",
              "16995    -248.52     81.16                 104         4434             788   \n",
              "16996    -248.54     81.38                  72         4698            1056   \n",
              "16997    -248.60     83.68                  34         5354            1062   \n",
              "16998    -248.60     83.60                  38         5344            1104   \n",
              "16999    -248.70     81.08                 104         3640             600   \n",
              "\n",
              "       population  households  median_income  \n",
              "1            2258         926         3.6400  \n",
              "2             666         234         3.3018  \n",
              "3            1030         452         6.3834  \n",
              "4            1248         524         3.8500  \n",
              "5            1342         478         6.6876  \n",
              "...           ...         ...            ...  \n",
              "16995        1814         738         4.7142  \n",
              "16996        2388         930         5.0358  \n",
              "16997        2488         912         6.0626  \n",
              "16998        2596         956         3.9594  \n",
              "16999        1612         540         6.0294  \n",
              "\n",
              "[16999 rows x 8 columns]"
            ],
            "text/html": [
              "\n",
              "  <div id=\"df-4d71569b-3e6f-4745-8ad2-f3eafcdb2e1c\" class=\"colab-df-container\">\n",
              "    <div>\n",
              "<style scoped>\n",
              "    .dataframe tbody tr th:only-of-type {\n",
              "        vertical-align: middle;\n",
              "    }\n",
              "\n",
              "    .dataframe tbody tr th {\n",
              "        vertical-align: top;\n",
              "    }\n",
              "\n",
              "    .dataframe thead th {\n",
              "        text-align: right;\n",
              "    }\n",
              "</style>\n",
              "<table border=\"1\" class=\"dataframe\">\n",
              "  <thead>\n",
              "    <tr style=\"text-align: right;\">\n",
              "      <th></th>\n",
              "      <th>longitude</th>\n",
              "      <th>latitude</th>\n",
              "      <th>housing_median_age</th>\n",
              "      <th>total_rooms</th>\n",
              "      <th>total_bedrooms</th>\n",
              "      <th>population</th>\n",
              "      <th>households</th>\n",
              "      <th>median_income</th>\n",
              "    </tr>\n",
              "  </thead>\n",
              "  <tbody>\n",
              "    <tr>\n",
              "      <th>1</th>\n",
              "      <td>-228.94</td>\n",
              "      <td>68.80</td>\n",
              "      <td>38</td>\n",
              "      <td>15300</td>\n",
              "      <td>3802</td>\n",
              "      <td>2258</td>\n",
              "      <td>926</td>\n",
              "      <td>3.6400</td>\n",
              "    </tr>\n",
              "    <tr>\n",
              "      <th>2</th>\n",
              "      <td>-229.12</td>\n",
              "      <td>67.38</td>\n",
              "      <td>34</td>\n",
              "      <td>1440</td>\n",
              "      <td>348</td>\n",
              "      <td>666</td>\n",
              "      <td>234</td>\n",
              "      <td>3.3018</td>\n",
              "    </tr>\n",
              "    <tr>\n",
              "      <th>3</th>\n",
              "      <td>-229.14</td>\n",
              "      <td>67.28</td>\n",
              "      <td>28</td>\n",
              "      <td>3002</td>\n",
              "      <td>674</td>\n",
              "      <td>1030</td>\n",
              "      <td>452</td>\n",
              "      <td>6.3834</td>\n",
              "    </tr>\n",
              "    <tr>\n",
              "      <th>4</th>\n",
              "      <td>-229.14</td>\n",
              "      <td>67.14</td>\n",
              "      <td>40</td>\n",
              "      <td>2908</td>\n",
              "      <td>652</td>\n",
              "      <td>1248</td>\n",
              "      <td>524</td>\n",
              "      <td>3.8500</td>\n",
              "    </tr>\n",
              "    <tr>\n",
              "      <th>5</th>\n",
              "      <td>-229.16</td>\n",
              "      <td>67.26</td>\n",
              "      <td>58</td>\n",
              "      <td>2774</td>\n",
              "      <td>472</td>\n",
              "      <td>1342</td>\n",
              "      <td>478</td>\n",
              "      <td>6.6876</td>\n",
              "    </tr>\n",
              "    <tr>\n",
              "      <th>...</th>\n",
              "      <td>...</td>\n",
              "      <td>...</td>\n",
              "      <td>...</td>\n",
              "      <td>...</td>\n",
              "      <td>...</td>\n",
              "      <td>...</td>\n",
              "      <td>...</td>\n",
              "      <td>...</td>\n",
              "    </tr>\n",
              "    <tr>\n",
              "      <th>16995</th>\n",
              "      <td>-248.52</td>\n",
              "      <td>81.16</td>\n",
              "      <td>104</td>\n",
              "      <td>4434</td>\n",
              "      <td>788</td>\n",
              "      <td>1814</td>\n",
              "      <td>738</td>\n",
              "      <td>4.7142</td>\n",
              "    </tr>\n",
              "    <tr>\n",
              "      <th>16996</th>\n",
              "      <td>-248.54</td>\n",
              "      <td>81.38</td>\n",
              "      <td>72</td>\n",
              "      <td>4698</td>\n",
              "      <td>1056</td>\n",
              "      <td>2388</td>\n",
              "      <td>930</td>\n",
              "      <td>5.0358</td>\n",
              "    </tr>\n",
              "    <tr>\n",
              "      <th>16997</th>\n",
              "      <td>-248.60</td>\n",
              "      <td>83.68</td>\n",
              "      <td>34</td>\n",
              "      <td>5354</td>\n",
              "      <td>1062</td>\n",
              "      <td>2488</td>\n",
              "      <td>912</td>\n",
              "      <td>6.0626</td>\n",
              "    </tr>\n",
              "    <tr>\n",
              "      <th>16998</th>\n",
              "      <td>-248.60</td>\n",
              "      <td>83.60</td>\n",
              "      <td>38</td>\n",
              "      <td>5344</td>\n",
              "      <td>1104</td>\n",
              "      <td>2596</td>\n",
              "      <td>956</td>\n",
              "      <td>3.9594</td>\n",
              "    </tr>\n",
              "    <tr>\n",
              "      <th>16999</th>\n",
              "      <td>-248.70</td>\n",
              "      <td>81.08</td>\n",
              "      <td>104</td>\n",
              "      <td>3640</td>\n",
              "      <td>600</td>\n",
              "      <td>1612</td>\n",
              "      <td>540</td>\n",
              "      <td>6.0294</td>\n",
              "    </tr>\n",
              "  </tbody>\n",
              "</table>\n",
              "<p>16999 rows × 8 columns</p>\n",
              "</div>\n",
              "    <div class=\"colab-df-buttons\">\n",
              "\n",
              "  <div class=\"colab-df-container\">\n",
              "    <button class=\"colab-df-convert\" onclick=\"convertToInteractive('df-4d71569b-3e6f-4745-8ad2-f3eafcdb2e1c')\"\n",
              "            title=\"Convert this dataframe to an interactive table.\"\n",
              "            style=\"display:none;\">\n",
              "\n",
              "  <svg xmlns=\"http://www.w3.org/2000/svg\" height=\"24px\" viewBox=\"0 -960 960 960\">\n",
              "    <path d=\"M120-120v-720h720v720H120Zm60-500h600v-160H180v160Zm220 220h160v-160H400v160Zm0 220h160v-160H400v160ZM180-400h160v-160H180v160Zm440 0h160v-160H620v160ZM180-180h160v-160H180v160Zm440 0h160v-160H620v160Z\"/>\n",
              "  </svg>\n",
              "    </button>\n",
              "\n",
              "  <style>\n",
              "    .colab-df-container {\n",
              "      display:flex;\n",
              "      gap: 12px;\n",
              "    }\n",
              "\n",
              "    .colab-df-convert {\n",
              "      background-color: #E8F0FE;\n",
              "      border: none;\n",
              "      border-radius: 50%;\n",
              "      cursor: pointer;\n",
              "      display: none;\n",
              "      fill: #1967D2;\n",
              "      height: 32px;\n",
              "      padding: 0 0 0 0;\n",
              "      width: 32px;\n",
              "    }\n",
              "\n",
              "    .colab-df-convert:hover {\n",
              "      background-color: #E2EBFA;\n",
              "      box-shadow: 0px 1px 2px rgba(60, 64, 67, 0.3), 0px 1px 3px 1px rgba(60, 64, 67, 0.15);\n",
              "      fill: #174EA6;\n",
              "    }\n",
              "\n",
              "    .colab-df-buttons div {\n",
              "      margin-bottom: 4px;\n",
              "    }\n",
              "\n",
              "    [theme=dark] .colab-df-convert {\n",
              "      background-color: #3B4455;\n",
              "      fill: #D2E3FC;\n",
              "    }\n",
              "\n",
              "    [theme=dark] .colab-df-convert:hover {\n",
              "      background-color: #434B5C;\n",
              "      box-shadow: 0px 1px 3px 1px rgba(0, 0, 0, 0.15);\n",
              "      filter: drop-shadow(0px 1px 2px rgba(0, 0, 0, 0.3));\n",
              "      fill: #FFFFFF;\n",
              "    }\n",
              "  </style>\n",
              "\n",
              "    <script>\n",
              "      const buttonEl =\n",
              "        document.querySelector('#df-4d71569b-3e6f-4745-8ad2-f3eafcdb2e1c button.colab-df-convert');\n",
              "      buttonEl.style.display =\n",
              "        google.colab.kernel.accessAllowed ? 'block' : 'none';\n",
              "\n",
              "      async function convertToInteractive(key) {\n",
              "        const element = document.querySelector('#df-4d71569b-3e6f-4745-8ad2-f3eafcdb2e1c');\n",
              "        const dataTable =\n",
              "          await google.colab.kernel.invokeFunction('convertToInteractive',\n",
              "                                                    [key], {});\n",
              "        if (!dataTable) return;\n",
              "\n",
              "        const docLinkHtml = 'Like what you see? Visit the ' +\n",
              "          '<a target=\"_blank\" href=https://colab.research.google.com/notebooks/data_table.ipynb>data table notebook</a>'\n",
              "          + ' to learn more about interactive tables.';\n",
              "        element.innerHTML = '';\n",
              "        dataTable['output_type'] = 'display_data';\n",
              "        await google.colab.output.renderOutput(dataTable, element);\n",
              "        const docLink = document.createElement('div');\n",
              "        docLink.innerHTML = docLinkHtml;\n",
              "        element.appendChild(docLink);\n",
              "      }\n",
              "    </script>\n",
              "  </div>\n",
              "\n",
              "\n",
              "<div id=\"df-ed76fa57-2aab-4be0-8baa-2afcf63648f3\">\n",
              "  <button class=\"colab-df-quickchart\" onclick=\"quickchart('df-ed76fa57-2aab-4be0-8baa-2afcf63648f3')\"\n",
              "            title=\"Suggest charts\"\n",
              "            style=\"display:none;\">\n",
              "\n",
              "<svg xmlns=\"http://www.w3.org/2000/svg\" height=\"24px\"viewBox=\"0 0 24 24\"\n",
              "     width=\"24px\">\n",
              "    <g>\n",
              "        <path d=\"M19 3H5c-1.1 0-2 .9-2 2v14c0 1.1.9 2 2 2h14c1.1 0 2-.9 2-2V5c0-1.1-.9-2-2-2zM9 17H7v-7h2v7zm4 0h-2V7h2v10zm4 0h-2v-4h2v4z\"/>\n",
              "    </g>\n",
              "</svg>\n",
              "  </button>\n",
              "\n",
              "<style>\n",
              "  .colab-df-quickchart {\n",
              "      --bg-color: #E8F0FE;\n",
              "      --fill-color: #1967D2;\n",
              "      --hover-bg-color: #E2EBFA;\n",
              "      --hover-fill-color: #174EA6;\n",
              "      --disabled-fill-color: #AAA;\n",
              "      --disabled-bg-color: #DDD;\n",
              "  }\n",
              "\n",
              "  [theme=dark] .colab-df-quickchart {\n",
              "      --bg-color: #3B4455;\n",
              "      --fill-color: #D2E3FC;\n",
              "      --hover-bg-color: #434B5C;\n",
              "      --hover-fill-color: #FFFFFF;\n",
              "      --disabled-bg-color: #3B4455;\n",
              "      --disabled-fill-color: #666;\n",
              "  }\n",
              "\n",
              "  .colab-df-quickchart {\n",
              "    background-color: var(--bg-color);\n",
              "    border: none;\n",
              "    border-radius: 50%;\n",
              "    cursor: pointer;\n",
              "    display: none;\n",
              "    fill: var(--fill-color);\n",
              "    height: 32px;\n",
              "    padding: 0;\n",
              "    width: 32px;\n",
              "  }\n",
              "\n",
              "  .colab-df-quickchart:hover {\n",
              "    background-color: var(--hover-bg-color);\n",
              "    box-shadow: 0 1px 2px rgba(60, 64, 67, 0.3), 0 1px 3px 1px rgba(60, 64, 67, 0.15);\n",
              "    fill: var(--button-hover-fill-color);\n",
              "  }\n",
              "\n",
              "  .colab-df-quickchart-complete:disabled,\n",
              "  .colab-df-quickchart-complete:disabled:hover {\n",
              "    background-color: var(--disabled-bg-color);\n",
              "    fill: var(--disabled-fill-color);\n",
              "    box-shadow: none;\n",
              "  }\n",
              "\n",
              "  .colab-df-spinner {\n",
              "    border: 2px solid var(--fill-color);\n",
              "    border-color: transparent;\n",
              "    border-bottom-color: var(--fill-color);\n",
              "    animation:\n",
              "      spin 1s steps(1) infinite;\n",
              "  }\n",
              "\n",
              "  @keyframes spin {\n",
              "    0% {\n",
              "      border-color: transparent;\n",
              "      border-bottom-color: var(--fill-color);\n",
              "      border-left-color: var(--fill-color);\n",
              "    }\n",
              "    20% {\n",
              "      border-color: transparent;\n",
              "      border-left-color: var(--fill-color);\n",
              "      border-top-color: var(--fill-color);\n",
              "    }\n",
              "    30% {\n",
              "      border-color: transparent;\n",
              "      border-left-color: var(--fill-color);\n",
              "      border-top-color: var(--fill-color);\n",
              "      border-right-color: var(--fill-color);\n",
              "    }\n",
              "    40% {\n",
              "      border-color: transparent;\n",
              "      border-right-color: var(--fill-color);\n",
              "      border-top-color: var(--fill-color);\n",
              "    }\n",
              "    60% {\n",
              "      border-color: transparent;\n",
              "      border-right-color: var(--fill-color);\n",
              "    }\n",
              "    80% {\n",
              "      border-color: transparent;\n",
              "      border-right-color: var(--fill-color);\n",
              "      border-bottom-color: var(--fill-color);\n",
              "    }\n",
              "    90% {\n",
              "      border-color: transparent;\n",
              "      border-bottom-color: var(--fill-color);\n",
              "    }\n",
              "  }\n",
              "</style>\n",
              "\n",
              "  <script>\n",
              "    async function quickchart(key) {\n",
              "      const quickchartButtonEl =\n",
              "        document.querySelector('#' + key + ' button');\n",
              "      quickchartButtonEl.disabled = true;  // To prevent multiple clicks.\n",
              "      quickchartButtonEl.classList.add('colab-df-spinner');\n",
              "      try {\n",
              "        const charts = await google.colab.kernel.invokeFunction(\n",
              "            'suggestCharts', [key], {});\n",
              "      } catch (error) {\n",
              "        console.error('Error during call to suggestCharts:', error);\n",
              "      }\n",
              "      quickchartButtonEl.classList.remove('colab-df-spinner');\n",
              "      quickchartButtonEl.classList.add('colab-df-quickchart-complete');\n",
              "    }\n",
              "    (() => {\n",
              "      let quickchartButtonEl =\n",
              "        document.querySelector('#df-ed76fa57-2aab-4be0-8baa-2afcf63648f3 button');\n",
              "      quickchartButtonEl.style.display =\n",
              "        google.colab.kernel.accessAllowed ? 'block' : 'none';\n",
              "    })();\n",
              "  </script>\n",
              "</div>\n",
              "    </div>\n",
              "  </div>\n"
            ]
          },
          "metadata": {},
          "execution_count": 48
        }
      ],
      "source": [
        "# Example of a function\n",
        "f = lambda x : x*2#lamda function doubling the input value\n",
        "df.apply(f)#applying the function;every element in the dataframe is doubled"
      ]
    },
    {
      "cell_type": "markdown",
      "metadata": {
        "id": "ehOGXOdJfdR9"
      },
      "source": [
        "#### Your turn : create a new column by applying a function"
      ]
    },
    {
      "cell_type": "code",
      "execution_count": 49,
      "metadata": {
        "id": "cpyAo9aN97GP",
        "colab": {
          "base_uri": "https://localhost:8080/"
        },
        "outputId": "db2091ac-f833-4a63-9e52-266d7d42d63a"
      },
      "outputs": [
        {
          "output_type": "execute_result",
          "data": {
            "text/plain": [
              "1         [34.4, -114.47]\n",
              "2        [33.69, -114.56]\n",
              "3        [33.64, -114.57]\n",
              "4        [33.57, -114.57]\n",
              "5        [33.63, -114.58]\n",
              "               ...       \n",
              "16995    [40.58, -124.26]\n",
              "16996    [40.69, -124.27]\n",
              "16997     [41.84, -124.3]\n",
              "16998      [41.8, -124.3]\n",
              "16999    [40.54, -124.35]\n",
              "Name: position, Length: 16999, dtype: object"
            ]
          },
          "metadata": {},
          "execution_count": 49
        }
      ],
      "source": [
        "# Create a 'position' column by combining latitude and logitude into a string \"[latitude, longitude]\"\n",
        "df['position'] = df.apply(lambda row: f\"[{row['latitude']}, {row['longitude']}]\", axis=1)\n",
        "df['position']"
      ]
    },
    {
      "cell_type": "markdown",
      "source": [
        "axis=0 then the function is applied to row;\n",
        "axis=1 then the function is applied to column"
      ],
      "metadata": {
        "id": "Qv2r5wv0esvv"
      }
    },
    {
      "cell_type": "code",
      "execution_count": 50,
      "metadata": {
        "id": "CwIphpIzOchq",
        "colab": {
          "base_uri": "https://localhost:8080/",
          "height": 609
        },
        "outputId": "6e16ee2d-295e-4df1-b290-90299c3e6b77"
      },
      "outputs": [
        {
          "output_type": "execute_result",
          "data": {
            "text/plain": [
              "       longitude  latitude  housing_median_age  total_rooms  total_bedrooms  \\\n",
              "1        -114.47     34.40                  19         7650            1901   \n",
              "2        -114.56     33.69                  17          720             174   \n",
              "3        -114.57     33.64                  14         1501             337   \n",
              "4        -114.57     33.57                  20         1454             326   \n",
              "5        -114.58     33.63                  29         1387             236   \n",
              "...          ...       ...                 ...          ...             ...   \n",
              "16995    -124.26     40.58                  52         2217             394   \n",
              "16996    -124.27     40.69                  36         2349             528   \n",
              "16997    -124.30     41.84                  17         2677             531   \n",
              "16998    -124.30     41.80                  19         2672             552   \n",
              "16999    -124.35     40.54                  52         1820             300   \n",
              "\n",
              "       population  households  median_income          position  \\\n",
              "1            1129         463         1.8200   [34.4, -114.47]   \n",
              "2             333         117         1.6509  [33.69, -114.56]   \n",
              "3             515         226         3.1917  [33.64, -114.57]   \n",
              "4             624         262         1.9250  [33.57, -114.57]   \n",
              "5             671         239         3.3438  [33.63, -114.58]   \n",
              "...           ...         ...            ...               ...   \n",
              "16995         907         369         2.3571  [40.58, -124.26]   \n",
              "16996        1194         465         2.5179  [40.69, -124.27]   \n",
              "16997        1244         456         3.0313   [41.84, -124.3]   \n",
              "16998        1298         478         1.9797    [41.8, -124.3]   \n",
              "16999         806         270         3.0147  [40.54, -124.35]   \n",
              "\n",
              "      housing_median_age_cat  \n",
              "1                        old  \n",
              "2                        New  \n",
              "3                        New  \n",
              "4                        old  \n",
              "5                        old  \n",
              "...                      ...  \n",
              "16995         very old house  \n",
              "16996                    old  \n",
              "16997                    New  \n",
              "16998                    old  \n",
              "16999         very old house  \n",
              "\n",
              "[16999 rows x 10 columns]"
            ],
            "text/html": [
              "\n",
              "  <div id=\"df-4e1d0b15-f122-4224-aa30-e918f98b61bd\" class=\"colab-df-container\">\n",
              "    <div>\n",
              "<style scoped>\n",
              "    .dataframe tbody tr th:only-of-type {\n",
              "        vertical-align: middle;\n",
              "    }\n",
              "\n",
              "    .dataframe tbody tr th {\n",
              "        vertical-align: top;\n",
              "    }\n",
              "\n",
              "    .dataframe thead th {\n",
              "        text-align: right;\n",
              "    }\n",
              "</style>\n",
              "<table border=\"1\" class=\"dataframe\">\n",
              "  <thead>\n",
              "    <tr style=\"text-align: right;\">\n",
              "      <th></th>\n",
              "      <th>longitude</th>\n",
              "      <th>latitude</th>\n",
              "      <th>housing_median_age</th>\n",
              "      <th>total_rooms</th>\n",
              "      <th>total_bedrooms</th>\n",
              "      <th>population</th>\n",
              "      <th>households</th>\n",
              "      <th>median_income</th>\n",
              "      <th>position</th>\n",
              "      <th>housing_median_age_cat</th>\n",
              "    </tr>\n",
              "  </thead>\n",
              "  <tbody>\n",
              "    <tr>\n",
              "      <th>1</th>\n",
              "      <td>-114.47</td>\n",
              "      <td>34.40</td>\n",
              "      <td>19</td>\n",
              "      <td>7650</td>\n",
              "      <td>1901</td>\n",
              "      <td>1129</td>\n",
              "      <td>463</td>\n",
              "      <td>1.8200</td>\n",
              "      <td>[34.4, -114.47]</td>\n",
              "      <td>old</td>\n",
              "    </tr>\n",
              "    <tr>\n",
              "      <th>2</th>\n",
              "      <td>-114.56</td>\n",
              "      <td>33.69</td>\n",
              "      <td>17</td>\n",
              "      <td>720</td>\n",
              "      <td>174</td>\n",
              "      <td>333</td>\n",
              "      <td>117</td>\n",
              "      <td>1.6509</td>\n",
              "      <td>[33.69, -114.56]</td>\n",
              "      <td>New</td>\n",
              "    </tr>\n",
              "    <tr>\n",
              "      <th>3</th>\n",
              "      <td>-114.57</td>\n",
              "      <td>33.64</td>\n",
              "      <td>14</td>\n",
              "      <td>1501</td>\n",
              "      <td>337</td>\n",
              "      <td>515</td>\n",
              "      <td>226</td>\n",
              "      <td>3.1917</td>\n",
              "      <td>[33.64, -114.57]</td>\n",
              "      <td>New</td>\n",
              "    </tr>\n",
              "    <tr>\n",
              "      <th>4</th>\n",
              "      <td>-114.57</td>\n",
              "      <td>33.57</td>\n",
              "      <td>20</td>\n",
              "      <td>1454</td>\n",
              "      <td>326</td>\n",
              "      <td>624</td>\n",
              "      <td>262</td>\n",
              "      <td>1.9250</td>\n",
              "      <td>[33.57, -114.57]</td>\n",
              "      <td>old</td>\n",
              "    </tr>\n",
              "    <tr>\n",
              "      <th>5</th>\n",
              "      <td>-114.58</td>\n",
              "      <td>33.63</td>\n",
              "      <td>29</td>\n",
              "      <td>1387</td>\n",
              "      <td>236</td>\n",
              "      <td>671</td>\n",
              "      <td>239</td>\n",
              "      <td>3.3438</td>\n",
              "      <td>[33.63, -114.58]</td>\n",
              "      <td>old</td>\n",
              "    </tr>\n",
              "    <tr>\n",
              "      <th>...</th>\n",
              "      <td>...</td>\n",
              "      <td>...</td>\n",
              "      <td>...</td>\n",
              "      <td>...</td>\n",
              "      <td>...</td>\n",
              "      <td>...</td>\n",
              "      <td>...</td>\n",
              "      <td>...</td>\n",
              "      <td>...</td>\n",
              "      <td>...</td>\n",
              "    </tr>\n",
              "    <tr>\n",
              "      <th>16995</th>\n",
              "      <td>-124.26</td>\n",
              "      <td>40.58</td>\n",
              "      <td>52</td>\n",
              "      <td>2217</td>\n",
              "      <td>394</td>\n",
              "      <td>907</td>\n",
              "      <td>369</td>\n",
              "      <td>2.3571</td>\n",
              "      <td>[40.58, -124.26]</td>\n",
              "      <td>very old house</td>\n",
              "    </tr>\n",
              "    <tr>\n",
              "      <th>16996</th>\n",
              "      <td>-124.27</td>\n",
              "      <td>40.69</td>\n",
              "      <td>36</td>\n",
              "      <td>2349</td>\n",
              "      <td>528</td>\n",
              "      <td>1194</td>\n",
              "      <td>465</td>\n",
              "      <td>2.5179</td>\n",
              "      <td>[40.69, -124.27]</td>\n",
              "      <td>old</td>\n",
              "    </tr>\n",
              "    <tr>\n",
              "      <th>16997</th>\n",
              "      <td>-124.30</td>\n",
              "      <td>41.84</td>\n",
              "      <td>17</td>\n",
              "      <td>2677</td>\n",
              "      <td>531</td>\n",
              "      <td>1244</td>\n",
              "      <td>456</td>\n",
              "      <td>3.0313</td>\n",
              "      <td>[41.84, -124.3]</td>\n",
              "      <td>New</td>\n",
              "    </tr>\n",
              "    <tr>\n",
              "      <th>16998</th>\n",
              "      <td>-124.30</td>\n",
              "      <td>41.80</td>\n",
              "      <td>19</td>\n",
              "      <td>2672</td>\n",
              "      <td>552</td>\n",
              "      <td>1298</td>\n",
              "      <td>478</td>\n",
              "      <td>1.9797</td>\n",
              "      <td>[41.8, -124.3]</td>\n",
              "      <td>old</td>\n",
              "    </tr>\n",
              "    <tr>\n",
              "      <th>16999</th>\n",
              "      <td>-124.35</td>\n",
              "      <td>40.54</td>\n",
              "      <td>52</td>\n",
              "      <td>1820</td>\n",
              "      <td>300</td>\n",
              "      <td>806</td>\n",
              "      <td>270</td>\n",
              "      <td>3.0147</td>\n",
              "      <td>[40.54, -124.35]</td>\n",
              "      <td>very old house</td>\n",
              "    </tr>\n",
              "  </tbody>\n",
              "</table>\n",
              "<p>16999 rows × 10 columns</p>\n",
              "</div>\n",
              "    <div class=\"colab-df-buttons\">\n",
              "\n",
              "  <div class=\"colab-df-container\">\n",
              "    <button class=\"colab-df-convert\" onclick=\"convertToInteractive('df-4e1d0b15-f122-4224-aa30-e918f98b61bd')\"\n",
              "            title=\"Convert this dataframe to an interactive table.\"\n",
              "            style=\"display:none;\">\n",
              "\n",
              "  <svg xmlns=\"http://www.w3.org/2000/svg\" height=\"24px\" viewBox=\"0 -960 960 960\">\n",
              "    <path d=\"M120-120v-720h720v720H120Zm60-500h600v-160H180v160Zm220 220h160v-160H400v160Zm0 220h160v-160H400v160ZM180-400h160v-160H180v160Zm440 0h160v-160H620v160ZM180-180h160v-160H180v160Zm440 0h160v-160H620v160Z\"/>\n",
              "  </svg>\n",
              "    </button>\n",
              "\n",
              "  <style>\n",
              "    .colab-df-container {\n",
              "      display:flex;\n",
              "      gap: 12px;\n",
              "    }\n",
              "\n",
              "    .colab-df-convert {\n",
              "      background-color: #E8F0FE;\n",
              "      border: none;\n",
              "      border-radius: 50%;\n",
              "      cursor: pointer;\n",
              "      display: none;\n",
              "      fill: #1967D2;\n",
              "      height: 32px;\n",
              "      padding: 0 0 0 0;\n",
              "      width: 32px;\n",
              "    }\n",
              "\n",
              "    .colab-df-convert:hover {\n",
              "      background-color: #E2EBFA;\n",
              "      box-shadow: 0px 1px 2px rgba(60, 64, 67, 0.3), 0px 1px 3px 1px rgba(60, 64, 67, 0.15);\n",
              "      fill: #174EA6;\n",
              "    }\n",
              "\n",
              "    .colab-df-buttons div {\n",
              "      margin-bottom: 4px;\n",
              "    }\n",
              "\n",
              "    [theme=dark] .colab-df-convert {\n",
              "      background-color: #3B4455;\n",
              "      fill: #D2E3FC;\n",
              "    }\n",
              "\n",
              "    [theme=dark] .colab-df-convert:hover {\n",
              "      background-color: #434B5C;\n",
              "      box-shadow: 0px 1px 3px 1px rgba(0, 0, 0, 0.15);\n",
              "      filter: drop-shadow(0px 1px 2px rgba(0, 0, 0, 0.3));\n",
              "      fill: #FFFFFF;\n",
              "    }\n",
              "  </style>\n",
              "\n",
              "    <script>\n",
              "      const buttonEl =\n",
              "        document.querySelector('#df-4e1d0b15-f122-4224-aa30-e918f98b61bd button.colab-df-convert');\n",
              "      buttonEl.style.display =\n",
              "        google.colab.kernel.accessAllowed ? 'block' : 'none';\n",
              "\n",
              "      async function convertToInteractive(key) {\n",
              "        const element = document.querySelector('#df-4e1d0b15-f122-4224-aa30-e918f98b61bd');\n",
              "        const dataTable =\n",
              "          await google.colab.kernel.invokeFunction('convertToInteractive',\n",
              "                                                    [key], {});\n",
              "        if (!dataTable) return;\n",
              "\n",
              "        const docLinkHtml = 'Like what you see? Visit the ' +\n",
              "          '<a target=\"_blank\" href=https://colab.research.google.com/notebooks/data_table.ipynb>data table notebook</a>'\n",
              "          + ' to learn more about interactive tables.';\n",
              "        element.innerHTML = '';\n",
              "        dataTable['output_type'] = 'display_data';\n",
              "        await google.colab.output.renderOutput(dataTable, element);\n",
              "        const docLink = document.createElement('div');\n",
              "        docLink.innerHTML = docLinkHtml;\n",
              "        element.appendChild(docLink);\n",
              "      }\n",
              "    </script>\n",
              "  </div>\n",
              "\n",
              "\n",
              "<div id=\"df-4a998174-9e8e-4dd8-863f-d2673710349c\">\n",
              "  <button class=\"colab-df-quickchart\" onclick=\"quickchart('df-4a998174-9e8e-4dd8-863f-d2673710349c')\"\n",
              "            title=\"Suggest charts\"\n",
              "            style=\"display:none;\">\n",
              "\n",
              "<svg xmlns=\"http://www.w3.org/2000/svg\" height=\"24px\"viewBox=\"0 0 24 24\"\n",
              "     width=\"24px\">\n",
              "    <g>\n",
              "        <path d=\"M19 3H5c-1.1 0-2 .9-2 2v14c0 1.1.9 2 2 2h14c1.1 0 2-.9 2-2V5c0-1.1-.9-2-2-2zM9 17H7v-7h2v7zm4 0h-2V7h2v10zm4 0h-2v-4h2v4z\"/>\n",
              "    </g>\n",
              "</svg>\n",
              "  </button>\n",
              "\n",
              "<style>\n",
              "  .colab-df-quickchart {\n",
              "      --bg-color: #E8F0FE;\n",
              "      --fill-color: #1967D2;\n",
              "      --hover-bg-color: #E2EBFA;\n",
              "      --hover-fill-color: #174EA6;\n",
              "      --disabled-fill-color: #AAA;\n",
              "      --disabled-bg-color: #DDD;\n",
              "  }\n",
              "\n",
              "  [theme=dark] .colab-df-quickchart {\n",
              "      --bg-color: #3B4455;\n",
              "      --fill-color: #D2E3FC;\n",
              "      --hover-bg-color: #434B5C;\n",
              "      --hover-fill-color: #FFFFFF;\n",
              "      --disabled-bg-color: #3B4455;\n",
              "      --disabled-fill-color: #666;\n",
              "  }\n",
              "\n",
              "  .colab-df-quickchart {\n",
              "    background-color: var(--bg-color);\n",
              "    border: none;\n",
              "    border-radius: 50%;\n",
              "    cursor: pointer;\n",
              "    display: none;\n",
              "    fill: var(--fill-color);\n",
              "    height: 32px;\n",
              "    padding: 0;\n",
              "    width: 32px;\n",
              "  }\n",
              "\n",
              "  .colab-df-quickchart:hover {\n",
              "    background-color: var(--hover-bg-color);\n",
              "    box-shadow: 0 1px 2px rgba(60, 64, 67, 0.3), 0 1px 3px 1px rgba(60, 64, 67, 0.15);\n",
              "    fill: var(--button-hover-fill-color);\n",
              "  }\n",
              "\n",
              "  .colab-df-quickchart-complete:disabled,\n",
              "  .colab-df-quickchart-complete:disabled:hover {\n",
              "    background-color: var(--disabled-bg-color);\n",
              "    fill: var(--disabled-fill-color);\n",
              "    box-shadow: none;\n",
              "  }\n",
              "\n",
              "  .colab-df-spinner {\n",
              "    border: 2px solid var(--fill-color);\n",
              "    border-color: transparent;\n",
              "    border-bottom-color: var(--fill-color);\n",
              "    animation:\n",
              "      spin 1s steps(1) infinite;\n",
              "  }\n",
              "\n",
              "  @keyframes spin {\n",
              "    0% {\n",
              "      border-color: transparent;\n",
              "      border-bottom-color: var(--fill-color);\n",
              "      border-left-color: var(--fill-color);\n",
              "    }\n",
              "    20% {\n",
              "      border-color: transparent;\n",
              "      border-left-color: var(--fill-color);\n",
              "      border-top-color: var(--fill-color);\n",
              "    }\n",
              "    30% {\n",
              "      border-color: transparent;\n",
              "      border-left-color: var(--fill-color);\n",
              "      border-top-color: var(--fill-color);\n",
              "      border-right-color: var(--fill-color);\n",
              "    }\n",
              "    40% {\n",
              "      border-color: transparent;\n",
              "      border-right-color: var(--fill-color);\n",
              "      border-top-color: var(--fill-color);\n",
              "    }\n",
              "    60% {\n",
              "      border-color: transparent;\n",
              "      border-right-color: var(--fill-color);\n",
              "    }\n",
              "    80% {\n",
              "      border-color: transparent;\n",
              "      border-right-color: var(--fill-color);\n",
              "      border-bottom-color: var(--fill-color);\n",
              "    }\n",
              "    90% {\n",
              "      border-color: transparent;\n",
              "      border-bottom-color: var(--fill-color);\n",
              "    }\n",
              "  }\n",
              "</style>\n",
              "\n",
              "  <script>\n",
              "    async function quickchart(key) {\n",
              "      const quickchartButtonEl =\n",
              "        document.querySelector('#' + key + ' button');\n",
              "      quickchartButtonEl.disabled = true;  // To prevent multiple clicks.\n",
              "      quickchartButtonEl.classList.add('colab-df-spinner');\n",
              "      try {\n",
              "        const charts = await google.colab.kernel.invokeFunction(\n",
              "            'suggestCharts', [key], {});\n",
              "      } catch (error) {\n",
              "        console.error('Error during call to suggestCharts:', error);\n",
              "      }\n",
              "      quickchartButtonEl.classList.remove('colab-df-spinner');\n",
              "      quickchartButtonEl.classList.add('colab-df-quickchart-complete');\n",
              "    }\n",
              "    (() => {\n",
              "      let quickchartButtonEl =\n",
              "        document.querySelector('#df-4a998174-9e8e-4dd8-863f-d2673710349c button');\n",
              "      quickchartButtonEl.style.display =\n",
              "        google.colab.kernel.accessAllowed ? 'block' : 'none';\n",
              "    })();\n",
              "  </script>\n",
              "</div>\n",
              "    </div>\n",
              "  </div>\n"
            ]
          },
          "metadata": {},
          "execution_count": 50
        }
      ],
      "source": [
        "# Create a 'housing_median_age_cat' column with different categories based on the housing_median_age\n",
        "df['housing_median_age_cat'] = df['housing_median_age'].apply(lambda x: 'New' if x <= 18 else 'old' if x <= 45 else 'too old' if x <= 50 else 'very old house')\n",
        "df"
      ]
    },
    {
      "cell_type": "code",
      "execution_count": 51,
      "metadata": {
        "id": "pAuNwLVEPVmM",
        "colab": {
          "base_uri": "https://localhost:8080/",
          "height": 609
        },
        "outputId": "bdbee98a-0c7c-4975-93c9-2388312e1378"
      },
      "outputs": [
        {
          "output_type": "execute_result",
          "data": {
            "text/plain": [
              "       longitude  latitude  housing_median_age  total_rooms  total_bedrooms  \\\n",
              "1        -114.47     34.40                  19         7650            1901   \n",
              "2        -114.56     33.69                  17          720             174   \n",
              "3        -114.57     33.64                  14         1501             337   \n",
              "4        -114.57     33.57                  20         1454             326   \n",
              "5        -114.58     33.63                  29         1387             236   \n",
              "...          ...       ...                 ...          ...             ...   \n",
              "16995    -124.26     40.58                  52         2217             394   \n",
              "16996    -124.27     40.69                  36         2349             528   \n",
              "16997    -124.30     41.84                  17         2677             531   \n",
              "16998    -124.30     41.80                  19         2672             552   \n",
              "16999    -124.35     40.54                  52         1820             300   \n",
              "\n",
              "       population  households  median_income          position  \\\n",
              "1            1129         463         1.8200   [34.4, -114.47]   \n",
              "2             333         117         1.6509  [33.69, -114.56]   \n",
              "3             515         226         3.1917  [33.64, -114.57]   \n",
              "4             624         262         1.9250  [33.57, -114.57]   \n",
              "5             671         239         3.3438  [33.63, -114.58]   \n",
              "...           ...         ...            ...               ...   \n",
              "16995         907         369         2.3571  [40.58, -124.26]   \n",
              "16996        1194         465         2.5179  [40.69, -124.27]   \n",
              "16997        1244         456         3.0313   [41.84, -124.3]   \n",
              "16998        1298         478         1.9797    [41.8, -124.3]   \n",
              "16999         806         270         3.0147  [40.54, -124.35]   \n",
              "\n",
              "       housing_median_age_cat  \n",
              "1                        3825  \n",
              "2                         360  \n",
              "3                         750  \n",
              "4                         727  \n",
              "5                         693  \n",
              "...                       ...  \n",
              "16995                    1108  \n",
              "16996                    1174  \n",
              "16997                    1338  \n",
              "16998                    1336  \n",
              "16999                     910  \n",
              "\n",
              "[16999 rows x 10 columns]"
            ],
            "text/html": [
              "\n",
              "  <div id=\"df-95ff47e9-64c2-4a2e-9967-f314aba7f4ae\" class=\"colab-df-container\">\n",
              "    <div>\n",
              "<style scoped>\n",
              "    .dataframe tbody tr th:only-of-type {\n",
              "        vertical-align: middle;\n",
              "    }\n",
              "\n",
              "    .dataframe tbody tr th {\n",
              "        vertical-align: top;\n",
              "    }\n",
              "\n",
              "    .dataframe thead th {\n",
              "        text-align: right;\n",
              "    }\n",
              "</style>\n",
              "<table border=\"1\" class=\"dataframe\">\n",
              "  <thead>\n",
              "    <tr style=\"text-align: right;\">\n",
              "      <th></th>\n",
              "      <th>longitude</th>\n",
              "      <th>latitude</th>\n",
              "      <th>housing_median_age</th>\n",
              "      <th>total_rooms</th>\n",
              "      <th>total_bedrooms</th>\n",
              "      <th>population</th>\n",
              "      <th>households</th>\n",
              "      <th>median_income</th>\n",
              "      <th>position</th>\n",
              "      <th>housing_median_age_cat</th>\n",
              "    </tr>\n",
              "  </thead>\n",
              "  <tbody>\n",
              "    <tr>\n",
              "      <th>1</th>\n",
              "      <td>-114.47</td>\n",
              "      <td>34.40</td>\n",
              "      <td>19</td>\n",
              "      <td>7650</td>\n",
              "      <td>1901</td>\n",
              "      <td>1129</td>\n",
              "      <td>463</td>\n",
              "      <td>1.8200</td>\n",
              "      <td>[34.4, -114.47]</td>\n",
              "      <td>3825</td>\n",
              "    </tr>\n",
              "    <tr>\n",
              "      <th>2</th>\n",
              "      <td>-114.56</td>\n",
              "      <td>33.69</td>\n",
              "      <td>17</td>\n",
              "      <td>720</td>\n",
              "      <td>174</td>\n",
              "      <td>333</td>\n",
              "      <td>117</td>\n",
              "      <td>1.6509</td>\n",
              "      <td>[33.69, -114.56]</td>\n",
              "      <td>360</td>\n",
              "    </tr>\n",
              "    <tr>\n",
              "      <th>3</th>\n",
              "      <td>-114.57</td>\n",
              "      <td>33.64</td>\n",
              "      <td>14</td>\n",
              "      <td>1501</td>\n",
              "      <td>337</td>\n",
              "      <td>515</td>\n",
              "      <td>226</td>\n",
              "      <td>3.1917</td>\n",
              "      <td>[33.64, -114.57]</td>\n",
              "      <td>750</td>\n",
              "    </tr>\n",
              "    <tr>\n",
              "      <th>4</th>\n",
              "      <td>-114.57</td>\n",
              "      <td>33.57</td>\n",
              "      <td>20</td>\n",
              "      <td>1454</td>\n",
              "      <td>326</td>\n",
              "      <td>624</td>\n",
              "      <td>262</td>\n",
              "      <td>1.9250</td>\n",
              "      <td>[33.57, -114.57]</td>\n",
              "      <td>727</td>\n",
              "    </tr>\n",
              "    <tr>\n",
              "      <th>5</th>\n",
              "      <td>-114.58</td>\n",
              "      <td>33.63</td>\n",
              "      <td>29</td>\n",
              "      <td>1387</td>\n",
              "      <td>236</td>\n",
              "      <td>671</td>\n",
              "      <td>239</td>\n",
              "      <td>3.3438</td>\n",
              "      <td>[33.63, -114.58]</td>\n",
              "      <td>693</td>\n",
              "    </tr>\n",
              "    <tr>\n",
              "      <th>...</th>\n",
              "      <td>...</td>\n",
              "      <td>...</td>\n",
              "      <td>...</td>\n",
              "      <td>...</td>\n",
              "      <td>...</td>\n",
              "      <td>...</td>\n",
              "      <td>...</td>\n",
              "      <td>...</td>\n",
              "      <td>...</td>\n",
              "      <td>...</td>\n",
              "    </tr>\n",
              "    <tr>\n",
              "      <th>16995</th>\n",
              "      <td>-124.26</td>\n",
              "      <td>40.58</td>\n",
              "      <td>52</td>\n",
              "      <td>2217</td>\n",
              "      <td>394</td>\n",
              "      <td>907</td>\n",
              "      <td>369</td>\n",
              "      <td>2.3571</td>\n",
              "      <td>[40.58, -124.26]</td>\n",
              "      <td>1108</td>\n",
              "    </tr>\n",
              "    <tr>\n",
              "      <th>16996</th>\n",
              "      <td>-124.27</td>\n",
              "      <td>40.69</td>\n",
              "      <td>36</td>\n",
              "      <td>2349</td>\n",
              "      <td>528</td>\n",
              "      <td>1194</td>\n",
              "      <td>465</td>\n",
              "      <td>2.5179</td>\n",
              "      <td>[40.69, -124.27]</td>\n",
              "      <td>1174</td>\n",
              "    </tr>\n",
              "    <tr>\n",
              "      <th>16997</th>\n",
              "      <td>-124.30</td>\n",
              "      <td>41.84</td>\n",
              "      <td>17</td>\n",
              "      <td>2677</td>\n",
              "      <td>531</td>\n",
              "      <td>1244</td>\n",
              "      <td>456</td>\n",
              "      <td>3.0313</td>\n",
              "      <td>[41.84, -124.3]</td>\n",
              "      <td>1338</td>\n",
              "    </tr>\n",
              "    <tr>\n",
              "      <th>16998</th>\n",
              "      <td>-124.30</td>\n",
              "      <td>41.80</td>\n",
              "      <td>19</td>\n",
              "      <td>2672</td>\n",
              "      <td>552</td>\n",
              "      <td>1298</td>\n",
              "      <td>478</td>\n",
              "      <td>1.9797</td>\n",
              "      <td>[41.8, -124.3]</td>\n",
              "      <td>1336</td>\n",
              "    </tr>\n",
              "    <tr>\n",
              "      <th>16999</th>\n",
              "      <td>-124.35</td>\n",
              "      <td>40.54</td>\n",
              "      <td>52</td>\n",
              "      <td>1820</td>\n",
              "      <td>300</td>\n",
              "      <td>806</td>\n",
              "      <td>270</td>\n",
              "      <td>3.0147</td>\n",
              "      <td>[40.54, -124.35]</td>\n",
              "      <td>910</td>\n",
              "    </tr>\n",
              "  </tbody>\n",
              "</table>\n",
              "<p>16999 rows × 10 columns</p>\n",
              "</div>\n",
              "    <div class=\"colab-df-buttons\">\n",
              "\n",
              "  <div class=\"colab-df-container\">\n",
              "    <button class=\"colab-df-convert\" onclick=\"convertToInteractive('df-95ff47e9-64c2-4a2e-9967-f314aba7f4ae')\"\n",
              "            title=\"Convert this dataframe to an interactive table.\"\n",
              "            style=\"display:none;\">\n",
              "\n",
              "  <svg xmlns=\"http://www.w3.org/2000/svg\" height=\"24px\" viewBox=\"0 -960 960 960\">\n",
              "    <path d=\"M120-120v-720h720v720H120Zm60-500h600v-160H180v160Zm220 220h160v-160H400v160Zm0 220h160v-160H400v160ZM180-400h160v-160H180v160Zm440 0h160v-160H620v160ZM180-180h160v-160H180v160Zm440 0h160v-160H620v160Z\"/>\n",
              "  </svg>\n",
              "    </button>\n",
              "\n",
              "  <style>\n",
              "    .colab-df-container {\n",
              "      display:flex;\n",
              "      gap: 12px;\n",
              "    }\n",
              "\n",
              "    .colab-df-convert {\n",
              "      background-color: #E8F0FE;\n",
              "      border: none;\n",
              "      border-radius: 50%;\n",
              "      cursor: pointer;\n",
              "      display: none;\n",
              "      fill: #1967D2;\n",
              "      height: 32px;\n",
              "      padding: 0 0 0 0;\n",
              "      width: 32px;\n",
              "    }\n",
              "\n",
              "    .colab-df-convert:hover {\n",
              "      background-color: #E2EBFA;\n",
              "      box-shadow: 0px 1px 2px rgba(60, 64, 67, 0.3), 0px 1px 3px 1px rgba(60, 64, 67, 0.15);\n",
              "      fill: #174EA6;\n",
              "    }\n",
              "\n",
              "    .colab-df-buttons div {\n",
              "      margin-bottom: 4px;\n",
              "    }\n",
              "\n",
              "    [theme=dark] .colab-df-convert {\n",
              "      background-color: #3B4455;\n",
              "      fill: #D2E3FC;\n",
              "    }\n",
              "\n",
              "    [theme=dark] .colab-df-convert:hover {\n",
              "      background-color: #434B5C;\n",
              "      box-shadow: 0px 1px 3px 1px rgba(0, 0, 0, 0.15);\n",
              "      filter: drop-shadow(0px 1px 2px rgba(0, 0, 0, 0.3));\n",
              "      fill: #FFFFFF;\n",
              "    }\n",
              "  </style>\n",
              "\n",
              "    <script>\n",
              "      const buttonEl =\n",
              "        document.querySelector('#df-95ff47e9-64c2-4a2e-9967-f314aba7f4ae button.colab-df-convert');\n",
              "      buttonEl.style.display =\n",
              "        google.colab.kernel.accessAllowed ? 'block' : 'none';\n",
              "\n",
              "      async function convertToInteractive(key) {\n",
              "        const element = document.querySelector('#df-95ff47e9-64c2-4a2e-9967-f314aba7f4ae');\n",
              "        const dataTable =\n",
              "          await google.colab.kernel.invokeFunction('convertToInteractive',\n",
              "                                                    [key], {});\n",
              "        if (!dataTable) return;\n",
              "\n",
              "        const docLinkHtml = 'Like what you see? Visit the ' +\n",
              "          '<a target=\"_blank\" href=https://colab.research.google.com/notebooks/data_table.ipynb>data table notebook</a>'\n",
              "          + ' to learn more about interactive tables.';\n",
              "        element.innerHTML = '';\n",
              "        dataTable['output_type'] = 'display_data';\n",
              "        await google.colab.output.renderOutput(dataTable, element);\n",
              "        const docLink = document.createElement('div');\n",
              "        docLink.innerHTML = docLinkHtml;\n",
              "        element.appendChild(docLink);\n",
              "      }\n",
              "    </script>\n",
              "  </div>\n",
              "\n",
              "\n",
              "<div id=\"df-c673cc07-d3af-425e-ae93-612085ce7531\">\n",
              "  <button class=\"colab-df-quickchart\" onclick=\"quickchart('df-c673cc07-d3af-425e-ae93-612085ce7531')\"\n",
              "            title=\"Suggest charts\"\n",
              "            style=\"display:none;\">\n",
              "\n",
              "<svg xmlns=\"http://www.w3.org/2000/svg\" height=\"24px\"viewBox=\"0 0 24 24\"\n",
              "     width=\"24px\">\n",
              "    <g>\n",
              "        <path d=\"M19 3H5c-1.1 0-2 .9-2 2v14c0 1.1.9 2 2 2h14c1.1 0 2-.9 2-2V5c0-1.1-.9-2-2-2zM9 17H7v-7h2v7zm4 0h-2V7h2v10zm4 0h-2v-4h2v4z\"/>\n",
              "    </g>\n",
              "</svg>\n",
              "  </button>\n",
              "\n",
              "<style>\n",
              "  .colab-df-quickchart {\n",
              "      --bg-color: #E8F0FE;\n",
              "      --fill-color: #1967D2;\n",
              "      --hover-bg-color: #E2EBFA;\n",
              "      --hover-fill-color: #174EA6;\n",
              "      --disabled-fill-color: #AAA;\n",
              "      --disabled-bg-color: #DDD;\n",
              "  }\n",
              "\n",
              "  [theme=dark] .colab-df-quickchart {\n",
              "      --bg-color: #3B4455;\n",
              "      --fill-color: #D2E3FC;\n",
              "      --hover-bg-color: #434B5C;\n",
              "      --hover-fill-color: #FFFFFF;\n",
              "      --disabled-bg-color: #3B4455;\n",
              "      --disabled-fill-color: #666;\n",
              "  }\n",
              "\n",
              "  .colab-df-quickchart {\n",
              "    background-color: var(--bg-color);\n",
              "    border: none;\n",
              "    border-radius: 50%;\n",
              "    cursor: pointer;\n",
              "    display: none;\n",
              "    fill: var(--fill-color);\n",
              "    height: 32px;\n",
              "    padding: 0;\n",
              "    width: 32px;\n",
              "  }\n",
              "\n",
              "  .colab-df-quickchart:hover {\n",
              "    background-color: var(--hover-bg-color);\n",
              "    box-shadow: 0 1px 2px rgba(60, 64, 67, 0.3), 0 1px 3px 1px rgba(60, 64, 67, 0.15);\n",
              "    fill: var(--button-hover-fill-color);\n",
              "  }\n",
              "\n",
              "  .colab-df-quickchart-complete:disabled,\n",
              "  .colab-df-quickchart-complete:disabled:hover {\n",
              "    background-color: var(--disabled-bg-color);\n",
              "    fill: var(--disabled-fill-color);\n",
              "    box-shadow: none;\n",
              "  }\n",
              "\n",
              "  .colab-df-spinner {\n",
              "    border: 2px solid var(--fill-color);\n",
              "    border-color: transparent;\n",
              "    border-bottom-color: var(--fill-color);\n",
              "    animation:\n",
              "      spin 1s steps(1) infinite;\n",
              "  }\n",
              "\n",
              "  @keyframes spin {\n",
              "    0% {\n",
              "      border-color: transparent;\n",
              "      border-bottom-color: var(--fill-color);\n",
              "      border-left-color: var(--fill-color);\n",
              "    }\n",
              "    20% {\n",
              "      border-color: transparent;\n",
              "      border-left-color: var(--fill-color);\n",
              "      border-top-color: var(--fill-color);\n",
              "    }\n",
              "    30% {\n",
              "      border-color: transparent;\n",
              "      border-left-color: var(--fill-color);\n",
              "      border-top-color: var(--fill-color);\n",
              "      border-right-color: var(--fill-color);\n",
              "    }\n",
              "    40% {\n",
              "      border-color: transparent;\n",
              "      border-right-color: var(--fill-color);\n",
              "      border-top-color: var(--fill-color);\n",
              "    }\n",
              "    60% {\n",
              "      border-color: transparent;\n",
              "      border-right-color: var(--fill-color);\n",
              "    }\n",
              "    80% {\n",
              "      border-color: transparent;\n",
              "      border-right-color: var(--fill-color);\n",
              "      border-bottom-color: var(--fill-color);\n",
              "    }\n",
              "    90% {\n",
              "      border-color: transparent;\n",
              "      border-bottom-color: var(--fill-color);\n",
              "    }\n",
              "  }\n",
              "</style>\n",
              "\n",
              "  <script>\n",
              "    async function quickchart(key) {\n",
              "      const quickchartButtonEl =\n",
              "        document.querySelector('#' + key + ' button');\n",
              "      quickchartButtonEl.disabled = true;  // To prevent multiple clicks.\n",
              "      quickchartButtonEl.classList.add('colab-df-spinner');\n",
              "      try {\n",
              "        const charts = await google.colab.kernel.invokeFunction(\n",
              "            'suggestCharts', [key], {});\n",
              "      } catch (error) {\n",
              "        console.error('Error during call to suggestCharts:', error);\n",
              "      }\n",
              "      quickchartButtonEl.classList.remove('colab-df-spinner');\n",
              "      quickchartButtonEl.classList.add('colab-df-quickchart-complete');\n",
              "    }\n",
              "    (() => {\n",
              "      let quickchartButtonEl =\n",
              "        document.querySelector('#df-c673cc07-d3af-425e-ae93-612085ce7531 button');\n",
              "      quickchartButtonEl.style.display =\n",
              "        google.colab.kernel.accessAllowed ? 'block' : 'none';\n",
              "    })();\n",
              "  </script>\n",
              "</div>\n",
              "    </div>\n",
              "  </div>\n"
            ]
          },
          "metadata": {},
          "execution_count": 51
        }
      ],
      "source": [
        "# Create another function of your choice and apply it to the dataframe\n",
        "\n",
        "df['housing_median_age_cat'] = df['total_rooms'].apply(lambda row :row//2 )\n",
        "df"
      ]
    },
    {
      "cell_type": "markdown",
      "metadata": {
        "id": "SgZaNYlkVqtz"
      },
      "source": [
        "### Creating plots using pandas\n",
        "\n",
        "Explore the different plots available in Pandas\n",
        "https://pandas.pydata.org/docs/reference/api/pandas.DataFrame.plot.html\n",
        "\n",
        "Create at least 3 relevant plots to explore the dataset and explain your analysis. Use only pandas to do so."
      ]
    },
    {
      "cell_type": "code",
      "execution_count": 77,
      "metadata": {
        "id": "_PNprODaWXmm",
        "colab": {
          "base_uri": "https://localhost:8080/",
          "height": 417
        },
        "outputId": "26778ff8-30f2-4137-bb7c-3e87fa3a53e1"
      },
      "outputs": [
        {
          "output_type": "display_data",
          "data": {
            "text/plain": [
              "<Figure size 1000x600 with 1 Axes>"
            ],
            "image/png": "[encoded data removed]"
          },
          "metadata": {}
        }
      ],
      "source": [
        "df['housing_median_age'].plot(kind='hist', bins=20, edgecolor='black', figsize=(10, 6))\n",
        "plt.title('Histogram of Housing Median Age')\n",
        "plt.xlabel('Housing Median Age')\n",
        "plt.ylabel('Frequency')\n",
        "plt.show()\n",
        "#distribution of housing median ages in the dataset."
      ]
    },
    {
      "cell_type": "code",
      "execution_count": 78,
      "metadata": {
        "id": "Ze74q5T7W3H3",
        "colab": {
          "base_uri": "https://localhost:8080/",
          "height": 393
        },
        "outputId": "dff8d3bc-cca1-4e93-b069-dd9c9be11861"
      },
      "outputs": [
        {
          "output_type": "display_data",
          "data": {
            "text/plain": [
              "<Figure size 1000x600 with 1 Axes>"
            ],
            "image/png": "[encoded data removed]"
          },
          "metadata": {}
        }
      ],
      "source": [
        "df['median_income'].plot(kind='box', vert=False, figsize=(10, 6))\n",
        "plt.title('Box Plot of Median Income')\n",
        "plt.xlabel('Median Income')\n",
        "plt.show()\n",
        "#visualizes the distribution and statistical summary of the median income data, helping to identify outliers and the overall spread of values."
      ]
    },
    {
      "cell_type": "code",
      "source": [
        "# Scatter Matrix: Pairwise Relationships\n",
        "from pandas.plotting import scatter_matrix\n",
        "scatter_matrix(df[['total_rooms', 'total_bedrooms', 'population', 'median_income', 'housing_median_age']], alpha=0.8, figsize=(10, 10), diagonal='hist')\n"
      ],
      "metadata": {
        "colab": {
          "base_uri": "https://localhost:8080/",
          "height": 1000
        },
        "id": "3WLF2v9JC-7e",
        "outputId": "3db09079-a778-4632-f151-98c819d2e8c1"
      },
      "execution_count": 82,
      "outputs": [
        {
          "output_type": "execute_result",
          "data": {
            "text/plain": [
              "array([[<Axes: xlabel='total_rooms', ylabel='total_rooms'>,\n",
              "        <Axes: xlabel='total_bedrooms', ylabel='total_rooms'>,\n",
              "        <Axes: xlabel='population', ylabel='total_rooms'>,\n",
              "        <Axes: xlabel='median_income', ylabel='total_rooms'>,\n",
              "        <Axes: xlabel='housing_median_age', ylabel='total_rooms'>],\n",
              "       [<Axes: xlabel='total_rooms', ylabel='total_bedrooms'>,\n",
              "        <Axes: xlabel='total_bedrooms', ylabel='total_bedrooms'>,\n",
              "        <Axes: xlabel='population', ylabel='total_bedrooms'>,\n",
              "        <Axes: xlabel='median_income', ylabel='total_bedrooms'>,\n",
              "        <Axes: xlabel='housing_median_age', ylabel='total_bedrooms'>],\n",
              "       [<Axes: xlabel='total_rooms', ylabel='population'>,\n",
              "        <Axes: xlabel='total_bedrooms', ylabel='population'>,\n",
              "        <Axes: xlabel='population', ylabel='population'>,\n",
              "        <Axes: xlabel='median_income', ylabel='population'>,\n",
              "        <Axes: xlabel='housing_median_age', ylabel='population'>],\n",
              "       [<Axes: xlabel='total_rooms', ylabel='median_income'>,\n",
              "        <Axes: xlabel='total_bedrooms', ylabel='median_income'>,\n",
              "        <Axes: xlabel='population', ylabel='median_income'>,\n",
              "        <Axes: xlabel='median_income', ylabel='median_income'>,\n",
              "        <Axes: xlabel='housing_median_age', ylabel='median_income'>],\n",
              "       [<Axes: xlabel='total_rooms', ylabel='housing_median_age'>,\n",
              "        <Axes: xlabel='total_bedrooms', ylabel='housing_median_age'>,\n",
              "        <Axes: xlabel='population', ylabel='housing_median_age'>,\n",
              "        <Axes: xlabel='median_income', ylabel='housing_median_age'>,\n",
              "        <Axes: xlabel='housing_median_age', ylabel='housing_median_age'>]],\n",
              "      dtype=object)"
            ]
          },
          "metadata": {},
          "execution_count": 82
        },
        {
          "output_type": "display_data",
          "data": {
            "text/plain": [
              "<Figure size 1000x1000 with 25 Axes>"
            ],
            "image/png": "[encoded data removed]"
          },
          "metadata": {}
        }
      ]
    },
    {
      "cell_type": "markdown",
      "metadata": {
        "id": "irRsQ_27YuU4"
      },
      "source": [
        "### More Pandas"
      ]
    },
    {
      "cell_type": "markdown",
      "metadata": {
        "id": "jK3iEmr4YzAT"
      },
      "source": [
        "#### Group by\n",
        "With the help from the documentation (https://pandas.pydata.org/docs/reference/api/pandas.DataFrame.groupby.html), compute the mean of each column for each age group you defined earlier."
      ]
    },
    {
      "cell_type": "code",
      "execution_count": 83,
      "metadata": {
        "id": "zi5bnG7_YyJ6",
        "colab": {
          "base_uri": "https://localhost:8080/"
        },
        "outputId": "9124f8ae-5ab2-41a4-e141-385e3d0ebd52"
      },
      "outputs": [
        {
          "output_type": "stream",
          "name": "stdout",
          "text": [
            "                     longitude   latitude  total_rooms  total_bedrooms  \\\n",
            "housing_median_age                                                       \n",
            "1                  -121.465000  37.940000  2158.000000      335.500000   \n",
            "2                  -119.035306  35.410816  5237.102041      871.448980   \n",
            "3                  -118.798478  35.164783  6920.326087     1190.826087   \n",
            "4                  -118.805093  34.987764  6065.614907     1068.192547   \n",
            "5                  -118.789497  35.095327  4926.261307      910.924623   \n",
            "6                  -118.915969  35.183798  4365.062016      821.550388   \n",
            "7                  -119.165497  35.627616  5672.907285     1047.350993   \n",
            "8                  -119.375056  35.785899  4076.786517      779.252809   \n",
            "9                  -119.324186  35.654942  3813.465116      727.401163   \n",
            "10                 -119.350841  35.881681  3518.482301      681.508850   \n",
            "11                 -119.517837  35.930288  3971.105769      768.932692   \n",
            "12                 -119.405000  35.806458  4216.661458      838.843750   \n",
            "13                 -119.406586  35.814819  3692.506024      719.670683   \n",
            "14                 -119.510605  35.905159  3720.348703      719.187320   \n",
            "15                 -119.483928  35.882410  3277.706024      643.956627   \n",
            "16                 -119.530094  35.685748  3047.636220      593.274016   \n",
            "17                 -119.597656  35.907882  3133.967014      634.760417   \n",
            "18                 -119.640209  35.938054  3098.443515      624.525105   \n",
            "19                 -119.541820  35.842597  3005.140777      621.519417   \n",
            "20                 -119.862350  36.136449  2852.334204      601.778068   \n",
            "21                 -119.560134  35.751635  3134.273458      645.608579   \n",
            "22                 -119.598266  35.772879  3316.916409      683.736842   \n",
            "23                 -119.590890  35.718115  2918.803665      584.424084   \n",
            "24                 -119.344910  35.391054  2894.146530      604.647815   \n",
            "25                 -119.426898  35.470108  2797.260304      581.260304   \n",
            "26                 -119.477654  35.507038  2612.409543      523.944334   \n",
            "27                 -119.708363  35.707128  2577.405542      539.969773   \n",
            "28                 -119.568050  35.571075  2538.380000      540.707500   \n",
            "29                 -119.360348  35.427968  2484.064171      528.454545   \n",
            "30                 -119.499922  35.476120  2346.848958      511.291667   \n",
            "31                 -119.412865  35.370990  2345.164062      507.812500   \n",
            "32                 -119.465917  35.472664  2355.899563      489.515284   \n",
            "33                 -119.394211  35.402378  2205.391813      453.594542   \n",
            "34                 -119.195714  35.174603  2132.629630      434.989418   \n",
            "35                 -119.233786  35.163627  1969.802023      404.176301   \n",
            "36                 -119.232434  35.127972  1845.716084      377.085315   \n",
            "37                 -119.464371  35.335378  1819.633867      387.194508   \n",
            "38                 -119.334245  35.325472  1848.987421      402.591195   \n",
            "39                 -119.621556  35.513146  1886.930464      413.145695   \n",
            "40                 -119.576386  35.466265  1823.562249      408.236948   \n",
            "41                 -119.390086  35.316983  1653.521552      375.896552   \n",
            "42                 -119.480292  35.361169  1750.376623      396.230519   \n",
            "43                 -119.689301  35.582587  1683.895105      382.811189   \n",
            "44                 -119.460034  35.276351  1785.672297      382.351351   \n",
            "45                 -119.668596  35.468979  1790.889362      376.055319   \n",
            "46                 -119.877755  35.732194  1737.520408      389.678571   \n",
            "47                 -119.985029  35.843943  1780.457143      388.200000   \n",
            "48                 -119.837556  35.730222  1777.496296      379.400000   \n",
            "49                 -120.374324  36.097748  1928.369369      403.855856   \n",
            "50                 -120.077143  35.900893  1758.937500      394.687500   \n",
            "51                 -120.593750  36.325938  1871.562500      389.656250   \n",
            "52                 -120.917253  36.634230  1868.242395      404.811787   \n",
            "\n",
            "                     population   households  median_income  \\\n",
            "housing_median_age                                            \n",
            "1                    637.000000   190.000000       4.756800   \n",
            "2                   2005.224490   707.122449       5.074237   \n",
            "3                   2934.673913  1030.413043       5.572013   \n",
            "4                   2739.956522   964.291925       5.196055   \n",
            "5                   2456.979899   826.768844       4.732460   \n",
            "6                   2111.263566   746.744186       4.463901   \n",
            "7                   2705.483444   944.112583       4.368441   \n",
            "8                   2055.483146   710.410112       4.412988   \n",
            "9                   1866.093023   656.633721       4.357513   \n",
            "10                  1721.305310   608.703540       4.126004   \n",
            "11                  2044.067308   693.552885       4.029663   \n",
            "12                  2145.515625   774.786458       4.003208   \n",
            "13                  1807.510040   651.341365       4.145092   \n",
            "14                  1884.657061   650.982709       4.148454   \n",
            "15                  1635.775904   583.600000       4.010002   \n",
            "16                  1517.634646   547.962205       4.288458   \n",
            "17                  1601.041667   578.085069       3.929201   \n",
            "18                  1606.784519   573.248954       3.954591   \n",
            "19                  1611.822816   574.444175       3.833244   \n",
            "20                  1521.451697   552.516971       3.749984   \n",
            "21                  1642.941019   595.477212       3.870417   \n",
            "22                  1764.043344   624.907121       3.941335   \n",
            "23                  1575.429319   545.023560       3.963371   \n",
            "24                  1616.424165   566.347044       3.921026   \n",
            "25                  1560.331887   547.249458       4.135890   \n",
            "26                  1455.495030   493.725646       4.071895   \n",
            "27                  1394.516373   500.287154       3.859375   \n",
            "28                  1449.887500   507.377500       3.813176   \n",
            "29                  1449.810160   493.157754       3.633556   \n",
            "30                  1426.296875   481.226562       3.580732   \n",
            "31                  1396.539062   481.695312       3.619995   \n",
            "32                  1387.150655   461.858079       3.800399   \n",
            "33                  1289.760234   430.818713       3.862161   \n",
            "34                  1230.865961   414.296296       3.959488   \n",
            "35                  1197.741329   387.942197       3.909391   \n",
            "36                  1088.579021   363.012587       3.973530   \n",
            "37                  1088.128146   369.331808       3.684131   \n",
            "38                  1112.138365   379.716981       3.463225   \n",
            "39                  1143.986755   392.248344       3.395865   \n",
            "40                  1113.160643   386.775100       3.432734   \n",
            "41                  1051.616379   354.418103       3.149125   \n",
            "42                  1132.753247   378.305195       3.447088   \n",
            "43                  1038.062937   363.178322       3.238897   \n",
            "44                  1024.442568   360.233108       3.507043   \n",
            "45                  1007.548936   360.791489       3.739467   \n",
            "46                  1049.244898   373.387755       3.357832   \n",
            "47                  1032.531429   365.440000       3.278638   \n",
            "48                   963.288889   356.355556       3.526261   \n",
            "49                  1002.558559   384.531532       3.547657   \n",
            "50                   986.705357   367.544643       3.472372   \n",
            "51                   950.218750   369.781250       3.670503   \n",
            "52                   934.461977   379.792776       3.943037   \n",
            "\n",
            "                    housing_median_age_cat  \n",
            "housing_median_age                          \n",
            "1                              1079.000000  \n",
            "2                              2618.306122  \n",
            "3                              3459.956522  \n",
            "4                              3032.565217  \n",
            "5                              2462.889447  \n",
            "6                              2182.263566  \n",
            "7                              2836.178808  \n",
            "8                              2038.168539  \n",
            "9                              1906.505814  \n",
            "10                             1758.969027  \n",
            "11                             1985.302885  \n",
            "12                             2108.078125  \n",
            "13                             1845.995984  \n",
            "14                             1859.904899  \n",
            "15                             1638.595181  \n",
            "16                             1523.571654  \n",
            "17                             1566.713542  \n",
            "18                             1548.945607  \n",
            "19                             1502.310680  \n",
            "20                             1425.924282  \n",
            "21                             1566.879357  \n",
            "22                             1658.216718  \n",
            "23                             1459.154450  \n",
            "24                             1446.825193  \n",
            "25                             1398.368764  \n",
            "26                             1305.932406  \n",
            "27                             1288.448363  \n",
            "28                             1268.935000  \n",
            "29                             1241.767380  \n",
            "30                             1173.177083  \n",
            "31                             1172.333333  \n",
            "32                             1177.700873  \n",
            "33                             1102.430799  \n",
            "34                             1066.056437  \n",
            "35                              984.640173  \n",
            "36                              922.608392  \n",
            "37                              909.574371  \n",
            "38                              924.245283  \n",
            "39                              943.205298  \n",
            "40                              911.550201  \n",
            "41                              826.517241  \n",
            "42                              874.928571  \n",
            "43                              841.706294  \n",
            "44                              892.584459  \n",
            "45                              895.191489  \n",
            "46                              868.510204  \n",
            "47                              889.965714  \n",
            "48                              888.518519  \n",
            "49                              963.918919  \n",
            "50                              879.151786  \n",
            "51                              935.531250  \n",
            "52                              933.875475  \n"
          ]
        },
        {
          "output_type": "stream",
          "name": "stderr",
          "text": [
            "<ipython-input-83-ea4d204431b0>:4: FutureWarning: The default value of numeric_only in DataFrameGroupBy.mean is deprecated. In a future version, numeric_only will default to False. Either specify numeric_only or select only columns which should be valid for the function.\n",
            "  age_groups_mean = df.groupby('housing_median_age').mean()\n"
          ]
        }
      ],
      "source": [
        "# Mean of each column for each age group\n",
        "\n",
        "# Grouping by 'housing_median_age' and computing the mean for each group\n",
        "age_groups_mean = df.groupby('housing_median_age').mean()\n",
        "\n",
        "# Displaying the mean values for each age group\n",
        "print(age_groups_mean)\n"
      ]
    },
    {
      "cell_type": "markdown",
      "metadata": {
        "id": "psahiAqVglX5"
      },
      "source": [
        "### Save your final dataframe in a csv file"
      ]
    },
    {
      "cell_type": "code",
      "execution_count": 84,
      "metadata": {
        "id": "WBSP6SCBY6WA"
      },
      "outputs": [],
      "source": [
        "# Save your dataframe as a csv\n",
        "age_groups_mean.to_csv('housing_data.csv', index=False)"
      ]
    },
    {
      "cell_type": "markdown",
      "metadata": {
        "id": "iAV4LwPZaEPE"
      },
      "source": [
        "### Final project : complete analysis and preprocessing\n",
        "\n",
        "The dataset used for this part is the file 'winemag-data-130k-v2.csv'. You can access it from blackboard and add it to your colab workspace."
      ]
    },
    {
      "cell_type": "markdown",
      "metadata": {
        "id": "Xm2toyRbk_-s"
      },
      "source": [
        "#### Read the new dataset"
      ]
    },
    {
      "cell_type": "code",
      "execution_count": 85,
      "metadata": {
        "id": "4OHS5LDkaFos"
      },
      "outputs": [],
      "source": [
        "# Read the csv\n",
        "dt = pd.read_csv('winemag_data.csv')"
      ]
    },
    {
      "cell_type": "code",
      "execution_count": 87,
      "metadata": {
        "id": "p3pini6Zjg1c",
        "colab": {
          "base_uri": "https://localhost:8080/"
        },
        "outputId": "0d88afb3-c099-401e-dea6-83c069496cec"
      },
      "outputs": [
        {
          "output_type": "stream",
          "name": "stdout",
          "text": [
            "(51576, 14)\n"
          ]
        }
      ],
      "source": [
        "# Check the shape\n",
        "dt.shape\n",
        "print(dt.shape)"
      ]
    },
    {
      "cell_type": "code",
      "execution_count": 89,
      "metadata": {
        "id": "V195bbRMkmOG",
        "colab": {
          "base_uri": "https://localhost:8080/"
        },
        "outputId": "b6f950a1-fb74-4e7e-a628-149cccd3756e"
      },
      "outputs": [
        {
          "output_type": "stream",
          "name": "stdout",
          "text": [
            "   Unnamed: 0   country                                        description  \\\n",
            "0           0     Italy  Aromas include tropical fruit, broom, brimston...   \n",
            "1           1  Portugal  This is ripe and fruity, a wine that is smooth...   \n",
            "2           2        US  Tart and snappy, the flavors of lime flesh and...   \n",
            "3           3        US  Pineapple rind, lemon pith and orange blossom ...   \n",
            "4           4        US  Much like the regular bottling from 2012, this...   \n",
            "\n",
            "                          designation  points  price           province  \\\n",
            "0                        Vulkà Bianco      87    NaN  Sicily & Sardinia   \n",
            "1                            Avidagos      87   15.0              Douro   \n",
            "2                                 NaN      87   14.0             Oregon   \n",
            "3                Reserve Late Harvest      87   13.0           Michigan   \n",
            "4  Vintner's Reserve Wild Child Block      87   65.0             Oregon   \n",
            "\n",
            "              region_1           region_2         taster_name  \\\n",
            "0                 Etna                NaN       Kerin O’Keefe   \n",
            "1                  NaN                NaN          Roger Voss   \n",
            "2    Willamette Valley  Willamette Valley        Paul Gregutt   \n",
            "3  Lake Michigan Shore                NaN  Alexander Peartree   \n",
            "4    Willamette Valley  Willamette Valley        Paul Gregutt   \n",
            "\n",
            "  taster_twitter_handle                                              title  \\\n",
            "0          @kerinokeefe                  Nicosia 2013 Vulkà Bianco  (Etna)   \n",
            "1            @vossroger      Quinta dos Avidagos 2011 Avidagos Red (Douro)   \n",
            "2           @paulgwine       Rainstorm 2013 Pinot Gris (Willamette Valley)   \n",
            "3                   NaN  St. Julian 2013 Reserve Late Harvest Riesling ...   \n",
            "4           @paulgwine   Sweet Cheeks 2012 Vintner's Reserve Wild Child...   \n",
            "\n",
            "          variety               winery  \n",
            "0     White Blend              Nicosia  \n",
            "1  Portuguese Red  Quinta dos Avidagos  \n",
            "2      Pinot Gris            Rainstorm  \n",
            "3        Riesling           St. Julian  \n",
            "4      Pinot Noir         Sweet Cheeks  \n"
          ]
        }
      ],
      "source": [
        "# Take a first look at the data\n",
        "print(dt.head())"
      ]
    },
    {
      "cell_type": "code",
      "execution_count": 90,
      "metadata": {
        "id": "mjyRQovlkpK_",
        "colab": {
          "base_uri": "https://localhost:8080/"
        },
        "outputId": "335caa47-29ce-4c30-b716-87e3bf90d46d"
      },
      "outputs": [
        {
          "output_type": "stream",
          "name": "stdout",
          "text": [
            "DataFrame after fixing the index:\n",
            "             country                                        description  \\\n",
            "Unnamed: 0                                                                \n",
            "0              Italy  Aromas include tropical fruit, broom, brimston...   \n",
            "1           Portugal  This is ripe and fruity, a wine that is smooth...   \n",
            "2                 US  Tart and snappy, the flavors of lime flesh and...   \n",
            "3                 US  Pineapple rind, lemon pith and orange blossom ...   \n",
            "4                 US  Much like the regular bottling from 2012, this...   \n",
            "\n",
            "                                   designation  points  price  \\\n",
            "Unnamed: 0                                                      \n",
            "0                                 Vulkà Bianco      87    NaN   \n",
            "1                                     Avidagos      87   15.0   \n",
            "2                                          NaN      87   14.0   \n",
            "3                         Reserve Late Harvest      87   13.0   \n",
            "4           Vintner's Reserve Wild Child Block      87   65.0   \n",
            "\n",
            "                     province             region_1           region_2  \\\n",
            "Unnamed: 0                                                              \n",
            "0           Sicily & Sardinia                 Etna                NaN   \n",
            "1                       Douro                  NaN                NaN   \n",
            "2                      Oregon    Willamette Valley  Willamette Valley   \n",
            "3                    Michigan  Lake Michigan Shore                NaN   \n",
            "4                      Oregon    Willamette Valley  Willamette Valley   \n",
            "\n",
            "                   taster_name taster_twitter_handle  \\\n",
            "Unnamed: 0                                             \n",
            "0                Kerin O’Keefe          @kerinokeefe   \n",
            "1                   Roger Voss            @vossroger   \n",
            "2                 Paul Gregutt           @paulgwine    \n",
            "3           Alexander Peartree                   NaN   \n",
            "4                 Paul Gregutt           @paulgwine    \n",
            "\n",
            "                                                        title         variety  \\\n",
            "Unnamed: 0                                                                      \n",
            "0                           Nicosia 2013 Vulkà Bianco  (Etna)     White Blend   \n",
            "1               Quinta dos Avidagos 2011 Avidagos Red (Douro)  Portuguese Red   \n",
            "2               Rainstorm 2013 Pinot Gris (Willamette Valley)      Pinot Gris   \n",
            "3           St. Julian 2013 Reserve Late Harvest Riesling ...        Riesling   \n",
            "4           Sweet Cheeks 2012 Vintner's Reserve Wild Child...      Pinot Noir   \n",
            "\n",
            "                         winery  \n",
            "Unnamed: 0                       \n",
            "0                       Nicosia  \n",
            "1           Quinta dos Avidagos  \n",
            "2                     Rainstorm  \n",
            "3                    St. Julian  \n",
            "4                  Sweet Cheeks  \n"
          ]
        }
      ],
      "source": [
        "# Fix the problem of the index\n",
        "dt.set_index('Unnamed: 0', inplace=True)\n",
        "print(\"DataFrame after fixing the index:\")\n",
        "print(dt.head())"
      ]
    },
    {
      "cell_type": "markdown",
      "metadata": {
        "id": "1IBOoHwGldkd"
      },
      "source": [
        "#### Index and select"
      ]
    },
    {
      "cell_type": "code",
      "execution_count": 91,
      "metadata": {
        "id": "VK2zltIvk2xp",
        "colab": {
          "base_uri": "https://localhost:8080/"
        },
        "outputId": "0ed33f4a-be7b-4193-acb0-14462afe0304"
      },
      "outputs": [
        {
          "output_type": "stream",
          "name": "stdout",
          "text": [
            "                                                     country  \\\n",
            "title                                                          \n",
            "Nicosia 2013 Vulkà Bianco  (Etna)                      Italy   \n",
            "Quinta dos Avidagos 2011 Avidagos Red (Douro)       Portugal   \n",
            "Rainstorm 2013 Pinot Gris (Willamette Valley)             US   \n",
            "St. Julian 2013 Reserve Late Harvest Riesling (...        US   \n",
            "Sweet Cheeks 2012 Vintner's Reserve Wild Child ...        US   \n",
            "\n",
            "                                                                                          description  \\\n",
            "title                                                                                                   \n",
            "Nicosia 2013 Vulkà Bianco  (Etna)                   Aromas include tropical fruit, broom, brimston...   \n",
            "Quinta dos Avidagos 2011 Avidagos Red (Douro)       This is ripe and fruity, a wine that is smooth...   \n",
            "Rainstorm 2013 Pinot Gris (Willamette Valley)       Tart and snappy, the flavors of lime flesh and...   \n",
            "St. Julian 2013 Reserve Late Harvest Riesling (...  Pineapple rind, lemon pith and orange blossom ...   \n",
            "Sweet Cheeks 2012 Vintner's Reserve Wild Child ...  Much like the regular bottling from 2012, this...   \n",
            "\n",
            "                                                                           designation  \\\n",
            "title                                                                                    \n",
            "Nicosia 2013 Vulkà Bianco  (Etna)                                         Vulkà Bianco   \n",
            "Quinta dos Avidagos 2011 Avidagos Red (Douro)                                 Avidagos   \n",
            "Rainstorm 2013 Pinot Gris (Willamette Valley)                                      NaN   \n",
            "St. Julian 2013 Reserve Late Harvest Riesling (...                Reserve Late Harvest   \n",
            "Sweet Cheeks 2012 Vintner's Reserve Wild Child ...  Vintner's Reserve Wild Child Block   \n",
            "\n",
            "                                                    points  price  \\\n",
            "title                                                               \n",
            "Nicosia 2013 Vulkà Bianco  (Etna)                       87    NaN   \n",
            "Quinta dos Avidagos 2011 Avidagos Red (Douro)           87   15.0   \n",
            "Rainstorm 2013 Pinot Gris (Willamette Valley)           87   14.0   \n",
            "St. Julian 2013 Reserve Late Harvest Riesling (...      87   13.0   \n",
            "Sweet Cheeks 2012 Vintner's Reserve Wild Child ...      87   65.0   \n",
            "\n",
            "                                                             province  \\\n",
            "title                                                                   \n",
            "Nicosia 2013 Vulkà Bianco  (Etna)                   Sicily & Sardinia   \n",
            "Quinta dos Avidagos 2011 Avidagos Red (Douro)                   Douro   \n",
            "Rainstorm 2013 Pinot Gris (Willamette Valley)                  Oregon   \n",
            "St. Julian 2013 Reserve Late Harvest Riesling (...           Michigan   \n",
            "Sweet Cheeks 2012 Vintner's Reserve Wild Child ...             Oregon   \n",
            "\n",
            "                                                               region_1  \\\n",
            "title                                                                     \n",
            "Nicosia 2013 Vulkà Bianco  (Etna)                                  Etna   \n",
            "Quinta dos Avidagos 2011 Avidagos Red (Douro)                       NaN   \n",
            "Rainstorm 2013 Pinot Gris (Willamette Valley)         Willamette Valley   \n",
            "St. Julian 2013 Reserve Late Harvest Riesling (...  Lake Michigan Shore   \n",
            "Sweet Cheeks 2012 Vintner's Reserve Wild Child ...    Willamette Valley   \n",
            "\n",
            "                                                             region_2  \\\n",
            "title                                                                   \n",
            "Nicosia 2013 Vulkà Bianco  (Etna)                                 NaN   \n",
            "Quinta dos Avidagos 2011 Avidagos Red (Douro)                     NaN   \n",
            "Rainstorm 2013 Pinot Gris (Willamette Valley)       Willamette Valley   \n",
            "St. Julian 2013 Reserve Late Harvest Riesling (...                NaN   \n",
            "Sweet Cheeks 2012 Vintner's Reserve Wild Child ...  Willamette Valley   \n",
            "\n",
            "                                                           taster_name  \\\n",
            "title                                                                    \n",
            "Nicosia 2013 Vulkà Bianco  (Etna)                        Kerin O’Keefe   \n",
            "Quinta dos Avidagos 2011 Avidagos Red (Douro)               Roger Voss   \n",
            "Rainstorm 2013 Pinot Gris (Willamette Valley)             Paul Gregutt   \n",
            "St. Julian 2013 Reserve Late Harvest Riesling (...  Alexander Peartree   \n",
            "Sweet Cheeks 2012 Vintner's Reserve Wild Child ...        Paul Gregutt   \n",
            "\n",
            "                                                   taster_twitter_handle  \\\n",
            "title                                                                      \n",
            "Nicosia 2013 Vulkà Bianco  (Etna)                           @kerinokeefe   \n",
            "Quinta dos Avidagos 2011 Avidagos Red (Douro)                 @vossroger   \n",
            "Rainstorm 2013 Pinot Gris (Willamette Valley)                @paulgwine    \n",
            "St. Julian 2013 Reserve Late Harvest Riesling (...                   NaN   \n",
            "Sweet Cheeks 2012 Vintner's Reserve Wild Child ...           @paulgwine    \n",
            "\n",
            "                                                           variety  \\\n",
            "title                                                                \n",
            "Nicosia 2013 Vulkà Bianco  (Etna)                      White Blend   \n",
            "Quinta dos Avidagos 2011 Avidagos Red (Douro)       Portuguese Red   \n",
            "Rainstorm 2013 Pinot Gris (Willamette Valley)           Pinot Gris   \n",
            "St. Julian 2013 Reserve Late Harvest Riesling (...        Riesling   \n",
            "Sweet Cheeks 2012 Vintner's Reserve Wild Child ...      Pinot Noir   \n",
            "\n",
            "                                                                 winery  \n",
            "title                                                                    \n",
            "Nicosia 2013 Vulkà Bianco  (Etna)                               Nicosia  \n",
            "Quinta dos Avidagos 2011 Avidagos Red (Douro)       Quinta dos Avidagos  \n",
            "Rainstorm 2013 Pinot Gris (Willamette Valley)                 Rainstorm  \n",
            "St. Julian 2013 Reserve Late Harvest Riesling (...           St. Julian  \n",
            "Sweet Cheeks 2012 Vintner's Reserve Wild Child ...         Sweet Cheeks  \n"
          ]
        }
      ],
      "source": [
        "# Change the current index for the column \"title\" (don't save this one)\n",
        "# Change index temporarily\n",
        "dt_title_index = dt.set_index('title')\n",
        "print(dt_title_index.head())  # This will show the DataFrame with the \"title\" column as the index temporarily\n",
        "\n"
      ]
    },
    {
      "cell_type": "code",
      "execution_count": 92,
      "metadata": {
        "id": "s0LlxA9dmMGC",
        "colab": {
          "base_uri": "https://localhost:8080/"
        },
        "outputId": "c121621b-8a67-4401-bc10-b7529a048623"
      },
      "outputs": [
        {
          "output_type": "stream",
          "name": "stdout",
          "text": [
            "            country                                        description  \\\n",
            "Unnamed: 0                                                               \n",
            "3                US  Pineapple rind, lemon pith and orange blossom ...   \n",
            "15          Germany  Zesty orange peels and apple notes abound in t...   \n",
            "47               US  This is a sweet wine with flavors of white sug...   \n",
            "76          Germany  Earthy pollen and mineral notes lend a savory ...   \n",
            "85          Germany  Pronounced dust, pollen and earth tones lend s...   \n",
            "\n",
            "                     designation  points  price     province  \\\n",
            "Unnamed: 0                                                     \n",
            "3           Reserve Late Harvest      87   13.0     Michigan   \n",
            "15                         Devon      87   24.0        Mosel   \n",
            "47                           NaN      86   13.0   California   \n",
            "76                           NaN      86    9.0  Rheinhessen   \n",
            "85                    Undone Dry      86   10.0  Rheinhessen   \n",
            "\n",
            "                       region_1 region_2         taster_name  \\\n",
            "Unnamed: 0                                                     \n",
            "3           Lake Michigan Shore      NaN  Alexander Peartree   \n",
            "15                          NaN      NaN  Anna Lee C. Iijima   \n",
            "47                  Lake County      NaN                 NaN   \n",
            "76                          NaN      NaN  Anna Lee C. Iijima   \n",
            "85                          NaN      NaN  Anna Lee C. Iijima   \n",
            "\n",
            "           taster_twitter_handle  \\\n",
            "Unnamed: 0                         \n",
            "3                            NaN   \n",
            "15                           NaN   \n",
            "47                           NaN   \n",
            "76                           NaN   \n",
            "85                           NaN   \n",
            "\n",
            "                                                        title   variety  \\\n",
            "Unnamed: 0                                                                \n",
            "3           St. Julian 2013 Reserve Late Harvest Riesling ...  Riesling   \n",
            "15                Richard Böcking 2013 Devon Riesling (Mosel)  Riesling   \n",
            "47               The White Knight 2011 Riesling (Lake County)  Riesling   \n",
            "76                  Schmitt Söhne 2015 Riesling (Rheinhessen)  Riesling   \n",
            "85          P.J. Valckenberg 2015 Undone Dry Riesling (Rhe...  Riesling   \n",
            "\n",
            "                      winery  \n",
            "Unnamed: 0                    \n",
            "3                 St. Julian  \n",
            "15           Richard Böcking  \n",
            "47          The White Knight  \n",
            "76             Schmitt Söhne  \n",
            "85          P.J. Valckenberg  \n"
          ]
        }
      ],
      "source": [
        "# Select only the reviews about the Riesling\n",
        "riesling_reviews = dt[dt['variety'] == 'Riesling']\n",
        "print(riesling_reviews.head())\n"
      ]
    },
    {
      "cell_type": "code",
      "execution_count": 94,
      "metadata": {
        "id": "HIoAl4UDmNfT",
        "colab": {
          "base_uri": "https://localhost:8080/"
        },
        "outputId": "78d171b1-39ea-431b-fad3-1702d2679f0c"
      },
      "outputs": [
        {
          "output_type": "stream",
          "name": "stdout",
          "text": [
            "            country                                        description  \\\n",
            "Unnamed: 0                                                               \n",
            "119          France  Medium-gold in color. Complex and inviting nos...   \n",
            "142              US  A beautiful wine, sleek, crisp and ultra-dry, ...   \n",
            "148         Germany  Crisp, pristine peach and apricot notes resona...   \n",
            "156         Germany  Approachably fruity yet nuanced and electrifyi...   \n",
            "162              US  More complex than the winery's appellation ble...   \n",
            "\n",
            "                                           designation  points  price  \\\n",
            "Unnamed: 0                                                              \n",
            "119         Schoenenbourg Grand Cru Vendanges Tardives      92   80.0   \n",
            "142                                                NaN      90   17.0   \n",
            "148                                                Dry      91   16.0   \n",
            "156                      Graacher Himmelreich Spätlese      91   14.0   \n",
            "162                                 Claiborne Vineyard      91   28.0   \n",
            "\n",
            "               province               region_1       region_2  \\\n",
            "Unnamed: 0                                                      \n",
            "119              Alsace                 Alsace            NaN   \n",
            "142          California  Santa Lucia Highlands  Central Coast   \n",
            "148         Rheinhessen                    NaN            NaN   \n",
            "156               Mosel                    NaN            NaN   \n",
            "162          California            Edna Valley  Central Coast   \n",
            "\n",
            "                   taster_name taster_twitter_handle  \\\n",
            "Unnamed: 0                                             \n",
            "119                        NaN                   NaN   \n",
            "142                        NaN                   NaN   \n",
            "148         Anna Lee C. Iijima                   NaN   \n",
            "156         Anna Lee C. Iijima                   NaN   \n",
            "162              Matt Kettmann         @mattkettmann   \n",
            "\n",
            "                                                        title   variety  \\\n",
            "Unnamed: 0                                                                \n",
            "119         Dopff & Irion 2004 Schoenenbourg Grand Cru Ven...  Riesling   \n",
            "142              Banyan 2007 Riesling (Santa Lucia Highlands)  Riesling   \n",
            "148         Weingut Liebfrauenstift 2014 Dry Riesling (Rhe...  Riesling   \n",
            "156         Carl Graff 2014 Graacher Himmelreich Spätlese ...  Riesling   \n",
            "162         Claiborne & Churchill 2014 Claiborne Vineyard ...  Riesling   \n",
            "\n",
            "                             winery  \n",
            "Unnamed: 0                           \n",
            "119                   Dopff & Irion  \n",
            "142                          Banyan  \n",
            "148         Weingut Liebfrauenstift  \n",
            "156                      Carl Graff  \n",
            "162           Claiborne & Churchill  \n",
            "Number of reviews about Riesling with 90+ points: 1067\n"
          ]
        }
      ],
      "source": [
        "# Select only the reviews about the Riesling AND 90+ points. How many are they ?\n",
        "riesling_90plus_reviews = dt[(dt['variety'] == 'Riesling') & (dt['points'] >= 90)]\n",
        "print(riesling_90plus_reviews.head())\n",
        "print(\"Number of reviews about Riesling with 90+ points:\", len(riesling_90plus_reviews))\n",
        "\n"
      ]
    },
    {
      "cell_type": "code",
      "execution_count": 95,
      "metadata": {
        "id": "tI3IXaPym7o8",
        "colab": {
          "base_uri": "https://localhost:8080/"
        },
        "outputId": "02217280-8d1d-48a5-be5b-094dc21ded41"
      },
      "outputs": [
        {
          "output_type": "stream",
          "name": "stdout",
          "text": [
            "            country                                        description  \\\n",
            "Unnamed: 0                                                               \n",
            "3                US  Pineapple rind, lemon pith and orange blossom ...   \n",
            "15          Germany  Zesty orange peels and apple notes abound in t...   \n",
            "47               US  This is a sweet wine with flavors of white sug...   \n",
            "76          Germany  Earthy pollen and mineral notes lend a savory ...   \n",
            "85          Germany  Pronounced dust, pollen and earth tones lend s...   \n",
            "\n",
            "                     designation  points  price     province  \\\n",
            "Unnamed: 0                                                     \n",
            "3           Reserve Late Harvest      87   13.0     Michigan   \n",
            "15                         Devon      87   24.0        Mosel   \n",
            "47                           NaN      86   13.0   California   \n",
            "76                           NaN      86    9.0  Rheinhessen   \n",
            "85                    Undone Dry      86   10.0  Rheinhessen   \n",
            "\n",
            "                       region_1 region_2         taster_name  \\\n",
            "Unnamed: 0                                                     \n",
            "3           Lake Michigan Shore      NaN  Alexander Peartree   \n",
            "15                          NaN      NaN  Anna Lee C. Iijima   \n",
            "47                  Lake County      NaN                 NaN   \n",
            "76                          NaN      NaN  Anna Lee C. Iijima   \n",
            "85                          NaN      NaN  Anna Lee C. Iijima   \n",
            "\n",
            "           taster_twitter_handle  \\\n",
            "Unnamed: 0                         \n",
            "3                            NaN   \n",
            "15                           NaN   \n",
            "47                           NaN   \n",
            "76                           NaN   \n",
            "85                           NaN   \n",
            "\n",
            "                                                        title   variety  \\\n",
            "Unnamed: 0                                                                \n",
            "3           St. Julian 2013 Reserve Late Harvest Riesling ...  Riesling   \n",
            "15                Richard Böcking 2013 Devon Riesling (Mosel)  Riesling   \n",
            "47               The White Knight 2011 Riesling (Lake County)  Riesling   \n",
            "76                  Schmitt Söhne 2015 Riesling (Rheinhessen)  Riesling   \n",
            "85          P.J. Valckenberg 2015 Undone Dry Riesling (Rhe...  Riesling   \n",
            "\n",
            "                      winery  \n",
            "Unnamed: 0                    \n",
            "3                 St. Julian  \n",
            "15           Richard Böcking  \n",
            "47          The White Knight  \n",
            "76             Schmitt Söhne  \n",
            "85          P.J. Valckenberg  \n"
          ]
        }
      ],
      "source": [
        "# Select only the reviews about the Riesling OR 90+ points\n",
        "riesling_or_90plus_reviews = dt[(dt['variety'] == 'Riesling') | (dt['points'] >= 90)]\n",
        "print(riesling_or_90plus_reviews.head())\n"
      ]
    },
    {
      "cell_type": "code",
      "execution_count": 96,
      "metadata": {
        "id": "m77jd6q0nKMG",
        "colab": {
          "base_uri": "https://localhost:8080/"
        },
        "outputId": "3590fd58-2769-42f4-d6b8-76d20f256efc"
      },
      "outputs": [
        {
          "output_type": "stream",
          "name": "stdout",
          "text": [
            "            country                                        description  \\\n",
            "Unnamed: 0                                                               \n",
            "7            France  This dry and restrained wine offers spice in p...   \n",
            "8           Germany  Savory dried thyme notes accent sunnier flavor...   \n",
            "9            France  This has great depth of flavor with its fresh ...   \n",
            "11           France  This is a dry wine, very spicy, with a tight, ...   \n",
            "15          Germany  Zesty orange peels and apple notes abound in t...   \n",
            "\n",
            "            designation  points  price     province region_1 region_2  \\\n",
            "Unnamed: 0                                                              \n",
            "7                   NaN      87   24.0       Alsace   Alsace      NaN   \n",
            "8                 Shine      87   12.0  Rheinhessen      NaN      NaN   \n",
            "9           Les Natures      87   27.0       Alsace   Alsace      NaN   \n",
            "11                  NaN      87   30.0       Alsace   Alsace      NaN   \n",
            "15                Devon      87   24.0        Mosel      NaN      NaN   \n",
            "\n",
            "                   taster_name taster_twitter_handle  \\\n",
            "Unnamed: 0                                             \n",
            "7                   Roger Voss            @vossroger   \n",
            "8           Anna Lee C. Iijima                   NaN   \n",
            "9                   Roger Voss            @vossroger   \n",
            "11                  Roger Voss            @vossroger   \n",
            "15          Anna Lee C. Iijima                   NaN   \n",
            "\n",
            "                                                        title         variety  \\\n",
            "Unnamed: 0                                                                      \n",
            "7                       Trimbach 2012 Gewurztraminer (Alsace)  Gewürztraminer   \n",
            "8           Heinz Eifel 2013 Shine Gewürztraminer (Rheinhe...  Gewürztraminer   \n",
            "9           Jean-Baptiste Adam 2012 Les Natures Pinot Gris...      Pinot Gris   \n",
            "11                    Leon Beyer 2012 Gewurztraminer (Alsace)  Gewürztraminer   \n",
            "15                Richard Böcking 2013 Devon Riesling (Mosel)        Riesling   \n",
            "\n",
            "                        winery  \n",
            "Unnamed: 0                      \n",
            "7                     Trimbach  \n",
            "8                  Heinz Eifel  \n",
            "9           Jean-Baptiste Adam  \n",
            "11                  Leon Beyer  \n",
            "15             Richard Böcking  \n"
          ]
        }
      ],
      "source": [
        "# Select wines from France and Germany\n",
        "wines_france_germany = dt[dt['country'].isin(['France', 'Germany'])]\n",
        "print(wines_france_germany.head())\n"
      ]
    },
    {
      "cell_type": "code",
      "execution_count": 97,
      "metadata": {
        "id": "BJhjFL5ynixn",
        "colab": {
          "base_uri": "https://localhost:8080/"
        },
        "outputId": "c9d467ed-6160-45a4-b87f-77c0b0ac1a94"
      },
      "outputs": [
        {
          "output_type": "stream",
          "name": "stdout",
          "text": [
            "Number of wine varieties from France and Germany: 138\n"
          ]
        }
      ],
      "source": [
        "# How many variety of wine are from France and Germany ?\n",
        "varieties_france_germany = wines_france_germany['variety'].unique()\n",
        "num_varieties = len(varieties_france_germany)\n",
        "print(\"Number of wine varieties from France and Germany:\", num_varieties)\n"
      ]
    },
    {
      "cell_type": "markdown",
      "metadata": {
        "id": "n4cXQoEGom2e"
      },
      "source": [
        "#### Summary functions"
      ]
    },
    {
      "cell_type": "code",
      "source": [
        "# How many taster are there ? Print a list of their names.\n",
        "num_tasters = dt['taster_name'].nunique()\n",
        "taster_names = dt['taster_name'].unique()\n",
        "\n",
        "print(\"Number of tasters:\", num_tasters)\n",
        "print(\"List of taster names:\", taster_names)\n"
      ],
      "metadata": {
        "colab": {
          "base_uri": "https://localhost:8080/"
        },
        "id": "9_dUd7TFJtPi",
        "outputId": "8f528605-1b3d-4eae-c358-95a3eb90d474"
      },
      "execution_count": 99,
      "outputs": [
        {
          "output_type": "stream",
          "name": "stdout",
          "text": [
            "Number of tasters: 19\n",
            "List of taster names: ['Kerin O’Keefe' 'Roger Voss' 'Paul Gregutt' 'Alexander Peartree'\n",
            " 'Michael Schachner' 'Anna Lee C. Iijima' 'Virginie Boone' 'Matt Kettmann'\n",
            " nan 'Sean P. Sullivan' 'Jim Gordon' 'Joe Czerwinski'\n",
            " 'Anne Krebiehl\\xa0MW' 'Lauren Buzzeo' 'Mike DeSimone' 'Jeff Jenssen'\n",
            " 'Susan Kostrzewa' 'Carrie Dykes' 'Fiona Adams' 'Christina Pickard']\n"
          ]
        }
      ]
    },
    {
      "cell_type": "code",
      "source": [
        "# How many reviews were written by each taster?\n",
        "reviews_by_taster = dt['taster_name'].value_counts()\n",
        "print(\"Reviews written by each taster:\")\n",
        "print(reviews_by_taster)\n"
      ],
      "metadata": {
        "colab": {
          "base_uri": "https://localhost:8080/"
        },
        "id": "km-662f8JwHZ",
        "outputId": "13bf3065-cf99-4f6f-e764-23ed293f5ba2"
      },
      "execution_count": 101,
      "outputs": [
        {
          "output_type": "stream",
          "name": "stdout",
          "text": [
            "Reviews written by each taster:\n",
            "Roger Voss            10228\n",
            "Michael Schachner      6096\n",
            "Kerin O’Keefe          4270\n",
            "Paul Gregutt           3845\n",
            "Virginie Boone         3713\n",
            "Matt Kettmann          2385\n",
            "Joe Czerwinski         2086\n",
            "Sean P. Sullivan       1864\n",
            "Anna Lee C. Iijima     1702\n",
            "Jim Gordon             1589\n",
            "Anne Krebiehl MW       1407\n",
            "Lauren Buzzeo           709\n",
            "Susan Kostrzewa         471\n",
            "Jeff Jenssen            182\n",
            "Mike DeSimone           169\n",
            "Alexander Peartree      153\n",
            "Carrie Dykes             40\n",
            "Fiona Adams              11\n",
            "Christina Pickard         3\n",
            "Name: taster_name, dtype: int64\n"
          ]
        }
      ]
    },
    {
      "cell_type": "markdown",
      "metadata": {
        "id": "xdOcewMWpycE"
      },
      "source": [
        "#### Group by"
      ]
    },
    {
      "cell_type": "code",
      "execution_count": 102,
      "metadata": {
        "id": "abri076jpe22",
        "colab": {
          "base_uri": "https://localhost:8080/"
        },
        "outputId": "caff8077-3d73-451b-b4e8-3b6250b11a28"
      },
      "outputs": [
        {
          "output_type": "stream",
          "name": "stdout",
          "text": [
            "Cheapest wine for each point value category:\n",
            "            points                                              title  price\n",
            "Unnamed: 0                                                                  \n",
            "23437           80      Terrenal 2013 Estate Bottled Malbec (Mendoza)    5.0\n",
            "33381           81  Viña Decana 2010 Crianza Tempranillo (Utiel-Re...    5.0\n",
            "49624           82                   Lagosta 2008 White (Vinho Verde)    5.0\n",
            "3950            83  Adega Cooperativa Ponte de Barca 2010 Escolha ...    5.0\n",
            "29553           84          Broke Ass 2009 Red Malbec-Syrah (Mendoza)    4.0\n",
            "1987            85  Felix Solis 2013 Flirty Bird Syrah (Vino de la...    4.0\n",
            "3167            86                   Anna Spinato NV Mini  (Prosecco)    5.0\n",
            "24592           87  In Situ 2008 Reserva Sauvignon Blanc (Aconcagu...    5.0\n",
            "44054           88   Ste. Chapelle 2001 Johannisberg Riesling (Idaho)    6.0\n",
            "42891           89   Borsao 2008 Monte Oton Garnacha (Campo de Borja)    7.0\n",
            "5145            90         Esser Cellars 2001 Chardonnay (California)    8.0\n",
            "34629           91  Herdade dos Machados 2012 Toutalga Red (Alente...    7.0\n",
            "29236           92  Aveleda 2011 Follies Fonte Nossa Senhora da Va...   11.0\n",
            "9609            93  Château Vincens 2011 Prestige Malbec-Merlot (C...   13.0\n",
            "23974           94         Quinta dos Murças 2011 Assobio Red (Douro)   13.0\n",
            "5011            95  Dunham 2010 Lewis Estate Vineyard Riesling (Co...   20.0\n",
            "40309           96               Isole e Olena 2010  Chianti Classico   27.0\n",
            "16524           97         Taylor Fladgate NV 325 Anniversary  (Port)   40.0\n",
            "1560            98  Pirouette 2008 Red Wine Red (Columbia Valley (...   50.0\n",
            "47428           99  Cayuse 2009 En Chamberlin Vineyard Syrah (Wall...   75.0\n",
            "45798          100    Cardinale 2006 Cabernet Sauvignon (Napa Valley)  200.0\n"
          ]
        }
      ],
      "source": [
        "# What's the cheapest wine for each point value category ?\n",
        "cheapest_wine_per_points = dt.groupby('points')['price'].idxmin()\n",
        "cheapest_wines = dt.loc[cheapest_wine_per_points, ['points', 'title', 'price']]\n",
        "print(\"Cheapest wine for each point value category:\")\n",
        "print(cheapest_wines)\n"
      ]
    },
    {
      "cell_type": "markdown",
      "metadata": {
        "id": "YSzpgT3jqoj3"
      },
      "source": [
        "#### Sort"
      ]
    },
    {
      "cell_type": "code",
      "execution_count": 104,
      "metadata": {
        "id": "CvIeb8u9qpkO",
        "colab": {
          "base_uri": "https://localhost:8080/"
        },
        "outputId": "679efacf-cb94-4b5f-b2df-88c58731e725"
      },
      "outputs": [
        {
          "output_type": "stream",
          "name": "stdout",
          "text": [
            "DataFrame sorted by descending price:\n",
            "           country                                        description  \\\n",
            "Unnamed: 0                                                              \n",
            "15840       France  The wine is a velvet glove in an iron fist. Th...   \n",
            "1558        France  A massive wine for Margaux, packed with tannin...   \n",
            "1575        France  The purest Cabernet Sauvignon fruit, with dark...   \n",
            "1571        France  Solid, very structured, packed with dense and ...   \n",
            "1566        France  Such a generous and ripe wine, with a dark cor...   \n",
            "\n",
            "           designation  points   price  province        region_1 region_2  \\\n",
            "Unnamed: 0                                                                  \n",
            "15840              NaN      96  2500.0  Bordeaux         Pomerol      NaN   \n",
            "1558               NaN      98  1900.0  Bordeaux         Margaux      NaN   \n",
            "1575               NaN      96  1300.0  Bordeaux        Pauillac      NaN   \n",
            "1571               NaN      96  1200.0  Bordeaux  Pessac-Léognan      NaN   \n",
            "1566               NaN      97  1100.0  Bordeaux  Pessac-Léognan      NaN   \n",
            "\n",
            "           taster_name taster_twitter_handle  \\\n",
            "Unnamed: 0                                     \n",
            "15840       Roger Voss            @vossroger   \n",
            "1558        Roger Voss            @vossroger   \n",
            "1575        Roger Voss            @vossroger   \n",
            "1571        Roger Voss            @vossroger   \n",
            "1566        Roger Voss            @vossroger   \n",
            "\n",
            "                                                        title  \\\n",
            "Unnamed: 0                                                      \n",
            "15840                            Château Pétrus 2014  Pomerol   \n",
            "1558                            Château Margaux 2009  Margaux   \n",
            "1575                 Château Mouton Rothschild 2009  Pauillac   \n",
            "1571                  Château Haut-Brion 2009  Pessac-Léognan   \n",
            "1566        Château La Mission Haut-Brion 2009  Pessac-Léo...   \n",
            "\n",
            "                             variety                         winery  \n",
            "Unnamed: 0                                                           \n",
            "15840       Bordeaux-style Red Blend                 Château Pétrus  \n",
            "1558        Bordeaux-style Red Blend                Château Margaux  \n",
            "1575        Bordeaux-style Red Blend      Château Mouton Rothschild  \n",
            "1571        Bordeaux-style Red Blend             Château Haut-Brion  \n",
            "1566        Bordeaux-style Red Blend  Château La Mission Haut-Brion  \n"
          ]
        }
      ],
      "source": [
        "# Sort the dataframe by descending price\n",
        "dt_sorted_by_price = dt.sort_values(by='price', ascending=False)\n",
        "print(\"DataFrame sorted by descending price:\")\n",
        "print(dt_sorted_by_price.head())\n"
      ]
    },
    {
      "cell_type": "code",
      "execution_count": 106,
      "metadata": {
        "id": "vt4BBhfuq3pO",
        "colab": {
          "base_uri": "https://localhost:8080/"
        },
        "outputId": "221736cf-a4db-4c6f-dbed-14f827091495"
      },
      "outputs": [
        {
          "output_type": "stream",
          "name": "stdout",
          "text": [
            "DataFrame sorted by descending points and price:\n",
            "              country                                        description  \\\n",
            "Unnamed: 0                                                                 \n",
            "45781           Italy  This gorgeous, fragrant wine opens with classi...   \n",
            "39286           Italy  A perfect wine from a classic vintage, the 200...   \n",
            "42197        Portugal  This is the latest release of what has long be...   \n",
            "345         Australia  This wine contains some material over 100 year...   \n",
            "36528          France  This is a fabulous wine from the greatest Cham...   \n",
            "\n",
            "            designation  points  price   province                region_1  \\\n",
            "Unnamed: 0                                                                  \n",
            "45781           Riserva     100  550.0    Tuscany  Brunello di Montalcino   \n",
            "39286           Masseto     100  460.0    Tuscany                 Toscana   \n",
            "42197       Barca-Velha     100  450.0      Douro                     NaN   \n",
            "345                Rare     100  350.0   Victoria              Rutherglen   \n",
            "36528              Brut     100  259.0  Champagne               Champagne   \n",
            "\n",
            "           region_2     taster_name taster_twitter_handle  \\\n",
            "Unnamed: 0                                                  \n",
            "45781           NaN   Kerin O’Keefe          @kerinokeefe   \n",
            "39286           NaN             NaN                   NaN   \n",
            "42197           NaN      Roger Voss            @vossroger   \n",
            "345             NaN  Joe Czerwinski                @JoeCz   \n",
            "36528           NaN      Roger Voss            @vossroger   \n",
            "\n",
            "                                                        title  \\\n",
            "Unnamed: 0                                                      \n",
            "45781       Biondi Santi 2010 Riserva  (Brunello di Montal...   \n",
            "39286       Tenuta dell'Ornellaia 2007 Masseto Merlot (Tos...   \n",
            "42197           Casa Ferreirinha 2008 Barca-Velha Red (Douro)   \n",
            "345         Chambers Rosewood Vineyards NV Rare Muscat (Ru...   \n",
            "36528                             Krug 2002 Brut  (Champagne)   \n",
            "\n",
            "                    variety                       winery  \n",
            "Unnamed: 0                                                \n",
            "45781            Sangiovese                 Biondi Santi  \n",
            "39286                Merlot        Tenuta dell'Ornellaia  \n",
            "42197        Portuguese Red             Casa Ferreirinha  \n",
            "345                  Muscat  Chambers Rosewood Vineyards  \n",
            "36528       Champagne Blend                         Krug  \n",
            "Correlation between points and price: 0.4334953265910061\n"
          ]
        }
      ],
      "source": [
        "# Sort the dataframe by descending points and price\n",
        "dt_sorted_by_points_price = dt.sort_values(by=['points', 'price'], ascending=[False, False])\n",
        "print(\"DataFrame sorted by descending points and price:\")\n",
        "print(dt_sorted_by_points_price.head())\n",
        "\n",
        "\n",
        "# Is the most expensive wine the best ?\n",
        "correlation = dt['points'].corr(dt['price'])\n",
        "print(\"Correlation between points and price:\", correlation)\n",
        "\n"
      ]
    },
    {
      "cell_type": "markdown",
      "metadata": {
        "id": "D-1sjusPrgrO"
      },
      "source": [
        "#### Missing values"
      ]
    },
    {
      "cell_type": "code",
      "execution_count": 107,
      "metadata": {
        "id": "yGSAqLSYrUCN",
        "colab": {
          "base_uri": "https://localhost:8080/"
        },
        "outputId": "8f85c8cb-569c-4693-d35b-248c8c7f875d"
      },
      "outputs": [
        {
          "output_type": "stream",
          "name": "stdout",
          "text": [
            "Number of missing data for each column:\n",
            "country                     28\n",
            "description                  0\n",
            "designation              14836\n",
            "points                       0\n",
            "price                     3629\n",
            "province                    28\n",
            "region_1                  8435\n",
            "region_2                 31721\n",
            "taster_name              10653\n",
            "taster_twitter_handle    12548\n",
            "title                        0\n",
            "variety                      0\n",
            "winery                       0\n",
            "dtype: int64\n"
          ]
        }
      ],
      "source": [
        "# How many missing data for each column ?\n",
        "missing_data_per_column = dt.isnull().sum()\n",
        "print(\"Number of missing data for each column:\")\n",
        "print(missing_data_per_column)\n"
      ]
    },
    {
      "cell_type": "code",
      "execution_count": 108,
      "metadata": {
        "id": "BYmWHFexvlcP"
      },
      "outputs": [],
      "source": [
        "# Fill the missing points by 'Unrated'\n",
        "dt['points'].fillna('Unrated', inplace=True)\n"
      ]
    },
    {
      "cell_type": "code",
      "execution_count": 109,
      "metadata": {
        "id": "8jJmo1uqrjf6"
      },
      "outputs": [],
      "source": [
        "# Fill the missing prices with the mean of all prices\n",
        "mean_price = dt['price'].mean()\n",
        "dt['price'].fillna(mean_price, inplace=True)\n"
      ]
    },
    {
      "cell_type": "code",
      "execution_count": 110,
      "metadata": {
        "id": "xItPJ07Tsbhi"
      },
      "outputs": [],
      "source": [
        "# Propose another filling method for another column\n",
        "dt['designation'].fillna('Unknown', inplace=True)\n"
      ]
    },
    {
      "cell_type": "markdown",
      "metadata": {
        "id": "bE2m8NkfsrPj"
      },
      "source": [
        "#### Rename"
      ]
    },
    {
      "cell_type": "code",
      "execution_count": 111,
      "metadata": {
        "id": "udSueiuCsdOh"
      },
      "outputs": [],
      "source": [
        "# Change the name of the column points to score\n",
        "dt.rename(columns={'points': 'score'}, inplace=True)\n"
      ]
    },
    {
      "cell_type": "markdown",
      "metadata": {
        "id": "d4lQ7jrJum8Q"
      },
      "source": [
        "#### Method chaining"
      ]
    },
    {
      "cell_type": "code",
      "execution_count": 112,
      "metadata": {
        "id": "Fiba9NbHtW4U",
        "colab": {
          "base_uri": "https://localhost:8080/"
        },
        "outputId": "0f51a340-3a00-4208-fee0-a20660c876bf"
      },
      "outputs": [
        {
          "output_type": "stream",
          "name": "stdout",
          "text": [
            "Unnamed: 0\n",
            "0        87.0\n",
            "1        87.0\n",
            "2        87.0\n",
            "3        87.0\n",
            "4        87.0\n",
            "         ... \n",
            "51571    90.0\n",
            "51572    90.0\n",
            "51573    90.0\n",
            "51574    90.0\n",
            "51575    90.0\n",
            "Name: score, Length: 51576, dtype: float64\n"
          ]
        }
      ],
      "source": [
        "# First way : store each results in a variable and use it for the next step\n",
        "\n",
        "# Select the score column\n",
        "score_column = dt['score']\n",
        "\n",
        "# Replace 'Unrated' by None\n",
        "score_column = score_column.replace('Unrated', None)\n",
        "\n",
        "# Drop None values\n",
        "score_column = score_column.dropna()\n",
        "\n",
        "# Change the type into float\n",
        "score_column = score_column.astype(float)\n",
        "\n",
        "# Print your series\n",
        "print(score_column)\n",
        "\n"
      ]
    },
    {
      "cell_type": "code",
      "execution_count": 113,
      "metadata": {
        "id": "XA_V07MTwkC3",
        "colab": {
          "base_uri": "https://localhost:8080/"
        },
        "outputId": "c5db6548-526e-4eb9-e44a-ae2b487f6bf4"
      },
      "outputs": [
        {
          "output_type": "stream",
          "name": "stdout",
          "text": [
            "Unnamed: 0\n",
            "0        87.0\n",
            "1        87.0\n",
            "2        87.0\n",
            "3        87.0\n",
            "4        87.0\n",
            "         ... \n",
            "51571    90.0\n",
            "51572    90.0\n",
            "51573    90.0\n",
            "51574    90.0\n",
            "51575    90.0\n",
            "Name: score, Length: 51576, dtype: float64\n"
          ]
        }
      ],
      "source": [
        "# Second way : chaine all the operations and do it in one go\n",
        "\n",
        "# Chain all the operations\n",
        "score_column = (\n",
        "    dt['score']\n",
        "    .replace('Unrated', None)\n",
        "    .dropna()\n",
        "    .astype(float)\n",
        ")\n",
        "\n",
        "# Print your series\n",
        "print(score_column)\n",
        "\n"
      ]
    },
    {
      "cell_type": "markdown",
      "metadata": {
        "id": "XgSzVLHjxk9t"
      },
      "source": [
        "#### Analysis\n",
        "\n",
        "Perform the analysis of the dataset. Comment on what you found interesting.\n",
        "\n",
        "You can use all the methods you have seen including plots."
      ]
    },
    {
      "cell_type": "code",
      "execution_count": 115,
      "metadata": {
        "id": "tyRFRGN1xBU2",
        "colab": {
          "base_uri": "https://localhost:8080/",
          "height": 1000
        },
        "outputId": "93e629c3-0ffb-4e5c-9dc5-acb0e8550b47"
      },
      "outputs": [
        {
          "output_type": "stream",
          "name": "stdout",
          "text": [
            "Descriptive Statistics:\n",
            "              score         price\n",
            "count  51576.000000  51576.000000\n",
            "mean      88.442376     35.362650\n",
            "std        3.056396     38.186453\n",
            "min       80.000000      4.000000\n",
            "25%       86.000000     18.000000\n",
            "50%       88.000000     28.000000\n",
            "75%       91.000000     40.000000\n",
            "max      100.000000   2500.000000\n"
          ]
        },
        {
          "output_type": "display_data",
          "data": {
            "text/plain": [
              "<Figure size 1000x600 with 1 Axes>"
            ],
            "image/png": "[encoded data removed]"
          },
          "metadata": {}
        },
        {
          "output_type": "display_data",
          "data": {
            "text/plain": [
              "<Figure size 1000x600 with 1 Axes>"
            ],
            "image/png": "[encoded data removed]"
          },
          "metadata": {}
        },
        {
          "output_type": "stream",
          "name": "stderr",
          "text": [
            "<ipython-input-115-77c5f04e828b>:25: FutureWarning: The default value of numeric_only in DataFrame.corr is deprecated. In a future version, it will default to False. Select only valid columns or specify the value of numeric_only to silence this warning.\n",
            "  correlation_matrix = dt.corr()\n"
          ]
        },
        {
          "output_type": "display_data",
          "data": {
            "text/plain": [
              "<Figure size 1200x800 with 2 Axes>"
            ],
            "image/png": "[encoded data removed]"
          },
          "metadata": {}
        }
      ],
      "source": [
        "import matplotlib.pyplot as plt\n",
        "import seaborn as sns\n",
        "\n",
        "# Descriptive statistics\n",
        "print(\"Descriptive Statistics:\")\n",
        "print(dt.describe())\n",
        "\n",
        "# Distribution of scores\n",
        "plt.figure(figsize=(10, 6))\n",
        "sns.histplot(dt['score'], bins=20, kde=True, color='skyblue')\n",
        "plt.title('Distribution of Scores')\n",
        "plt.xlabel('Score')\n",
        "plt.ylabel('Frequency')\n",
        "plt.show()\n",
        "\n",
        "# Distribution of prices\n",
        "plt.figure(figsize=(10, 6))\n",
        "sns.histplot(dt['price'], bins=50, kde=True, color='salmon')\n",
        "plt.title('Distribution of Prices')\n",
        "plt.xlabel('Price')\n",
        "plt.ylabel('Frequency')\n",
        "plt.show()\n",
        "\n",
        "# Correlation matrix\n",
        "correlation_matrix = dt.corr()\n",
        "plt.figure(figsize=(12, 8))\n",
        "sns.heatmap(correlation_matrix, annot=True, cmap='coolwarm', fmt='.2f')\n",
        "plt.title('Correlation Matrix')\n",
        "plt.show()\n"
      ]
    },
    {
      "cell_type": "markdown",
      "source": [
        "Variety Analysis:"
      ],
      "metadata": {
        "id": "Qvr3O38UNbi_"
      }
    },
    {
      "cell_type": "code",
      "source": [
        "# Count of each wine variety\n",
        "variety_counts = dt['variety'].value_counts()\n",
        "\n",
        "# Top 10 most common wine varieties\n",
        "top_varieties = variety_counts.head(10)\n",
        "print(\"Top 10 Most Common Wine Varieties:\")\n",
        "print(top_varieties)\n",
        "\n",
        "# Plot the top 10 varieties\n",
        "plt.figure(figsize=(12, 8))\n",
        "top_varieties.plot(kind='bar', color='lightblue')\n",
        "plt.title('Top 10 Most Common Wine Varieties')\n",
        "plt.xlabel('Wine Variety')\n",
        "plt.ylabel('Count')\n",
        "plt.xticks(rotation=45, ha='right')\n",
        "plt.show()\n"
      ],
      "metadata": {
        "colab": {
          "base_uri": "https://localhost:8080/",
          "height": 731
        },
        "id": "RQaRwXWANclc",
        "outputId": "c80ec4ec-85e9-40fc-e6e5-a4ddc1fc3be1"
      },
      "execution_count": 116,
      "outputs": [
        {
          "output_type": "stream",
          "name": "stdout",
          "text": [
            "Top 10 Most Common Wine Varieties:\n",
            "Pinot Noir                  5235\n",
            "Chardonnay                  4584\n",
            "Cabernet Sauvignon          3727\n",
            "Red Blend                   3597\n",
            "Bordeaux-style Red Blend    2694\n",
            "Riesling                    2076\n",
            "Sauvignon Blanc             2007\n",
            "Syrah                       1637\n",
            "Rosé                        1375\n",
            "Merlot                      1238\n",
            "Name: variety, dtype: int64\n"
          ]
        },
        {
          "output_type": "display_data",
          "data": {
            "text/plain": [
              "<Figure size 1200x800 with 1 Axes>"
            ],
            "image/png": "[encoded data removed]"
          },
          "metadata": {}
        }
      ]
    },
    {
      "cell_type": "markdown",
      "source": [
        "Country and Price Analysis:"
      ],
      "metadata": {
        "id": "JZq6X8YaNkDz"
      }
    },
    {
      "cell_type": "code",
      "source": [
        "# Average price of wine in each country\n",
        "average_price_by_country = dt.groupby('country')['price'].mean().sort_values(ascending=False)\n",
        "\n",
        "# Top 10 countries with the highest average wine price\n",
        "top_countries_prices = average_price_by_country.head(10)\n",
        "print(\"Top 10 Countries with the Highest Average Wine Price:\")\n",
        "print(top_countries_prices)\n",
        "\n",
        "# Plot the top 10 countries with the highest average wine price\n",
        "plt.figure(figsize=(12, 8))\n",
        "top_countries_prices.plot(kind='bar', color='coral')\n",
        "plt.title('Top 10 Countries with the Highest Average Wine Price')\n",
        "plt.xlabel('Country')\n",
        "plt.ylabel('Average Price')\n",
        "plt.xticks(rotation=45, ha='right')\n",
        "plt.show()\n"
      ],
      "metadata": {
        "colab": {
          "base_uri": "https://localhost:8080/",
          "height": 709
        },
        "id": "u1i9pGaNNmrS",
        "outputId": "085755e6-acf1-45d7-84ff-d4a94e74c63d"
      },
      "execution_count": 117,
      "outputs": [
        {
          "output_type": "stream",
          "name": "stdout",
          "text": [
            "Top 10 Countries with the Highest Average Wine Price:\n",
            "country\n",
            "Switzerland    97.000000\n",
            "Hungary        57.086957\n",
            "England        53.090805\n",
            "Germany        42.115984\n",
            "France         40.461502\n",
            "Italy          39.232511\n",
            "US             36.455948\n",
            "Canada         36.441392\n",
            "Australia      35.104214\n",
            "Lebanon        33.625000\n",
            "Name: price, dtype: float64\n"
          ]
        },
        {
          "output_type": "display_data",
          "data": {
            "text/plain": [
              "<Figure size 1200x800 with 1 Axes>"
            ],
            "image/png": "[encoded data removed]"
          },
          "metadata": {}
        }
      ]
    },
    {
      "cell_type": "markdown",
      "source": [
        "Variety and Price Analysis:"
      ],
      "metadata": {
        "id": "HWss3mAQNtol"
      }
    },
    {
      "cell_type": "code",
      "source": [
        "# Average price of each wine variety\n",
        "average_price_by_variety = dt.groupby('variety')['price'].mean().sort_values(ascending=False)\n",
        "\n",
        "# Top 10 varieties with the highest average price\n",
        "top_varieties_prices = average_price_by_variety.head(10)\n",
        "print(\"Top 10 Varieties with the Highest Average Price:\")\n",
        "print(top_varieties_prices)\n",
        "\n",
        "# Plot the top 10 varieties with the highest average price\n",
        "plt.figure(figsize=(12, 8))\n",
        "top_varieties_prices.plot(kind='bar', color='lightgreen')\n",
        "plt.title('Top 10 Varieties with the Highest Average Price')\n",
        "plt.xlabel('Wine Variety')\n",
        "plt.ylabel('Average Price')\n",
        "plt.xticks(rotation=45, ha='right')\n",
        "plt.show()\n"
      ],
      "metadata": {
        "colab": {
          "base_uri": "https://localhost:8080/",
          "height": 729
        },
        "id": "y1I4TevrNuPp",
        "outputId": "57fac79b-caf0-4a35-846c-4846919fd7a3"
      },
      "execution_count": 118,
      "outputs": [
        {
          "output_type": "stream",
          "name": "stdout",
          "text": [
            "Top 10 Varieties with the Highest Average Price:\n",
            "variety\n",
            "Terrantez           236.000000\n",
            "Bual                212.000000\n",
            "Muscadelle          137.200000\n",
            "Debit               130.000000\n",
            "Malbec-Cabernet     130.000000\n",
            "Furmint             121.363636\n",
            "Rosenmuskateller     92.681325\n",
            "Mazuelo              92.000000\n",
            "Vitovska             85.000000\n",
            "Mission              84.000000\n",
            "Name: price, dtype: float64\n"
          ]
        },
        {
          "output_type": "display_data",
          "data": {
            "text/plain": [
              "<Figure size 1200x800 with 1 Axes>"
            ],
            "image/png": "[encoded data removed]"
          },
          "metadata": {}
        }
      ]
    }
  ],
  "metadata": {
    "colab": {
      "provenance": []
    },
    "kernelspec": {
      "display_name": "Python 3",
      "name": "python3"
    },
    "language_info": {
      "codemirror_mode": {
        "name": "ipython",
        "version": 3
      },
      "file_extension": ".py",
      "mimetype": "text/x-python",
      "name": "python",
      "nbconvert_exporter": "python",
      "pygments_lexer": "ipython3",
      "version": "3.9.18"
    }
  },
  "nbformat": 4,
  "nbformat_minor": 0
}